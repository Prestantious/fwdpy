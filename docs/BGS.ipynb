{
 "cells": [
  {
   "cell_type": "markdown",
   "metadata": {},
   "source": [
    "# Example: background selection\n"
   ]
  },
  {
   "cell_type": "markdown",
   "metadata": {},
   "source": [
    "## Setting up the simulation\n",
    "* Neutral mutations will occur on the interval $[0,1)$.\n",
    "* Strongly-deleterious mutations will occur on the intervals $[-1,0)$ and $[1,2)$.\n",
    "* Recombination will be uniform throughout the region."
   ]
  },
  {
   "cell_type": "code",
   "execution_count": 1,
   "metadata": {
    "collapsed": false
   },
   "outputs": [
    {
     "name": "stdout",
     "output_type": "stream",
     "text": [
      "Populating the interactive namespace from numpy and matplotlib\n"
     ]
    }
   ],
   "source": [
    "#The next two lines let plots show up\n",
    "#in the notbook:\n",
    "%matplotlib inline \n",
    "%pylab inline \n",
    "#Use Pyhon 3's print a a function.\n",
    "#This future-proofs the code in the notebook\n",
    "from __future__ import print_function\n",
    "#Import fwdpy.  Give it a shorter name\n",
    "import fwdpy as fp\n",
    "#Import the module for summary statistics. Give it a shorter name\n",
    "import fwdpy.libseq as libseq\n",
    "##Other libs we need\n",
    "import numpy as np\n",
    "import pandas\n",
    "import math"
   ]
  },
  {
   "cell_type": "code",
   "execution_count": 2,
   "metadata": {
    "collapsed": true
   },
   "outputs": [],
   "source": [
    "#We're going to do some plots at the end.\n",
    "import matplotlib\n",
    "import matplotlib.pyplot as plt"
   ]
  },
  {
   "cell_type": "markdown",
   "metadata": {},
   "source": [
    "### Establishing 'regions' for mutation and recombination\n"
   ]
  },
  {
   "cell_type": "code",
   "execution_count": 3,
   "metadata": {
    "collapsed": false
   },
   "outputs": [],
   "source": [
    "# Where neutral mutations occur:\n",
    "nregions = [fp.Region(beg=0,end=1,weight=1)]"
   ]
  },
  {
   "cell_type": "code",
   "execution_count": 4,
   "metadata": {
    "collapsed": true
   },
   "outputs": [],
   "source": [
    "# Where selected mutations occur:\n",
    "sregions = [fp.ConstantS(beg=-1,end=0,weight=1,s=-0.05,h=1),\n",
    "            fp.ConstantS(beg=1,end=2,weight=1,s=-0.05,h=1)]"
   ]
  },
  {
   "cell_type": "code",
   "execution_count": 5,
   "metadata": {
    "collapsed": true
   },
   "outputs": [],
   "source": [
    "# Recombination:\n",
    "recregions = [fp.Region(beg=-1,end=2,weight=1)]"
   ]
  },
  {
   "cell_type": "markdown",
   "metadata": {},
   "source": [
    "### Population size and simulation length"
   ]
  },
  {
   "cell_type": "code",
   "execution_count": 6,
   "metadata": {
    "collapsed": true
   },
   "outputs": [],
   "source": [
    "#Population size\n",
    "N=1000\n",
    "#We'll evolve for 10N generations.\n",
    "#nlist is a list of population sizes over time.\n",
    "#len(nlist) is the length of the simulation\n",
    "#We use numpy arrays for speed and optimised RAM\n",
    "#use.  Note the dtype=np.uint32, which means 32-bit\n",
    "#unsigned integer. Failure to use this type will\n",
    "#cause a run-time error.\n",
    "nlist = np.array([N]*10*N,dtype=np.uint32)"
   ]
  },
  {
   "cell_type": "code",
   "execution_count": 7,
   "metadata": {
    "collapsed": true
   },
   "outputs": [],
   "source": [
    "#Initalize a random number generator with seed value of 101\n",
    "rng = fp.GSLrng(101)"
   ]
  },
  {
   "cell_type": "code",
   "execution_count": 8,
   "metadata": {
    "collapsed": false
   },
   "outputs": [],
   "source": [
    "#Simulate 4 replicate populations.  This uses C++11 threads behind the scenes:\n",
    "pops = fp.evolve_regions(rng,       #The random number generator \n",
    "                         4,         #The number of pops to simulate = number of threads to use.\n",
    "                         N,         #Initial population size for each of the 4 demes\n",
    "                         nlist[0:], #List of population sizes over time.\n",
    "                         0.005,     #Neutral mutation rate (per gamete, per generation)\n",
    "                         0.01,      #Deleterious mutation rate (per gamete, per generation)\n",
    "                         0.005,     #Recombination rate (per diploid, per generation)\n",
    "                         nregions,  #Defined above\n",
    "                         sregions,  #Defined above\n",
    "                         recregions)#Defined above"
   ]
  },
  {
   "cell_type": "code",
   "execution_count": 9,
   "metadata": {
    "collapsed": false
   },
   "outputs": [
    {
     "name": "stdout",
     "output_type": "stream",
     "text": [
      "4\n",
      "<type 'fwdpy.fwdpy.singlepop'>\n",
      "<type 'fwdpy.fwdpy.singlepop'>\n",
      "<type 'fwdpy.fwdpy.singlepop'>\n",
      "<type 'fwdpy.fwdpy.singlepop'>\n"
     ]
    }
   ],
   "source": [
    "#Now, pops is a Python list with len(pops) = 4\n",
    "#Each element's type is fwdpy.singlepop\n",
    "print(len(pops))\n",
    "for i in range(len(pops)):\n",
    "    print(type(pops[i]))\n",
    "                "
   ]
  },
  {
   "cell_type": "markdown",
   "metadata": {},
   "source": [
    "## Taking samples from simulated populations"
   ]
  },
  {
   "cell_type": "code",
   "execution_count": 10,
   "metadata": {
    "collapsed": false
   },
   "outputs": [
    {
     "name": "stdout",
     "output_type": "stream",
     "text": [
      "A sample from a population is a  <type 'tuple'>\n",
      "A sample from a population is a  <type 'tuple'>\n",
      "A sample from a population is a  <type 'tuple'>\n",
      "A sample from a population is a  <type 'tuple'>\n",
      "4\n"
     ]
    }
   ],
   "source": [
    "#Use a list comprehension to get a random sample of size\n",
    "#n = 20 from each replicate\n",
    "samples = [fp.get_samples(rng,i,20) for i in pops]\n",
    "\n",
    "#Samples is now a list of tuples of two lists.\n",
    "#Each list contains tuples of mutation positions and genotypes.\n",
    "#The first list represents neutral variants.\n",
    "#The second list represents variants affecting fitness ('selected' variants)\n",
    "#We will manipulate/analyze these genotypes, etc.,\n",
    "#in a later example\n",
    "for i in samples:\n",
    "    print (\"A sample from a population is a \",type(i))\n",
    "    \n",
    "print(len(samples))"
   ]
  },
  {
   "cell_type": "markdown",
   "metadata": {},
   "source": [
    "### Getting additional information about samples"
   ]
  },
  {
   "cell_type": "code",
   "execution_count": 11,
   "metadata": {
    "collapsed": true
   },
   "outputs": [],
   "source": [
    "#Again, use list comprehension to get the 'details' of each sample\n",
    "#Given that each object in samples is a tuple, and that the second\n",
    "#item in each tuple represents selected mutations, i[1] in the line\n",
    "#below means that we are getting the mutation information only for\n",
    "#selected variants\n",
    "details = [fp.get_sample_details(i[1],j) for i,j in zip(samples,pops)]"
   ]
  },
  {
   "cell_type": "code",
   "execution_count": 12,
   "metadata": {
    "collapsed": false
   },
   "outputs": [
    {
     "name": "stdout",
     "output_type": "stream",
     "text": [
      "    a  h       p     s\n",
      "0  35  1  0.0075 -0.05\n",
      "1   8  1  0.0040 -0.05\n",
      "2  18  1  0.0030 -0.05\n",
      "    a  h       p     s\n",
      "0  19  1  0.0100 -0.05\n",
      "1  13  1  0.0025 -0.05\n",
      "    a  h       p     s\n",
      "0  10  1  0.0090 -0.05\n",
      "1  29  1  0.0060 -0.05\n",
      "2  15  1  0.0035 -0.05\n",
      "    a  h       p     s\n",
      "0   1  1  0.0005 -0.05\n",
      "1  20  1  0.0065 -0.05\n",
      "2  33  1  0.0080 -0.05\n",
      "3   1  1  0.0005 -0.05\n"
     ]
    }
   ],
   "source": [
    "#details is now a list of pandas DataFrame objects\n",
    "#Each DataFrame has the following columns:\n",
    "#  a: mutation age (in generations)\n",
    "#  h: dominance of the mutation\n",
    "#  p: frequency of the mutation in the population\n",
    "#  s: selection coefficient of the mutation\n",
    "for i in details:\n",
    "    print(i)"
   ]
  },
  {
   "cell_type": "code",
   "execution_count": 13,
   "metadata": {
    "collapsed": false
   },
   "outputs": [
    {
     "name": "stdout",
     "output_type": "stream",
     "text": [
      "Number of sites in samples[0] = 3. Number of rows in DataFrame 0 = 3\n",
      "Number of sites in samples[1] = 2. Number of rows in DataFrame 1 = 2\n",
      "Number of sites in samples[2] = 3. Number of rows in DataFrame 2 = 3\n",
      "Number of sites in samples[3] = 4. Number of rows in DataFrame 3 = 4\n"
     ]
    }
   ],
   "source": [
    "#The order of the rows in each DataFrame is the\n",
    "#same as the order as the objects in 'samples':\n",
    "for i in range(len(samples)):\n",
    "    print(\"Number of sites in samples[\",i,\"] = \",\n",
    "          len(samples[i][1]),\". Number of rows in DataFrame \",i,\n",
    "          \" = \",len(details[i].index),sep=\"\")"
   ]
  },
  {
   "cell_type": "code",
   "execution_count": 14,
   "metadata": {
    "collapsed": true
   },
   "outputs": [],
   "source": [
    "#Pandas DataFrames are cool.\n",
    "#Let's add a column to each DataFrame\n",
    "#specifying the mutation position,\n",
    "#count of derived state,\n",
    "#and a \"replicate ID\"\n",
    "for i in range(len(details)):\n",
    "    ##samples[i][1] again is the selected mutations in the sample taken\n",
    "    ##from the i-th replicate\n",
    "    details[i]['pos']=[x[0] for x in samples[i][1]]               #Mutation position\n",
    "    details[i]['count']=[ x[1].count('1') for x in samples[i][1]] #No. occurrences of derived state in sample\n",
    "    details[i]['id']=[i]*len(details[i].index)                    #Replicate id"
   ]
  },
  {
   "cell_type": "code",
   "execution_count": 15,
   "metadata": {
    "collapsed": false
   },
   "outputs": [
    {
     "name": "stdout",
     "output_type": "stream",
     "text": [
      "This is the merged table:\n",
      "    a  h       p     s       pos  count  id\n",
      "0  35  1  0.0075 -0.05  1.191983      1   0\n",
      "1   8  1  0.0040 -0.05  1.629000      1   0\n",
      "2  18  1  0.0030 -0.05  1.721135      1   0\n",
      "0  19  1  0.0100 -0.05  1.232333      1   1\n",
      "1  13  1  0.0025 -0.05  1.710726      1   1\n",
      "0  10  1  0.0090 -0.05 -0.743740      1   2\n",
      "1  29  1  0.0060 -0.05 -0.513952      1   2\n",
      "2  15  1  0.0035 -0.05 -0.283127      1   2\n",
      "0   1  1  0.0005 -0.05 -0.734266      1   3\n",
      "1  20  1  0.0065 -0.05 -0.004909      1   3\n",
      "2  33  1  0.0080 -0.05  1.460910      1   3\n",
      "3   1  1  0.0005 -0.05  1.698163      1   3\n"
     ]
    }
   ],
   "source": [
    "##Merge into 1 big DataFrame:\n",
    "BigTable = pandas.concat(details)\n",
    "\n",
    "print(\"This is the merged table:\")\n",
    "print(BigTable)"
   ]
  },
  {
   "cell_type": "markdown",
   "metadata": {},
   "source": [
    "## Summary statistics from samples\n",
    "\n",
    "The sub-module fwdpy.libseq (which we have imported as 'libseq') has a function, 'summstats', which calculates many commonly-used summaries of variation data."
   ]
  },
  {
   "cell_type": "code",
   "execution_count": 16,
   "metadata": {
    "collapsed": false
   },
   "outputs": [
    {
     "name": "stdout",
     "output_type": "stream",
     "text": [
      "          stat      value\n",
      "0      thetapi  20.447368\n",
      "1  dsingletons  14.000000\n",
      "2            S  65.000000\n",
      "3         tajd   0.471357\n",
      "4   singletons  14.000000\n",
      "5       thetah  11.447368\n",
      "6       hprime   0.877725\n",
      "7       thetaw  18.321525\n",
      "0      thetapi  11.342105\n",
      "1  dsingletons  13.000000\n",
      "2            S  49.000000\n",
      "3         tajd  -0.718929\n",
      "4   singletons  13.000000\n",
      "5       thetah  12.763158\n",
      "6       hprime  -0.181022\n",
      "7       thetaw  13.811611\n",
      "0      thetapi  15.378947\n",
      "1  dsingletons  14.000000\n",
      "2            S  59.000000\n",
      "3         tajd  -0.304694\n",
      "4   singletons  14.000000\n",
      "5       thetah  15.778947\n",
      "6       hprime  -0.042769\n",
      "7       thetaw  16.630307\n",
      "0      thetapi  11.868421\n",
      "1  dsingletons  15.000000\n",
      "2            S  49.000000\n",
      "3         tajd  -0.565706\n",
      "4   singletons  15.000000\n",
      "5       thetah   6.973684\n",
      "6       hprime   0.623519\n",
      "7       thetaw  13.811611\n",
      "          stat     value\n",
      "0      thetapi  0.300000\n",
      "1  dsingletons  3.000000\n",
      "2            S  3.000000\n",
      "3         tajd -1.723310\n",
      "4   singletons  3.000000\n",
      "5       thetah  0.015789\n",
      "6       hprime  0.347472\n",
      "7       thetaw  0.845609\n",
      "0      thetapi  0.200000\n",
      "1  dsingletons  2.000000\n",
      "2            S  2.000000\n",
      "3         tajd -1.512836\n",
      "4   singletons  2.000000\n",
      "5       thetah  0.010526\n",
      "6       hprime  0.299199\n",
      "7       thetaw  0.563739\n",
      "0      thetapi  0.300000\n",
      "1  dsingletons  3.000000\n",
      "2            S  3.000000\n",
      "3         tajd -1.723310\n",
      "4   singletons  3.000000\n",
      "5       thetah  0.015789\n",
      "6       hprime  0.347472\n",
      "7       thetaw  0.845609\n",
      "0      thetapi  0.400000\n",
      "1  dsingletons  4.000000\n",
      "2            S  4.000000\n",
      "3         tajd -1.867878\n",
      "4   singletons  4.000000\n",
      "5       thetah  0.021053\n",
      "6       hprime  0.382404\n",
      "7       thetaw  1.127478\n"
     ]
    }
   ],
   "source": [
    "##This is an example of where you can do a lot in a 1-liner.\n",
    "##We use nested list comprehensions to:\n",
    "##  1. Get summary statistics for each element in samples.  We do neutral mutations (element 0)\n",
    "##     and selected mutations (element 1) separately.\n",
    "##  2. Turn each dict from libseq.summstats into a pandas.DataFrame\n",
    "##  3. Combine all those DataFrame objects into one large DataFrame\n",
    "NeutralMutStats=pandas.concat([pandas.DataFrame(i.items(),columns=['stat','value']) \n",
    "                               for i in [libseq.summstats(j[0]) for j in samples]])\n",
    "SelectedMutStats=pandas.concat([pandas.DataFrame(i.items(),columns=['stat','value'])\n",
    "                               for i in [libseq.summstats(j[1]) for j in samples]])\n",
    "print(NeutralMutStats)\n",
    "print(SelectedMutStats)"
   ]
  },
  {
   "cell_type": "markdown",
   "metadata": {
    "collapsed": true
   },
   "source": [
    "### The average $\\pi$ under the model\n",
    "\n",
    "Under the BGS model, the expectation of $\\pi$ is $E[\\pi]=\\pi_0e^{-\\frac{U}{2sh+r}},$ $U$ is the mutation rate to strongly-deleterious variants, $\\pi_0$ is the value expected in the absence of BGS (_i.e._ $\\pi_0 = \\theta = 4N_e\\mu$), $s$ and $h$ are the selection and dominance coefficients, and $r$ is the recombination rate.\n",
    "\n",
    "Note that the definition of $U$ is _per diploid_, meaning twice the per gamete rate. (See Hudson and Kaplan (1995) PMC1206891 for details).\n",
    "\n",
    "For our parameters, we have $E[\\pi] = 20e^{-\\frac{0.02}{0.1+0.005}},$ which equals:"
   ]
  },
  {
   "cell_type": "code",
   "execution_count": 17,
   "metadata": {
    "collapsed": false
   },
   "outputs": [
    {
     "name": "stdout",
     "output_type": "stream",
     "text": [
      "16.5313087525\n"
     ]
    }
   ],
   "source": [
    "print(20*math.exp(-0.02/(0.1+0.005)))"
   ]
  },
  {
   "cell_type": "markdown",
   "metadata": {},
   "source": [
    "Now, let's get the average $\\pi$ from 500 simulated replicates.  We already have four replicates that we did above, so we'll run another 124 sets of four populations.  \n",
    "\n",
    "We will use standard Python to grow \"pn\", which is our list of $\\pi$ values calculated from neutral mutations from each replicate."
   ]
  },
  {
   "cell_type": "code",
   "execution_count": 18,
   "metadata": {
    "collapsed": false
   },
   "outputs": [],
   "source": [
    "for i in range(0,124,1):\n",
    "    pops = fp.evolve_regions(rng,  \n",
    "                         4,        \n",
    "                         N,        \n",
    "                         nlist[0:],\n",
    "                         0.005,    \n",
    "                         0.01,     \n",
    "                         0.005,    \n",
    "                         nregions, \n",
    "                         sregions, \n",
    "                         recregions)\n",
    "    ##This is another heavy one-liner.\n",
    "    ##We're taking samples of n=20 from each pop,\n",
    "    ##Getting summstats for each neutral block from each sample,\n",
    "    ##Turning the dict into pandas DataFrame objects,\n",
    "    ##and returning a big DataFrame for all the data.\n",
    "    temp = pandas.concat([pandas.DataFrame(i.items(),columns=['stat','value']) \n",
    "                          for i in [libseq.summstats(j[0]) for j in [fp.get_samples(rng,k,20) for k in pops]]])\n",
    "    NeutralMutStats=pandas.concat([NeutralMutStats,temp])"
   ]
  },
  {
   "cell_type": "markdown",
   "metadata": {},
   "source": [
    "#### Getting the mean diversity\n",
    "We've collected everything into a big pandas DataFrame.  We can easily get the mean using the built-in groupby and mean functions.  \n",
    "\n",
    "For users happier in R, you could write this DataFrame to a text file and process it using R's [dplyr](http://cran.r-project.org/web/packages/dplyr/index.html) package, which is a really excellent tool for this sort of thing."
   ]
  },
  {
   "cell_type": "code",
   "execution_count": 19,
   "metadata": {
    "collapsed": false
   },
   "outputs": [
    {
     "data": {
      "text/html": [
       "<div>\n",
       "<table border=\"1\" class=\"dataframe\">\n",
       "  <thead>\n",
       "    <tr style=\"text-align: right;\">\n",
       "      <th></th>\n",
       "      <th>value</th>\n",
       "    </tr>\n",
       "    <tr>\n",
       "      <th>stat</th>\n",
       "      <th></th>\n",
       "    </tr>\n",
       "  </thead>\n",
       "  <tbody>\n",
       "    <tr>\n",
       "      <th>S</th>\n",
       "      <td>58.878000</td>\n",
       "    </tr>\n",
       "    <tr>\n",
       "      <th>dsingletons</th>\n",
       "      <td>17.016000</td>\n",
       "    </tr>\n",
       "    <tr>\n",
       "      <th>hprime</th>\n",
       "      <td>0.025761</td>\n",
       "    </tr>\n",
       "    <tr>\n",
       "      <th>singletons</th>\n",
       "      <td>17.902000</td>\n",
       "    </tr>\n",
       "    <tr>\n",
       "      <th>tajd</th>\n",
       "      <td>-0.099714</td>\n",
       "    </tr>\n",
       "    <tr>\n",
       "      <th>thetah</th>\n",
       "      <td>16.366926</td>\n",
       "    </tr>\n",
       "    <tr>\n",
       "      <th>thetapi</th>\n",
       "      <td>16.358968</td>\n",
       "    </tr>\n",
       "    <tr>\n",
       "      <th>thetaw</th>\n",
       "      <td>16.595919</td>\n",
       "    </tr>\n",
       "  </tbody>\n",
       "</table>\n",
       "</div>"
      ],
      "text/plain": [
       "                 value\n",
       "stat                  \n",
       "S            58.878000\n",
       "dsingletons  17.016000\n",
       "hprime        0.025761\n",
       "singletons   17.902000\n",
       "tajd         -0.099714\n",
       "thetah       16.366926\n",
       "thetapi      16.358968\n",
       "thetaw       16.595919"
      ]
     },
     "execution_count": 19,
     "metadata": {},
     "output_type": "execute_result"
    }
   ],
   "source": [
    "NeutralMutStats.groupby(['stat']).mean()"
   ]
  },
  {
   "cell_type": "markdown",
   "metadata": {},
   "source": [
    "The 'thetapi' record is our mean $\\pi$ from all of the simulations, and it is quite close to the theoretical value. "
   ]
  }
 ],
 "metadata": {
  "kernelspec": {
   "display_name": "Python 2",
   "language": "python",
   "name": "python2"
  },
  "language_info": {
   "codemirror_mode": {
    "name": "ipython",
    "version": 2
   },
   "file_extension": ".py",
   "mimetype": "text/x-python",
   "name": "python",
   "nbconvert_exporter": "python",
   "pygments_lexer": "ipython2",
   "version": "2.7.6"
  }
 },
 "nbformat": 4,
 "nbformat_minor": 0
}
