{
 "cells": [
  {
   "cell_type": "markdown",
   "metadata": {},
   "source": [
    "# Example: Sliding windows\n",
    "\n",
    "This is an example of running a simulation and getting a set of sliding windows from the output"
   ]
  },
  {
   "cell_type": "code",
   "execution_count": 1,
   "metadata": {
    "collapsed": false
   },
   "outputs": [],
   "source": [
    "#import our modules\n",
    "from __future__ import print_function\n",
    "import fwdpy as fp\n",
    "import fwdpy.libseq as lseq\n",
    "import pandas\n",
    "import numpy as np\n",
    "import datetime\n",
    "import time"
   ]
  },
  {
   "cell_type": "code",
   "execution_count": 2,
   "metadata": {
    "collapsed": false
   },
   "outputs": [
    {
     "name": "stdout",
     "output_type": "stream",
     "text": [
      "This example was processed using  {'fwdpy': '0.0.1'} on 9 / 23 / 2015\n",
      "The dependency versions are {'libsequence': '1.8.7', 'GSL': '1.16', 'fwdpp': '0.3.8'}\n"
     ]
    }
   ],
   "source": [
    "##Info\n",
    "dt=datetime.datetime.now()\n",
    "print(\"This example was processed using \",fp.pkg_version(), \"on\",dt.month,\"/\",dt.day,\"/\",dt.year)\n",
    "print(\"The dependency versions are\",fp.pkg_dependencies())\n"
   ]
  },
  {
   "cell_type": "code",
   "execution_count": 3,
   "metadata": {
    "collapsed": false
   },
   "outputs": [],
   "source": [
    "#set up our sim\n",
    "rng = fp.GSLrng(101)\n",
    "nregions = [fp.Region(0,1,1),fp.Region(2,3,1)]\n",
    "sregions = [fp.ExpS(1,2,1,-0.1),fp.ExpS(1,2,0.1,0.001)]\n",
    "rregions = [fp.Region(0,3,1)]\n",
    "popsizes = np.array([1000]*10000,dtype=np.uint32)"
   ]
  },
  {
   "cell_type": "code",
   "execution_count": 4,
   "metadata": {
    "collapsed": true
   },
   "outputs": [],
   "source": [
    "#Run the sim\n",
    "pops = fp.evolve_regions(rng,4,1000,popsizes[0:],0.001,0.0001,0.001,nregions,sregions,rregions)"
   ]
  },
  {
   "cell_type": "code",
   "execution_count": 5,
   "metadata": {
    "collapsed": true
   },
   "outputs": [],
   "source": [
    "#Take samples from the simulation\n",
    "samples = [fp.get_samples(rng,i,20) for i in pops]"
   ]
  },
  {
   "cell_type": "markdown",
   "metadata": {},
   "source": [
    "## Calculating sliding windows"
   ]
  },
  {
   "cell_type": "code",
   "execution_count": 6,
   "metadata": {
    "collapsed": false
   },
   "outputs": [],
   "source": [
    "#For each of the neutral mutations in each sample, we will split\n",
    "#the samples up into non-overlapping windows of size 0.1\n",
    "windows = [lseq.windows(i[0],0.1,0.1,0.,3) for i in samples]"
   ]
  },
  {
   "cell_type": "markdown",
   "metadata": {},
   "source": [
    "### Summary stats from each window"
   ]
  },
  {
   "cell_type": "code",
   "execution_count": 7,
   "metadata": {
    "collapsed": false
   },
   "outputs": [],
   "source": [
    "#For each window in each sample, get the basic summary statistics\n",
    "stats = [[lseq.summstats(i) for i in j] for j in windows]"
   ]
  },
  {
   "cell_type": "markdown",
   "metadata": {},
   "source": [
    "Printing these outputs will be messy as the output is a bunch of dict objects.  Let's merge all the output into a giant pandas.DataFrame for easier handling."
   ]
  },
  {
   "cell_type": "code",
   "execution_count": 8,
   "metadata": {
    "collapsed": false,
    "scrolled": false
   },
   "outputs": [
    {
     "name": "stdout",
     "output_type": "stream",
     "text": [
      "   S  dsingletons    hprime  singletons      tajd    thetah   thetapi  \\\n",
      "0  0            0       NaN           0       NaN  0.000000  0.000000   \n",
      "1  0            0       NaN           0       NaN  0.000000  0.000000   \n",
      "2  0            0       NaN           0       NaN  0.000000  0.000000   \n",
      "3  1            0 -1.871112           0  0.722614  1.184211  0.394737   \n",
      "4  0            0       NaN           0       NaN  0.000000  0.000000   \n",
      "\n",
      "    thetaw  replicate  starts  stops  \n",
      "0  0.00000          0     0.0    0.1  \n",
      "1  0.00000          0     0.1    0.2  \n",
      "2  0.00000          0     0.2    0.3  \n",
      "3  0.28187          0     0.3    0.4  \n",
      "4  0.00000          0     0.4    0.5  \n",
      "    S  dsingletons    hprime  singletons      tajd    thetah   thetapi  \\\n",
      "25  0            0       NaN           0       NaN  0.000000  0.000000   \n",
      "26  2            1  0.498665           1  0.063253  0.263158  0.578947   \n",
      "27  0            0       NaN           0       NaN  0.000000  0.000000   \n",
      "28  1            0 -1.397097           0  1.025883  1.031579  0.442105   \n",
      "29  1            1  0.224533           1 -1.164391  0.005263  0.100000   \n",
      "\n",
      "      thetaw  replicate  starts  stops  \n",
      "25  0.000000          3     2.5    2.6  \n",
      "26  0.563739          3     2.6    2.7  \n",
      "27  0.000000          3     2.7    2.8  \n",
      "28  0.281870          3     2.8    2.9  \n",
      "29  0.281870          3     2.9    3.0  \n"
     ]
    }
   ],
   "source": [
    "allstats=pandas.DataFrame()\n",
    "starts = np.arange(0.,3.,0.1)\n",
    "stops = starts + 0.1\n",
    "\n",
    "for i in range(len(stats)):\n",
    "    temp = pandas.DataFrame.from_dict(stats[i])\n",
    "    temp['replicate']=[i]*len(temp.index)\n",
    "    temp['starts']=starts\n",
    "    temp['stops']=stops\n",
    "    allstats=pandas.concat([allstats,temp])\n",
    "\n",
    "#Now, that's cleaner!\n",
    "print (allstats.head())\n",
    "print (allstats.tail())"
   ]
  }
 ],
 "metadata": {
  "kernelspec": {
   "display_name": "Python 2",
   "language": "python",
   "name": "python2"
  },
  "language_info": {
   "codemirror_mode": {
    "name": "ipython",
    "version": 2
   },
   "file_extension": ".py",
   "mimetype": "text/x-python",
   "name": "python",
   "nbconvert_exporter": "python",
   "pygments_lexer": "ipython2",
   "version": "2.7.6"
  }
 },
 "nbformat": 4,
 "nbformat_minor": 0
}
