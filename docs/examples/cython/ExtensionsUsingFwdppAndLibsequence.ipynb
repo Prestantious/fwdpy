{
 "cells": [
  {
   "cell_type": "code",
   "execution_count": 1,
   "metadata": {
    "collapsed": true
   },
   "outputs": [],
   "source": [
    "%load_ext Cython"
   ]
  },
  {
   "cell_type": "markdown",
   "metadata": {},
   "source": [
    "# Integrating fwdpy with fwdpp and libsequence"
   ]
  },
  {
   "cell_type": "markdown",
   "metadata": {},
   "source": [
    "## Run some simulations"
   ]
  },
  {
   "cell_type": "code",
   "execution_count": 2,
   "metadata": {
    "collapsed": false,
    "deletable": true,
    "editable": true
   },
   "outputs": [],
   "source": [
    "import fwdpy as fp\n",
    "import fwdpy.fwdpyio as fpio\n",
    "import multiprocessing as mp\n",
    "import numpy as np"
   ]
  },
  {
   "cell_type": "code",
   "execution_count": 3,
   "metadata": {
    "collapsed": false,
    "deletable": true,
    "editable": true
   },
   "outputs": [],
   "source": [
    "#We will simulate 10 replicate populations using\n",
    "#Python's multiprocessing functionality.\n",
    "\n",
    "def simpop(seed):\n",
    "    \"\"\"\n",
    "    This function does the evolution\n",
    "    and returns a serialized population\n",
    "    \"\"\"\n",
    "    N=1000\n",
    "    theta=100.\n",
    "    nlist=np.array([N]*(10*N),dtype=np.uint32)\n",
    "    rng = fp.GSLrng(seed)\n",
    "    nregions=[fp.Region(0,1,1)]\n",
    "    sregions=[]\n",
    "    recregions=nregions\n",
    "    #Simulate 10 populations\n",
    "    pops = fp.evolve_regions(rng,1,N,nlist,theta/(4.*float(N)),\n",
    "                             0.,theta/(4.*float(N)),\n",
    "                             nregions,sregions,recregions)\n",
    "    #return the population as a binary string\n",
    "    return fpio.serialize(pops[0])\n",
    "\n",
    "#Run 100 sims via a multiprocessing pool\n",
    "seeds=[(i) for i in np.random.randint(0,42000000,100)]\n",
    "#Auto-determine degree of parallelism\n",
    "P=mp.Pool()\n",
    "serialized_pops = [i for i in P.imap_unordered(simpop,seeds)]\n",
    "P.close()\n",
    "P.join()\n",
    "pops = fpio.deserialize_singlepops(serialized_pops)"
   ]
  },
  {
   "cell_type": "markdown",
   "metadata": {},
   "source": [
    "## Calculate nucleotide diversity for a sample from each simulated replicate\n",
    "\n",
    "The next block of code is pure Python.  The function `pi_from_libsequence` uses [pylibseq](https://molpopgen.github.io/pylibseq) to calculate nucleotide diversity in a sample of size $n=100$.  The Python package pylibseq is based on the C++11 library [libsequence](https://molpopgen.github.io/libsequence)"
   ]
  },
  {
   "cell_type": "code",
   "execution_count": 4,
   "metadata": {
    "collapsed": false
   },
   "outputs": [],
   "source": [
    "import libsequence.polytable as pt\n",
    "import libsequence.summstats as st\n",
    "\n",
    "def pi_using_pylibseq(rng,x,nsam):\n",
    "    s=fp.ms_sample(rng,x,nsam)\n",
    "    d=pt.SimData()\n",
    "    d.assign(s)\n",
    "    ad=st.PolySIM(d)\n",
    "    return ad.thetapi()"
   ]
  },
  {
   "cell_type": "markdown",
   "metadata": {},
   "source": [
    "Behind the scenes, [Cython](http://www.cython.org) is used to pass the simulated population's data back to functions from both the [fwdpp](http://molpopgen.github.io) and [libsequence](https://molpopgen.github.io/libsequence) libraries.\n",
    "\n",
    "fwdpy exposes a lot of the [fwdpp](http://molpopgen.github.io) API to you via Cython, and [pylibseq](https://molpopgen.github.io/pylibseq) gives you access to what you need from [libsequence](https://molpopgen.github.io/libsequence) to analyze simulation output.\n",
    "\n",
    "Let's re-implement `py_using_pylibseq` ourselves, so we can see some of what we can do:"
   ]
  },
  {
   "cell_type": "markdown",
   "metadata": {},
   "source": [
    "### Calculate nucleotide diversity using fwdpy's Cython APIs"
   ]
  },
  {
   "cell_type": "code",
   "execution_count": 5,
   "metadata": {
    "collapsed": true
   },
   "outputs": [],
   "source": [
    "fwdpy_includes = fp.get_includes()\n",
    "fwdpp_includes = fp.get_fwdpp_includes()"
   ]
  },
  {
   "cell_type": "code",
   "execution_count": 6,
   "metadata": {
    "collapsed": false,
    "scrolled": true
   },
   "outputs": [],
   "source": [
    "%%cython --cplus --compile-args=-std=c++11 -I $fwdpy_includes -I $fwdpp_includes -l sequence -l gsl -l gslcblas\n",
    "\n",
    "from fwdpy.fwdpy cimport *\n",
    "from cython.operator cimport dereference as deref\n",
    "cdef pi_from_singlepop_cpp(const gsl_rng * r,const singlepop_t * pop, const unsigned nsam):\n",
    "    s = sample_single[singlepop_t](r,deref(pop),nsam,True)\n",
    "    pi = 0.\n",
    "    for i in s:\n",
    "        ones = float(i[1].count(b'1'))\n",
    "        pi += 2.0*ones*(float(nsam)-ones)\n",
    "    pi /= (float(nsam)*float(nsam-1))\n",
    "    return pi\n",
    "\n",
    "def pi_using_cython(GSLrng rng,Spop pop,nsam):\n",
    "    return pi_from_singlepop_cpp(rng.thisptr.get(),pop.pop.get(),nsam)"
   ]
  },
  {
   "cell_type": "code",
   "execution_count": 7,
   "metadata": {
    "collapsed": false
   },
   "outputs": [
    {
     "name": "stdout",
     "output_type": "stream",
     "text": [
      "1 loop, best of 3: 796 ms per loop\n"
     ]
    }
   ],
   "source": [
    "rng=fp.GSLrng(100)\n",
    "%timeit pi = [pi_using_pylibseq(rng,i,100) for i in pops]"
   ]
  },
  {
   "cell_type": "code",
   "execution_count": 8,
   "metadata": {
    "collapsed": false
   },
   "outputs": [
    {
     "name": "stdout",
     "output_type": "stream",
     "text": [
      "1 loop, best of 3: 436 ms per loop\n"
     ]
    }
   ],
   "source": [
    "rng=fp.GSLrng(100)\n",
    "%timeit pi = [pi_using_cython(rng,i,100) for i in pops]"
   ]
  },
  {
   "cell_type": "code",
   "execution_count": 11,
   "metadata": {
    "collapsed": false
   },
   "outputs": [
    {
     "name": "stdout",
     "output_type": "stream",
     "text": [
      "120.61575757575756\n",
      "120.61575757575757\n"
     ]
    }
   ],
   "source": [
    "rng=fp.GSLrng(100)\n",
    "print(pi_using_pylibseq(rng,pops[0],100))\n",
    "rng=fp.GSLrng(100)\n",
    "print(pi_using_cython(rng,pops[0],100))"
   ]
  },
  {
   "cell_type": "code",
   "execution_count": 12,
   "metadata": {
    "collapsed": false
   },
   "outputs": [
    {
     "ename": "KeyboardInterrupt",
     "evalue": "",
     "output_type": "error",
     "traceback": [
      "\u001b[0;31m---------------------------------------------------------------------------\u001b[0m",
      "\u001b[0;31mKeyboardInterrupt\u001b[0m                         Traceback (most recent call last)",
      "\u001b[0;32m<ipython-input-12-6c2ada628f35>\u001b[0m in \u001b[0;36m<module>\u001b[0;34m()\u001b[0m\n\u001b[0;32m----> 1\u001b[0;31m \u001b[0mget_ipython\u001b[0m\u001b[0;34m(\u001b[0m\u001b[0;34m)\u001b[0m\u001b[0;34m.\u001b[0m\u001b[0mrun_cell_magic\u001b[0m\u001b[0;34m(\u001b[0m\u001b[0;34m'cython'\u001b[0m\u001b[0;34m,\u001b[0m \u001b[0;34m'--cplus --compile-args=-std=c++11 -I $fwdpy_includes -I $fwdpp_includes -l sequence -l gsl -l gslcblas'\u001b[0m\u001b[0;34m,\u001b[0m \u001b[0;34m'\\nfrom fwdpy.fwdpy cimport *\\nfrom libsequence.polytable cimport *\\nfrom cython.operator cimport dereference as deref\\n\\ncdef pi_using_pylibseq_cpp(const gsl_rng * r, const singlepop_t * pop, const unsigned nsam):\\n        s = sample_single(r,<singlepop_t>deref(pop),nsam,True)\\n        cdef sd = CppSimData()\\n        sd.assign(s)\\n        cdef ps = CppPolySim(&sd)\\n        return ps.thetapi()\\n\\ndef py_using_pylibseq_cython(GSLrng r,Spop pop,nsam):\\n    return pi_using_pylibseq_cpp(r.thisptr.get(),pop.pop.get(),nsam)'\u001b[0m\u001b[0;34m)\u001b[0m\u001b[0;34m\u001b[0m\u001b[0m\n\u001b[0m",
      "\u001b[0;32m/Users/kevin/anaconda3/lib/python3.5/site-packages/IPython/core/interactiveshell.py\u001b[0m in \u001b[0;36mrun_cell_magic\u001b[0;34m(self, magic_name, line, cell)\u001b[0m\n\u001b[1;32m   2113\u001b[0m             \u001b[0mmagic_arg_s\u001b[0m \u001b[0;34m=\u001b[0m \u001b[0mself\u001b[0m\u001b[0;34m.\u001b[0m\u001b[0mvar_expand\u001b[0m\u001b[0;34m(\u001b[0m\u001b[0mline\u001b[0m\u001b[0;34m,\u001b[0m \u001b[0mstack_depth\u001b[0m\u001b[0;34m)\u001b[0m\u001b[0;34m\u001b[0m\u001b[0m\n\u001b[1;32m   2114\u001b[0m             \u001b[0;32mwith\u001b[0m \u001b[0mself\u001b[0m\u001b[0;34m.\u001b[0m\u001b[0mbuiltin_trap\u001b[0m\u001b[0;34m:\u001b[0m\u001b[0;34m\u001b[0m\u001b[0m\n\u001b[0;32m-> 2115\u001b[0;31m                 \u001b[0mresult\u001b[0m \u001b[0;34m=\u001b[0m \u001b[0mfn\u001b[0m\u001b[0;34m(\u001b[0m\u001b[0mmagic_arg_s\u001b[0m\u001b[0;34m,\u001b[0m \u001b[0mcell\u001b[0m\u001b[0;34m)\u001b[0m\u001b[0;34m\u001b[0m\u001b[0m\n\u001b[0m\u001b[1;32m   2116\u001b[0m             \u001b[0;32mreturn\u001b[0m \u001b[0mresult\u001b[0m\u001b[0;34m\u001b[0m\u001b[0m\n\u001b[1;32m   2117\u001b[0m \u001b[0;34m\u001b[0m\u001b[0m\n",
      "\u001b[0;32m<decorator-gen-124>\u001b[0m in \u001b[0;36mcython\u001b[0;34m(self, line, cell)\u001b[0m\n",
      "\u001b[0;32m/Users/kevin/anaconda3/lib/python3.5/site-packages/IPython/core/magic.py\u001b[0m in \u001b[0;36m<lambda>\u001b[0;34m(f, *a, **k)\u001b[0m\n\u001b[1;32m    186\u001b[0m     \u001b[0;31m# but it's overkill for just that one bit of state.\u001b[0m\u001b[0;34m\u001b[0m\u001b[0;34m\u001b[0m\u001b[0m\n\u001b[1;32m    187\u001b[0m     \u001b[0;32mdef\u001b[0m \u001b[0mmagic_deco\u001b[0m\u001b[0;34m(\u001b[0m\u001b[0marg\u001b[0m\u001b[0;34m)\u001b[0m\u001b[0;34m:\u001b[0m\u001b[0;34m\u001b[0m\u001b[0m\n\u001b[0;32m--> 188\u001b[0;31m         \u001b[0mcall\u001b[0m \u001b[0;34m=\u001b[0m \u001b[0;32mlambda\u001b[0m \u001b[0mf\u001b[0m\u001b[0;34m,\u001b[0m \u001b[0;34m*\u001b[0m\u001b[0ma\u001b[0m\u001b[0;34m,\u001b[0m \u001b[0;34m**\u001b[0m\u001b[0mk\u001b[0m\u001b[0;34m:\u001b[0m \u001b[0mf\u001b[0m\u001b[0;34m(\u001b[0m\u001b[0;34m*\u001b[0m\u001b[0ma\u001b[0m\u001b[0;34m,\u001b[0m \u001b[0;34m**\u001b[0m\u001b[0mk\u001b[0m\u001b[0;34m)\u001b[0m\u001b[0;34m\u001b[0m\u001b[0m\n\u001b[0m\u001b[1;32m    189\u001b[0m \u001b[0;34m\u001b[0m\u001b[0m\n\u001b[1;32m    190\u001b[0m         \u001b[0;32mif\u001b[0m \u001b[0mcallable\u001b[0m\u001b[0;34m(\u001b[0m\u001b[0marg\u001b[0m\u001b[0;34m)\u001b[0m\u001b[0;34m:\u001b[0m\u001b[0;34m\u001b[0m\u001b[0m\n",
      "\u001b[0;32m/Users/kevin/anaconda3/lib/python3.5/site-packages/Cython/Build/IpythonMagic.py\u001b[0m in \u001b[0;36mcython\u001b[0;34m(self, line, cell)\u001b[0m\n\u001b[1;32m    282\u001b[0m                 \u001b[0;32melif\u001b[0m \u001b[0msys\u001b[0m\u001b[0;34m.\u001b[0m\u001b[0mversion_info\u001b[0m\u001b[0;34m[\u001b[0m\u001b[0;36m0\u001b[0m\u001b[0;34m]\u001b[0m \u001b[0;34m>\u001b[0m \u001b[0;36m2\u001b[0m\u001b[0;34m:\u001b[0m\u001b[0;34m\u001b[0m\u001b[0m\n\u001b[1;32m    283\u001b[0m                     \u001b[0mopts\u001b[0m\u001b[0;34m[\u001b[0m\u001b[0;34m'language_level'\u001b[0m\u001b[0;34m]\u001b[0m \u001b[0;34m=\u001b[0m \u001b[0;36m3\u001b[0m\u001b[0;34m\u001b[0m\u001b[0m\n\u001b[0;32m--> 284\u001b[0;31m                 \u001b[0mbuild_extension\u001b[0m\u001b[0;34m.\u001b[0m\u001b[0mextensions\u001b[0m \u001b[0;34m=\u001b[0m \u001b[0mcythonize\u001b[0m\u001b[0;34m(\u001b[0m\u001b[0;34m[\u001b[0m\u001b[0mextension\u001b[0m\u001b[0;34m]\u001b[0m\u001b[0;34m,\u001b[0m \u001b[0;34m**\u001b[0m\u001b[0mopts\u001b[0m\u001b[0;34m)\u001b[0m\u001b[0;34m\u001b[0m\u001b[0m\n\u001b[0m\u001b[1;32m    285\u001b[0m             \u001b[0;32mexcept\u001b[0m \u001b[0mCompileError\u001b[0m\u001b[0;34m:\u001b[0m\u001b[0;34m\u001b[0m\u001b[0m\n\u001b[1;32m    286\u001b[0m                 \u001b[0;32mreturn\u001b[0m\u001b[0;34m\u001b[0m\u001b[0m\n",
      "\u001b[0;32m/Users/kevin/anaconda3/lib/python3.5/site-packages/Cython/Build/Dependencies.py\u001b[0m in \u001b[0;36mcythonize\u001b[0;34m(module_list, exclude, nthreads, aliases, quiet, force, language, exclude_failures, **options)\u001b[0m\n\u001b[1;32m    932\u001b[0m     \u001b[0;32mif\u001b[0m \u001b[0;32mnot\u001b[0m \u001b[0mnthreads\u001b[0m\u001b[0;34m:\u001b[0m\u001b[0;34m\u001b[0m\u001b[0m\n\u001b[1;32m    933\u001b[0m         \u001b[0;32mfor\u001b[0m \u001b[0margs\u001b[0m \u001b[0;32min\u001b[0m \u001b[0mto_compile\u001b[0m\u001b[0;34m:\u001b[0m\u001b[0;34m\u001b[0m\u001b[0m\n\u001b[0;32m--> 934\u001b[0;31m             \u001b[0mcythonize_one\u001b[0m\u001b[0;34m(\u001b[0m\u001b[0;34m*\u001b[0m\u001b[0margs\u001b[0m\u001b[0;34m)\u001b[0m\u001b[0;34m\u001b[0m\u001b[0m\n\u001b[0m\u001b[1;32m    935\u001b[0m \u001b[0;34m\u001b[0m\u001b[0m\n\u001b[1;32m    936\u001b[0m     \u001b[0;32mif\u001b[0m \u001b[0mexclude_failures\u001b[0m\u001b[0;34m:\u001b[0m\u001b[0;34m\u001b[0m\u001b[0m\n",
      "\u001b[0;32m/Users/kevin/anaconda3/lib/python3.5/site-packages/Cython/Build/Dependencies.py\u001b[0m in \u001b[0;36mcythonize_one\u001b[0;34m(pyx_file, c_file, fingerprint, quiet, options, raise_on_failure, embedded_metadata, progress)\u001b[0m\n\u001b[1;32m   1037\u001b[0m     \u001b[0many_failures\u001b[0m \u001b[0;34m=\u001b[0m \u001b[0;36m0\u001b[0m\u001b[0;34m\u001b[0m\u001b[0m\n\u001b[1;32m   1038\u001b[0m     \u001b[0;32mtry\u001b[0m\u001b[0;34m:\u001b[0m\u001b[0;34m\u001b[0m\u001b[0m\n\u001b[0;32m-> 1039\u001b[0;31m         \u001b[0mresult\u001b[0m \u001b[0;34m=\u001b[0m \u001b[0mcompile\u001b[0m\u001b[0;34m(\u001b[0m\u001b[0;34m[\u001b[0m\u001b[0mpyx_file\u001b[0m\u001b[0;34m]\u001b[0m\u001b[0;34m,\u001b[0m \u001b[0moptions\u001b[0m\u001b[0;34m)\u001b[0m\u001b[0;34m\u001b[0m\u001b[0m\n\u001b[0m\u001b[1;32m   1040\u001b[0m         \u001b[0;32mif\u001b[0m \u001b[0mresult\u001b[0m\u001b[0;34m.\u001b[0m\u001b[0mnum_errors\u001b[0m \u001b[0;34m>\u001b[0m \u001b[0;36m0\u001b[0m\u001b[0;34m:\u001b[0m\u001b[0;34m\u001b[0m\u001b[0m\n\u001b[1;32m   1041\u001b[0m             \u001b[0many_failures\u001b[0m \u001b[0;34m=\u001b[0m \u001b[0;36m1\u001b[0m\u001b[0;34m\u001b[0m\u001b[0m\n",
      "\u001b[0;32m/Users/kevin/anaconda3/lib/python3.5/site-packages/Cython/Compiler/Main.py\u001b[0m in \u001b[0;36mcompile\u001b[0;34m(source, options, full_module_name, **kwds)\u001b[0m\n\u001b[1;32m    684\u001b[0m         \u001b[0;32mreturn\u001b[0m \u001b[0mcompile_single\u001b[0m\u001b[0;34m(\u001b[0m\u001b[0msource\u001b[0m\u001b[0;34m,\u001b[0m \u001b[0moptions\u001b[0m\u001b[0;34m,\u001b[0m \u001b[0mfull_module_name\u001b[0m\u001b[0;34m)\u001b[0m\u001b[0;34m\u001b[0m\u001b[0m\n\u001b[1;32m    685\u001b[0m     \u001b[0;32melse\u001b[0m\u001b[0;34m:\u001b[0m\u001b[0;34m\u001b[0m\u001b[0m\n\u001b[0;32m--> 686\u001b[0;31m         \u001b[0;32mreturn\u001b[0m \u001b[0mcompile_multiple\u001b[0m\u001b[0;34m(\u001b[0m\u001b[0msource\u001b[0m\u001b[0;34m,\u001b[0m \u001b[0moptions\u001b[0m\u001b[0;34m)\u001b[0m\u001b[0;34m\u001b[0m\u001b[0m\n\u001b[0m\u001b[1;32m    687\u001b[0m \u001b[0;34m\u001b[0m\u001b[0m\n\u001b[1;32m    688\u001b[0m \u001b[0;31m#------------------------------------------------------------------------\u001b[0m\u001b[0;34m\u001b[0m\u001b[0;34m\u001b[0m\u001b[0m\n",
      "\u001b[0;32m/Users/kevin/anaconda3/lib/python3.5/site-packages/Cython/Compiler/Main.py\u001b[0m in \u001b[0;36mcompile_multiple\u001b[0;34m(sources, options)\u001b[0m\n\u001b[1;32m    662\u001b[0m                     \u001b[0msys\u001b[0m\u001b[0;34m.\u001b[0m\u001b[0mstderr\u001b[0m\u001b[0;34m.\u001b[0m\u001b[0mwrite\u001b[0m\u001b[0;34m(\u001b[0m\u001b[0;34m\"Compiling %s\\n\"\u001b[0m \u001b[0;34m%\u001b[0m \u001b[0msource\u001b[0m\u001b[0;34m)\u001b[0m\u001b[0;34m\u001b[0m\u001b[0m\n\u001b[1;32m    663\u001b[0m \u001b[0;34m\u001b[0m\u001b[0m\n\u001b[0;32m--> 664\u001b[0;31m                 \u001b[0mresult\u001b[0m \u001b[0;34m=\u001b[0m \u001b[0mrun_pipeline\u001b[0m\u001b[0;34m(\u001b[0m\u001b[0msource\u001b[0m\u001b[0;34m,\u001b[0m \u001b[0moptions\u001b[0m\u001b[0;34m,\u001b[0m \u001b[0mcontext\u001b[0m\u001b[0;34m=\u001b[0m\u001b[0mcontext\u001b[0m\u001b[0;34m)\u001b[0m\u001b[0;34m\u001b[0m\u001b[0m\n\u001b[0m\u001b[1;32m    665\u001b[0m                 \u001b[0mresults\u001b[0m\u001b[0;34m.\u001b[0m\u001b[0madd\u001b[0m\u001b[0;34m(\u001b[0m\u001b[0msource\u001b[0m\u001b[0;34m,\u001b[0m \u001b[0mresult\u001b[0m\u001b[0;34m)\u001b[0m\u001b[0;34m\u001b[0m\u001b[0m\n\u001b[1;32m    666\u001b[0m                 \u001b[0;31m# Compiling multiple sources in one context doesn't quite\u001b[0m\u001b[0;34m\u001b[0m\u001b[0;34m\u001b[0m\u001b[0m\n",
      "\u001b[0;32m/Users/kevin/anaconda3/lib/python3.5/site-packages/Cython/Compiler/Main.py\u001b[0m in \u001b[0;36mrun_pipeline\u001b[0;34m(source, options, full_module_name, context)\u001b[0m\n\u001b[1;32m    492\u001b[0m \u001b[0;34m\u001b[0m\u001b[0m\n\u001b[1;32m    493\u001b[0m     \u001b[0mcontext\u001b[0m\u001b[0;34m.\u001b[0m\u001b[0msetup_errors\u001b[0m\u001b[0;34m(\u001b[0m\u001b[0moptions\u001b[0m\u001b[0;34m,\u001b[0m \u001b[0mresult\u001b[0m\u001b[0;34m)\u001b[0m\u001b[0;34m\u001b[0m\u001b[0m\n\u001b[0;32m--> 494\u001b[0;31m     \u001b[0merr\u001b[0m\u001b[0;34m,\u001b[0m \u001b[0menddata\u001b[0m \u001b[0;34m=\u001b[0m \u001b[0mPipeline\u001b[0m\u001b[0;34m.\u001b[0m\u001b[0mrun_pipeline\u001b[0m\u001b[0;34m(\u001b[0m\u001b[0mpipeline\u001b[0m\u001b[0;34m,\u001b[0m \u001b[0msource\u001b[0m\u001b[0;34m)\u001b[0m\u001b[0;34m\u001b[0m\u001b[0m\n\u001b[0m\u001b[1;32m    495\u001b[0m     \u001b[0mcontext\u001b[0m\u001b[0;34m.\u001b[0m\u001b[0mteardown_errors\u001b[0m\u001b[0;34m(\u001b[0m\u001b[0merr\u001b[0m\u001b[0;34m,\u001b[0m \u001b[0moptions\u001b[0m\u001b[0;34m,\u001b[0m \u001b[0mresult\u001b[0m\u001b[0;34m)\u001b[0m\u001b[0;34m\u001b[0m\u001b[0m\n\u001b[1;32m    496\u001b[0m     \u001b[0;32mreturn\u001b[0m \u001b[0mresult\u001b[0m\u001b[0;34m\u001b[0m\u001b[0m\n",
      "\u001b[0;32m/Users/kevin/anaconda3/lib/python3.5/site-packages/Cython/Compiler/Pipeline.py\u001b[0m in \u001b[0;36mrun_pipeline\u001b[0;34m(pipeline, source, printtree)\u001b[0m\n\u001b[1;32m    338\u001b[0m                     \u001b[0;32mif\u001b[0m \u001b[0;32mnot\u001b[0m \u001b[0mprinttree\u001b[0m \u001b[0;32mand\u001b[0m \u001b[0misinstance\u001b[0m\u001b[0;34m(\u001b[0m\u001b[0mphase\u001b[0m\u001b[0;34m,\u001b[0m \u001b[0mPrintTree\u001b[0m\u001b[0;34m)\u001b[0m\u001b[0;34m:\u001b[0m\u001b[0;34m\u001b[0m\u001b[0m\n\u001b[1;32m    339\u001b[0m                         \u001b[0;32mcontinue\u001b[0m\u001b[0;34m\u001b[0m\u001b[0m\n\u001b[0;32m--> 340\u001b[0;31m                     \u001b[0mdata\u001b[0m \u001b[0;34m=\u001b[0m \u001b[0mphase\u001b[0m\u001b[0;34m(\u001b[0m\u001b[0mdata\u001b[0m\u001b[0;34m)\u001b[0m\u001b[0;34m\u001b[0m\u001b[0m\n\u001b[0m\u001b[1;32m    341\u001b[0m                     \u001b[0;32mif\u001b[0m \u001b[0mDebugFlags\u001b[0m\u001b[0;34m.\u001b[0m\u001b[0mdebug_verbose_pipeline\u001b[0m\u001b[0;34m:\u001b[0m\u001b[0;34m\u001b[0m\u001b[0m\n\u001b[1;32m    342\u001b[0m                         \u001b[0mprint\u001b[0m\u001b[0;34m(\u001b[0m\u001b[0;34m\"    %.3f seconds\"\u001b[0m \u001b[0;34m%\u001b[0m \u001b[0;34m(\u001b[0m\u001b[0mtime\u001b[0m\u001b[0;34m(\u001b[0m\u001b[0;34m)\u001b[0m \u001b[0;34m-\u001b[0m \u001b[0mt\u001b[0m\u001b[0;34m)\u001b[0m\u001b[0;34m)\u001b[0m\u001b[0;34m\u001b[0m\u001b[0m\n",
      "\u001b[0;32m/Users/kevin/anaconda3/lib/python3.5/site-packages/Cython/Compiler/Visitor.cpython-35m-darwin.so\u001b[0m in \u001b[0;36mCython.Compiler.Visitor.CythonTransform.__call__ (/Users/travis/miniconda3/conda-bld/work/Cython-0.25.2/Cython/Compiler/Visitor.c:7423)\u001b[0;34m()\u001b[0m\n",
      "\u001b[0;32m/Users/kevin/anaconda3/lib/python3.5/site-packages/Cython/Compiler/Visitor.cpython-35m-darwin.so\u001b[0m in \u001b[0;36mCython.Compiler.Visitor.VisitorTransform.__call__ (/Users/travis/miniconda3/conda-bld/work/Cython-0.25.2/Cython/Compiler/Visitor.c:7095)\u001b[0;34m()\u001b[0m\n",
      "\u001b[0;32m/Users/kevin/anaconda3/lib/python3.5/site-packages/Cython/Compiler/Visitor.cpython-35m-darwin.so\u001b[0m in \u001b[0;36mCython.Compiler.Visitor.TreeVisitor._visit (/Users/travis/miniconda3/conda-bld/work/Cython-0.25.2/Cython/Compiler/Visitor.c:5261)\u001b[0;34m()\u001b[0m\n",
      "\u001b[0;32m/Users/kevin/anaconda3/lib/python3.5/site-packages/Cython/Compiler/ParseTreeTransforms.py\u001b[0m in \u001b[0;36mvisit_ModuleNode\u001b[0;34m(self, node)\u001b[0m\n\u001b[1;32m   2002\u001b[0m         \u001b[0mnode\u001b[0m\u001b[0;34m.\u001b[0m\u001b[0mscope\u001b[0m\u001b[0;34m.\u001b[0m\u001b[0minfer_types\u001b[0m\u001b[0;34m(\u001b[0m\u001b[0;34m)\u001b[0m\u001b[0;34m\u001b[0m\u001b[0m\n\u001b[1;32m   2003\u001b[0m         \u001b[0mnode\u001b[0m\u001b[0;34m.\u001b[0m\u001b[0mbody\u001b[0m \u001b[0;34m=\u001b[0m \u001b[0mnode\u001b[0m\u001b[0;34m.\u001b[0m\u001b[0mbody\u001b[0m\u001b[0;34m.\u001b[0m\u001b[0manalyse_expressions\u001b[0m\u001b[0;34m(\u001b[0m\u001b[0mnode\u001b[0m\u001b[0;34m.\u001b[0m\u001b[0mscope\u001b[0m\u001b[0;34m)\u001b[0m\u001b[0;34m\u001b[0m\u001b[0m\n\u001b[0;32m-> 2004\u001b[0;31m         \u001b[0mself\u001b[0m\u001b[0;34m.\u001b[0m\u001b[0mvisitchildren\u001b[0m\u001b[0;34m(\u001b[0m\u001b[0mnode\u001b[0m\u001b[0;34m)\u001b[0m\u001b[0;34m\u001b[0m\u001b[0m\n\u001b[0m\u001b[1;32m   2005\u001b[0m         \u001b[0;32mreturn\u001b[0m \u001b[0mnode\u001b[0m\u001b[0;34m\u001b[0m\u001b[0m\n\u001b[1;32m   2006\u001b[0m \u001b[0;34m\u001b[0m\u001b[0m\n",
      "\u001b[0;32m/Users/kevin/anaconda3/lib/python3.5/site-packages/Cython/Compiler/Visitor.cpython-35m-darwin.so\u001b[0m in \u001b[0;36mCython.Compiler.Visitor.VisitorTransform.visitchildren (/Users/travis/miniconda3/conda-bld/work/Cython-0.25.2/Cython/Compiler/Visitor.c:6846)\u001b[0;34m()\u001b[0m\n",
      "\u001b[0;32m/Users/kevin/anaconda3/lib/python3.5/site-packages/Cython/Compiler/Visitor.cpython-35m-darwin.so\u001b[0m in \u001b[0;36mCython.Compiler.Visitor.VisitorTransform.visitchildren (/Users/travis/miniconda3/conda-bld/work/Cython-0.25.2/Cython/Compiler/Visitor.c:6434)\u001b[0;34m()\u001b[0m\n",
      "\u001b[0;32m/Users/kevin/anaconda3/lib/python3.5/site-packages/Cython/Compiler/Visitor.cpython-35m-darwin.so\u001b[0m in \u001b[0;36mCython.Compiler.Visitor.TreeVisitor._visitchildren (/Users/travis/miniconda3/conda-bld/work/Cython-0.25.2/Cython/Compiler/Visitor.c:6117)\u001b[0;34m()\u001b[0m\n",
      "\u001b[0;32m/Users/kevin/anaconda3/lib/python3.5/site-packages/Cython/Compiler/Visitor.cpython-35m-darwin.so\u001b[0m in \u001b[0;36mCython.Compiler.Visitor.TreeVisitor._visitchild (/Users/travis/miniconda3/conda-bld/work/Cython-0.25.2/Cython/Compiler/Visitor.c:5602)\u001b[0;34m()\u001b[0m\n",
      "\u001b[0;32m/Users/kevin/anaconda3/lib/python3.5/site-packages/Cython/Compiler/Visitor.cpython-35m-darwin.so\u001b[0m in \u001b[0;36mCython.Compiler.Visitor.TreeVisitor._visit (/Users/travis/miniconda3/conda-bld/work/Cython-0.25.2/Cython/Compiler/Visitor.c:5281)\u001b[0;34m()\u001b[0m\n",
      "\u001b[0;32m/Users/kevin/anaconda3/lib/python3.5/site-packages/Cython/Compiler/Visitor.cpython-35m-darwin.so\u001b[0m in \u001b[0;36mCython.Compiler.Visitor.CythonTransform.visit_Node (/Users/travis/miniconda3/conda-bld/work/Cython-0.25.2/Cython/Compiler/Visitor.c:7629)\u001b[0;34m()\u001b[0m\n",
      "\u001b[0;32m/Users/kevin/anaconda3/lib/python3.5/site-packages/Cython/Compiler/Visitor.cpython-35m-darwin.so\u001b[0m in \u001b[0;36mCython.Compiler.Visitor.VisitorTransform.visitchildren (/Users/travis/miniconda3/conda-bld/work/Cython-0.25.2/Cython/Compiler/Visitor.c:6414)\u001b[0;34m()\u001b[0m\n",
      "\u001b[0;32m/Users/kevin/anaconda3/lib/python3.5/site-packages/Cython/Compiler/Visitor.cpython-35m-darwin.so\u001b[0m in \u001b[0;36mCython.Compiler.Visitor.VisitorTransform.visitchildren (/Users/travis/miniconda3/conda-bld/work/Cython-0.25.2/Cython/Compiler/Visitor.c:6846)\u001b[0;34m()\u001b[0m\n",
      "\u001b[0;32m/Users/kevin/anaconda3/lib/python3.5/site-packages/Cython/Compiler/Visitor.cpython-35m-darwin.so\u001b[0m in \u001b[0;36mCython.Compiler.Visitor.VisitorTransform.visitchildren (/Users/travis/miniconda3/conda-bld/work/Cython-0.25.2/Cython/Compiler/Visitor.c:6434)\u001b[0;34m()\u001b[0m\n",
      "\u001b[0;32m/Users/kevin/anaconda3/lib/python3.5/site-packages/Cython/Compiler/Visitor.cpython-35m-darwin.so\u001b[0m in \u001b[0;36mCython.Compiler.Visitor.TreeVisitor._visitchildren (/Users/travis/miniconda3/conda-bld/work/Cython-0.25.2/Cython/Compiler/Visitor.c:6089)\u001b[0;34m()\u001b[0m\n",
      "\u001b[0;32m/Users/kevin/anaconda3/lib/python3.5/site-packages/Cython/Compiler/Visitor.cpython-35m-darwin.so\u001b[0m in \u001b[0;36mCython.Compiler.Visitor.TreeVisitor._visitchild (/Users/travis/miniconda3/conda-bld/work/Cython-0.25.2/Cython/Compiler/Visitor.c:5602)\u001b[0;34m()\u001b[0m\n",
      "\u001b[0;32m/Users/kevin/anaconda3/lib/python3.5/site-packages/Cython/Compiler/Visitor.cpython-35m-darwin.so\u001b[0m in \u001b[0;36mCython.Compiler.Visitor.TreeVisitor._visit (/Users/travis/miniconda3/conda-bld/work/Cython-0.25.2/Cython/Compiler/Visitor.c:5261)\u001b[0;34m()\u001b[0m\n",
      "\u001b[0;32m/Users/kevin/anaconda3/lib/python3.5/site-packages/Cython/Compiler/ParseTreeTransforms.py\u001b[0m in \u001b[0;36mvisit_FuncDefNode\u001b[0;34m(self, node)\u001b[0m\n\u001b[1;32m   2006\u001b[0m \u001b[0;34m\u001b[0m\u001b[0m\n\u001b[1;32m   2007\u001b[0m     \u001b[0;32mdef\u001b[0m \u001b[0mvisit_FuncDefNode\u001b[0m\u001b[0;34m(\u001b[0m\u001b[0mself\u001b[0m\u001b[0;34m,\u001b[0m \u001b[0mnode\u001b[0m\u001b[0;34m)\u001b[0m\u001b[0;34m:\u001b[0m\u001b[0;34m\u001b[0m\u001b[0m\n\u001b[0;32m-> 2008\u001b[0;31m         \u001b[0mnode\u001b[0m\u001b[0;34m.\u001b[0m\u001b[0mlocal_scope\u001b[0m\u001b[0;34m.\u001b[0m\u001b[0minfer_types\u001b[0m\u001b[0;34m(\u001b[0m\u001b[0;34m)\u001b[0m\u001b[0;34m\u001b[0m\u001b[0m\n\u001b[0m\u001b[1;32m   2009\u001b[0m         \u001b[0mnode\u001b[0m\u001b[0;34m.\u001b[0m\u001b[0mbody\u001b[0m \u001b[0;34m=\u001b[0m \u001b[0mnode\u001b[0m\u001b[0;34m.\u001b[0m\u001b[0mbody\u001b[0m\u001b[0;34m.\u001b[0m\u001b[0manalyse_expressions\u001b[0m\u001b[0;34m(\u001b[0m\u001b[0mnode\u001b[0m\u001b[0;34m.\u001b[0m\u001b[0mlocal_scope\u001b[0m\u001b[0;34m)\u001b[0m\u001b[0;34m\u001b[0m\u001b[0m\n\u001b[1;32m   2010\u001b[0m         \u001b[0mself\u001b[0m\u001b[0;34m.\u001b[0m\u001b[0mvisitchildren\u001b[0m\u001b[0;34m(\u001b[0m\u001b[0mnode\u001b[0m\u001b[0;34m)\u001b[0m\u001b[0;34m\u001b[0m\u001b[0m\n",
      "\u001b[0;32m/Users/kevin/anaconda3/lib/python3.5/site-packages/Cython/Compiler/Symtab.py\u001b[0m in \u001b[0;36minfer_types\u001b[0;34m(self)\u001b[0m\n\u001b[1;32m    885\u001b[0m     \u001b[0;32mdef\u001b[0m \u001b[0minfer_types\u001b[0m\u001b[0;34m(\u001b[0m\u001b[0mself\u001b[0m\u001b[0;34m)\u001b[0m\u001b[0;34m:\u001b[0m\u001b[0;34m\u001b[0m\u001b[0m\n\u001b[1;32m    886\u001b[0m         \u001b[0;32mfrom\u001b[0m \u001b[0;34m.\u001b[0m\u001b[0mTypeInference\u001b[0m \u001b[0;32mimport\u001b[0m \u001b[0mget_type_inferer\u001b[0m\u001b[0;34m\u001b[0m\u001b[0m\n\u001b[0;32m--> 887\u001b[0;31m         \u001b[0mget_type_inferer\u001b[0m\u001b[0;34m(\u001b[0m\u001b[0;34m)\u001b[0m\u001b[0;34m.\u001b[0m\u001b[0minfer_types\u001b[0m\u001b[0;34m(\u001b[0m\u001b[0mself\u001b[0m\u001b[0;34m)\u001b[0m\u001b[0;34m\u001b[0m\u001b[0m\n\u001b[0m\u001b[1;32m    888\u001b[0m \u001b[0;34m\u001b[0m\u001b[0m\n\u001b[1;32m    889\u001b[0m     \u001b[0;32mdef\u001b[0m \u001b[0mis_cpp\u001b[0m\u001b[0;34m(\u001b[0m\u001b[0mself\u001b[0m\u001b[0;34m)\u001b[0m\u001b[0;34m:\u001b[0m\u001b[0;34m\u001b[0m\u001b[0m\n",
      "\u001b[0;32m/Users/kevin/anaconda3/lib/python3.5/site-packages/Cython/Compiler/TypeInference.py\u001b[0m in \u001b[0;36minfer_types\u001b[0;34m(self, scope)\u001b[0m\n\u001b[1;32m    481\u001b[0m \u001b[0;34m\u001b[0m\u001b[0m\n\u001b[1;32m    482\u001b[0m         \u001b[0;31m# types propagation\u001b[0m\u001b[0;34m\u001b[0m\u001b[0;34m\u001b[0m\u001b[0m\n\u001b[0;32m--> 483\u001b[0;31m         \u001b[0;32mwhile\u001b[0m \u001b[0mreinfer\u001b[0m\u001b[0;34m(\u001b[0m\u001b[0;34m)\u001b[0m\u001b[0;34m:\u001b[0m\u001b[0;34m\u001b[0m\u001b[0m\n\u001b[0m\u001b[1;32m    484\u001b[0m             \u001b[0;32mpass\u001b[0m\u001b[0;34m\u001b[0m\u001b[0m\n\u001b[1;32m    485\u001b[0m \u001b[0;34m\u001b[0m\u001b[0m\n",
      "\u001b[0;32m/Users/kevin/anaconda3/lib/python3.5/site-packages/Cython/Compiler/TypeInference.py\u001b[0m in \u001b[0;36mreinfer\u001b[0;34m()\u001b[0m\n\u001b[1;32m    474\u001b[0m                 types = [assmt.infer_type()\n\u001b[1;32m    475\u001b[0m                          for assmt in entry.cf_assignments]\n\u001b[0;32m--> 476\u001b[0;31m                 \u001b[0mnew_type\u001b[0m \u001b[0;34m=\u001b[0m \u001b[0mspanning_type\u001b[0m\u001b[0;34m(\u001b[0m\u001b[0mtypes\u001b[0m\u001b[0;34m,\u001b[0m \u001b[0mentry\u001b[0m\u001b[0;34m.\u001b[0m\u001b[0mmight_overflow\u001b[0m\u001b[0;34m,\u001b[0m \u001b[0mentry\u001b[0m\u001b[0;34m.\u001b[0m\u001b[0mpos\u001b[0m\u001b[0;34m,\u001b[0m \u001b[0mscope\u001b[0m\u001b[0;34m)\u001b[0m\u001b[0;34m\u001b[0m\u001b[0m\n\u001b[0m\u001b[1;32m    477\u001b[0m                 \u001b[0;32mif\u001b[0m \u001b[0mnew_type\u001b[0m \u001b[0;34m!=\u001b[0m \u001b[0mentry\u001b[0m\u001b[0;34m.\u001b[0m\u001b[0mtype\u001b[0m\u001b[0;34m:\u001b[0m\u001b[0;34m\u001b[0m\u001b[0m\n\u001b[1;32m    478\u001b[0m                     \u001b[0mself\u001b[0m\u001b[0;34m.\u001b[0m\u001b[0mset_entry_type\u001b[0m\u001b[0;34m(\u001b[0m\u001b[0mentry\u001b[0m\u001b[0;34m,\u001b[0m \u001b[0mnew_type\u001b[0m\u001b[0;34m)\u001b[0m\u001b[0;34m\u001b[0m\u001b[0m\n",
      "\u001b[0;32m/Users/kevin/anaconda3/lib/python3.5/site-packages/Cython/Compiler/TypeInference.py\u001b[0m in \u001b[0;36msafe_spanning_type\u001b[0;34m(types, might_overflow, pos, scope)\u001b[0m\n\u001b[1;32m    521\u001b[0m \u001b[0;34m\u001b[0m\u001b[0m\n\u001b[1;32m    522\u001b[0m \u001b[0;32mdef\u001b[0m \u001b[0msafe_spanning_type\u001b[0m\u001b[0;34m(\u001b[0m\u001b[0mtypes\u001b[0m\u001b[0;34m,\u001b[0m \u001b[0mmight_overflow\u001b[0m\u001b[0;34m,\u001b[0m \u001b[0mpos\u001b[0m\u001b[0;34m,\u001b[0m \u001b[0mscope\u001b[0m\u001b[0;34m)\u001b[0m\u001b[0;34m:\u001b[0m\u001b[0;34m\u001b[0m\u001b[0m\n\u001b[0;32m--> 523\u001b[0;31m     \u001b[0mresult_type\u001b[0m \u001b[0;34m=\u001b[0m \u001b[0msimply_type\u001b[0m\u001b[0;34m(\u001b[0m\u001b[0mreduce\u001b[0m\u001b[0;34m(\u001b[0m\u001b[0mfind_spanning_type\u001b[0m\u001b[0;34m,\u001b[0m \u001b[0mtypes\u001b[0m\u001b[0;34m)\u001b[0m\u001b[0;34m,\u001b[0m \u001b[0mpos\u001b[0m\u001b[0;34m)\u001b[0m\u001b[0;34m\u001b[0m\u001b[0m\n\u001b[0m\u001b[1;32m    524\u001b[0m     \u001b[0;32mif\u001b[0m \u001b[0mresult_type\u001b[0m\u001b[0;34m.\u001b[0m\u001b[0mis_pyobject\u001b[0m\u001b[0;34m:\u001b[0m\u001b[0;34m\u001b[0m\u001b[0m\n\u001b[1;32m    525\u001b[0m         \u001b[0;31m# In theory, any specific Python type is always safe to\u001b[0m\u001b[0;34m\u001b[0m\u001b[0;34m\u001b[0m\u001b[0m\n",
      "\u001b[0;32m/Users/kevin/anaconda3/lib/python3.5/site-packages/Cython/Compiler/TypeInference.py\u001b[0m in \u001b[0;36msimply_type\u001b[0;34m(result_type, pos)\u001b[0m\n\u001b[1;32m    512\u001b[0m         \u001b[0mresult_type\u001b[0m \u001b[0;34m=\u001b[0m \u001b[0mresult_type\u001b[0m\u001b[0;34m.\u001b[0m\u001b[0mconst_base_type\u001b[0m\u001b[0;34m\u001b[0m\u001b[0m\n\u001b[1;32m    513\u001b[0m     \u001b[0;32mif\u001b[0m \u001b[0mresult_type\u001b[0m\u001b[0;34m.\u001b[0m\u001b[0mis_cpp_class\u001b[0m\u001b[0;34m:\u001b[0m\u001b[0;34m\u001b[0m\u001b[0m\n\u001b[0;32m--> 514\u001b[0;31m         \u001b[0mresult_type\u001b[0m\u001b[0;34m.\u001b[0m\u001b[0mcheck_nullary_constructor\u001b[0m\u001b[0;34m(\u001b[0m\u001b[0mpos\u001b[0m\u001b[0;34m)\u001b[0m\u001b[0;34m\u001b[0m\u001b[0m\n\u001b[0m\u001b[1;32m    515\u001b[0m     \u001b[0;32mif\u001b[0m \u001b[0mresult_type\u001b[0m\u001b[0;34m.\u001b[0m\u001b[0mis_array\u001b[0m\u001b[0;34m:\u001b[0m\u001b[0;34m\u001b[0m\u001b[0m\n\u001b[1;32m    516\u001b[0m         \u001b[0mresult_type\u001b[0m \u001b[0;34m=\u001b[0m \u001b[0mPyrexTypes\u001b[0m\u001b[0;34m.\u001b[0m\u001b[0mc_ptr_type\u001b[0m\u001b[0;34m(\u001b[0m\u001b[0mresult_type\u001b[0m\u001b[0;34m.\u001b[0m\u001b[0mbase_type\u001b[0m\u001b[0;34m)\u001b[0m\u001b[0;34m\u001b[0m\u001b[0m\n",
      "\u001b[0;32m/Users/kevin/anaconda3/lib/python3.5/site-packages/Cython/Compiler/PyrexTypes.py\u001b[0m in \u001b[0;36mcheck_nullary_constructor\u001b[0;34m(self, pos, msg)\u001b[0m\n\u001b[1;32m   3589\u001b[0m         \u001b[0;32mreturn\u001b[0m \u001b[0mfunc_type\u001b[0m\u001b[0;34m.\u001b[0m\u001b[0mreturn_type\u001b[0m\u001b[0;34m\u001b[0m\u001b[0m\n\u001b[1;32m   3590\u001b[0m \u001b[0;34m\u001b[0m\u001b[0m\n\u001b[0;32m-> 3591\u001b[0;31m     \u001b[0;32mdef\u001b[0m \u001b[0mcheck_nullary_constructor\u001b[0m\u001b[0;34m(\u001b[0m\u001b[0mself\u001b[0m\u001b[0;34m,\u001b[0m \u001b[0mpos\u001b[0m\u001b[0;34m,\u001b[0m \u001b[0mmsg\u001b[0m\u001b[0;34m=\u001b[0m\u001b[0;34m\"stack allocated\"\u001b[0m\u001b[0;34m)\u001b[0m\u001b[0;34m:\u001b[0m\u001b[0;34m\u001b[0m\u001b[0m\n\u001b[0m\u001b[1;32m   3592\u001b[0m         \u001b[0mconstructor\u001b[0m \u001b[0;34m=\u001b[0m \u001b[0mself\u001b[0m\u001b[0;34m.\u001b[0m\u001b[0mscope\u001b[0m\u001b[0;34m.\u001b[0m\u001b[0mlookup\u001b[0m\u001b[0;34m(\u001b[0m\u001b[0;34mu'<init>'\u001b[0m\u001b[0;34m)\u001b[0m\u001b[0;34m\u001b[0m\u001b[0m\n\u001b[1;32m   3593\u001b[0m         \u001b[0;32mif\u001b[0m \u001b[0mconstructor\u001b[0m \u001b[0;32mis\u001b[0m \u001b[0;32mnot\u001b[0m \u001b[0;32mNone\u001b[0m \u001b[0;32mand\u001b[0m \u001b[0mbest_match\u001b[0m\u001b[0;34m(\u001b[0m\u001b[0;34m[\u001b[0m\u001b[0;34m]\u001b[0m\u001b[0;34m,\u001b[0m \u001b[0mconstructor\u001b[0m\u001b[0;34m.\u001b[0m\u001b[0mall_alternatives\u001b[0m\u001b[0;34m(\u001b[0m\u001b[0;34m)\u001b[0m\u001b[0;34m)\u001b[0m \u001b[0;32mis\u001b[0m \u001b[0;32mNone\u001b[0m\u001b[0;34m:\u001b[0m\u001b[0;34m\u001b[0m\u001b[0m\n",
      "\u001b[0;31mKeyboardInterrupt\u001b[0m: "
     ]
    }
   ],
   "source": [
    "%%cython --cplus --compile-args=-std=c++11 -I $fwdpy_includes -I $fwdpp_includes -l sequence -l gsl -l gslcblas\n",
    "\n",
    "from fwdpy.fwdpy cimport *\n",
    "from libsequence.polytable cimport *\n",
    "from cython.operator cimport dereference as deref\n",
    "\n",
    "cdef pi_using_pylibseq_cpp(const gsl_rng * r, const singlepop_t * pop, const unsigned nsam):\n",
    "        s = sample_single(r,<singlepop_t>deref(pop),nsam,True)\n",
    "        cdef sd = CppSimData()\n",
    "        sd.assign(s)\n",
    "        cdef ps = CppPolySim(&sd)\n",
    "        return ps.thetapi()\n",
    "\n",
    "def py_using_pylibseq_cython(GSLrng r,Spop pop,nsam):\n",
    "    return pi_using_pylibseq_cpp(r.thisptr.get(),pop.pop.get(),nsam)"
   ]
  },
  {
   "cell_type": "code",
   "execution_count": null,
   "metadata": {
    "collapsed": true
   },
   "outputs": [],
   "source": [
    "rng=fp.GSLrng(100)\n",
    "%timeit pi = [pi_using_pylibseq_cython(rng,i,100) for i in pops]"
   ]
  },
  {
   "cell_type": "code",
   "execution_count": null,
   "metadata": {
    "collapsed": true
   },
   "outputs": [],
   "source": []
  }
 ],
 "metadata": {
  "anaconda-cloud": {},
  "kernelspec": {
   "display_name": "Python [conda root]",
   "language": "python",
   "name": "conda-root-py"
  },
  "language_info": {
   "codemirror_mode": {
    "name": "ipython",
    "version": 3
   },
   "file_extension": ".py",
   "mimetype": "text/x-python",
   "name": "python",
   "nbconvert_exporter": "python",
   "pygments_lexer": "ipython3",
   "version": "3.5.3"
  }
 },
 "nbformat": 4,
 "nbformat_minor": 2
}
