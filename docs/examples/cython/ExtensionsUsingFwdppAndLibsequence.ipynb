{
 "cells": [
  {
   "cell_type": "code",
   "execution_count": 1,
   "metadata": {
    "collapsed": true,
    "deletable": true,
    "editable": true
   },
   "outputs": [],
   "source": [
    "%load_ext Cython"
   ]
  },
  {
   "cell_type": "markdown",
   "metadata": {
    "deletable": true,
    "editable": true
   },
   "source": [
    "# Integrating fwdpy with fwdpp and libsequence"
   ]
  },
  {
   "cell_type": "markdown",
   "metadata": {
    "deletable": true,
    "editable": true
   },
   "source": [
    "## Run some simulations"
   ]
  },
  {
   "cell_type": "code",
   "execution_count": 2,
   "metadata": {
    "collapsed": false,
    "deletable": true,
    "editable": true
   },
   "outputs": [],
   "source": [
    "import fwdpy as fp\n",
    "import fwdpy.fwdpyio as fpio\n",
    "import multiprocessing as mp\n",
    "import numpy as np"
   ]
  },
  {
   "cell_type": "code",
   "execution_count": 3,
   "metadata": {
    "collapsed": false,
    "deletable": true,
    "editable": true
   },
   "outputs": [],
   "source": [
    "#We will simulate 10 replicate populations using\n",
    "#Python's multiprocessing functionality.\n",
    "\n",
    "def simpop(seed):\n",
    "    \"\"\"\n",
    "    This function does the evolution\n",
    "    and returns a serialized population\n",
    "    \"\"\"\n",
    "    N=1000\n",
    "    theta=100.\n",
    "    nlist=np.array([N]*(10*N),dtype=np.uint32)\n",
    "    rng = fp.GSLrng(seed)\n",
    "    nregions=[fp.Region(0,1,1)]\n",
    "    sregions=[]\n",
    "    recregions=nregions\n",
    "    #Simulate 10 populations\n",
    "    pops = fp.evolve_regions(rng,1,N,nlist,theta/(4.*float(N)),\n",
    "                             0.,theta/(4.*float(N)),\n",
    "                             nregions,sregions,recregions)\n",
    "    #return the population as a binary string\n",
    "    return fpio.serialize(pops[0])\n",
    "\n",
    "#Run 10 sims via a multiprocessing pool\n",
    "seeds=[(i) for i in np.random.randint(0,42000000,10)]\n",
    "#Auto-determine degree of parallelism\n",
    "P=mp.Pool()\n",
    "#Retrieve each simulated population as a binary-encoded\n",
    "#string\n",
    "serialized_pops = [i for i in P.imap(simpop,seeds)]\n",
    "#Close the pool and block until the sims are done:\n",
    "P.close()\n",
    "P.join()\n",
    "#Turn our strings back into populations:\n",
    "pops = fpio.deserialize_singlepops(serialized_pops)"
   ]
  },
  {
   "cell_type": "markdown",
   "metadata": {
    "deletable": true,
    "editable": true
   },
   "source": [
    "\n",
    "## Calculate nucleotide diversity for a sample from each simulated replicate\n",
    "\n",
    "The next block of code is pure Python.  The function `pi_from_libsequence` uses [pylibseq](https://molpopgen.github.io/pylibseq) to calculate nucleotide diversity in a sample of size $n=100$.  The Python package pylibseq is based on the C++11 library [libsequence](https://molpopgen.github.io/libsequence)"
   ]
  },
  {
   "cell_type": "code",
   "execution_count": 4,
   "metadata": {
    "collapsed": false,
    "deletable": true,
    "editable": true
   },
   "outputs": [],
   "source": [
    "import libsequence.polytable as pt\n",
    "import libsequence.summstats as st\n",
    "\n",
    "def pi_using_pylibseq(rng,x,nsam):\n",
    "    s=fp.ms_sample(rng,x,nsam)\n",
    "    d=pt.SimData()\n",
    "    d.assign(s)\n",
    "    ad=st.PolySIM(d)\n",
    "    return ad.thetapi()"
   ]
  },
  {
   "cell_type": "markdown",
   "metadata": {
    "deletable": true,
    "editable": true
   },
   "source": [
    "Behind the scenes, [Cython](http://www.cython.org) is used to pass the simulated population's data back to functions from both the [fwdpp](http://molpopgen.github.io) and [libsequence](https://molpopgen.github.io/libsequence) libraries.\n",
    "\n",
    "fwdpy exposes a lot of the [fwdpp](http://molpopgen.github.io) API to you via Cython, and [pylibseq](https://molpopgen.github.io/pylibseq) gives you access to what you need from [libsequence](https://molpopgen.github.io/libsequence) to analyze simulation output.\n",
    "\n",
    "Let's re-implement `py_using_pylibseq` ourselves, so we can see some of what we can do:"
   ]
  },
  {
   "cell_type": "markdown",
   "metadata": {
    "deletable": true,
    "editable": true
   },
   "source": [
    "### Calculate nucleotide diversity using fwdpy's Cython APIs"
   ]
  },
  {
   "cell_type": "code",
   "execution_count": 5,
   "metadata": {
    "collapsed": true,
    "deletable": true,
    "editable": true
   },
   "outputs": [],
   "source": [
    "fwdpy_includes = fp.get_includes()\n",
    "fwdpp_includes = fp.get_fwdpp_includes()"
   ]
  },
  {
   "cell_type": "code",
   "execution_count": 6,
   "metadata": {
    "collapsed": false,
    "deletable": true,
    "editable": true,
    "scrolled": true
   },
   "outputs": [],
   "source": [
    "%%cython --cplus --compile-args=-std=c++11 -I $fwdpy_includes -I $fwdpp_includes -l sequence -l gsl -l gslcblas\n",
    "\n",
    "from fwdpy.fwdpy cimport *\n",
    "\n",
    "#sample_single is an alias for KTfwd::sample from \n",
    "#fwdpp/sugar/sampling.hpp.  It is for sampling\n",
    "#from single-deme, single-region simulations\n",
    "from fwdpy.fwdpp cimport sample_single\n",
    "from cython.operator cimport dereference as deref\n",
    "cdef pi_from_singlepop_cpp(const gsl_rng * r,const singlepop_t * pop, const unsigned nsam):\n",
    "    s = sample_single[singlepop_t](r,deref(pop),nsam,True)\n",
    "    pi = 0.\n",
    "    for i in s:\n",
    "        ones = float(i[1].count(b'1'))\n",
    "        pi += 2.0*ones*(float(nsam)-ones)\n",
    "    pi /= (float(nsam)*float(nsam-1))\n",
    "    return pi\n",
    "\n",
    "def pi_using_cython(GSLrng rng,Spop pop,nsam):\n",
    "    return pi_from_singlepop_cpp(rng.thisptr.get(),pop.pop.get(),nsam)"
   ]
  },
  {
   "cell_type": "code",
   "execution_count": 7,
   "metadata": {
    "collapsed": false,
    "deletable": true,
    "editable": true
   },
   "outputs": [
    {
     "name": "stdout",
     "output_type": "stream",
     "text": [
      "10 loops, best of 3: 34.8 ms per loop\n"
     ]
    }
   ],
   "source": [
    "rng=fp.GSLrng(100)\n",
    "%timeit -n10 pi = [pi_using_pylibseq(rng,i,50) for i in pops]"
   ]
  },
  {
   "cell_type": "code",
   "execution_count": 8,
   "metadata": {
    "collapsed": false,
    "deletable": true,
    "editable": true
   },
   "outputs": [
    {
     "name": "stdout",
     "output_type": "stream",
     "text": [
      "10 loops, best of 3: 20.6 ms per loop\n"
     ]
    }
   ],
   "source": [
    "rng=fp.GSLrng(100)\n",
    "%timeit -n10 pi = [pi_using_cython(rng,i,50) for i in pops]"
   ]
  },
  {
   "cell_type": "markdown",
   "metadata": {
    "deletable": true,
    "editable": true
   },
   "source": [
    "### Quick note on performance\n",
    "\n",
    "We beat libsequence for the case of calculating a single summary statistic.  This result will not hold in general--libsequence's `PolySIM` (pylibseq's `CppPolySIM`) actually goes over the data twice.  The first time is to pre-process mutation counts at all sites.  The second time is when `thetapi` is called and the stored allele counts are used to calculate the sum of site heterozygosity.  There is an additional inefficiency when using pylibseq due to copying the data (`s`) into libsequence's `SimData` object (`d`).\n",
    "\n",
    "Further, recall that $\\pi$ is part of many other statistics.  libsequence knows this, and its classes will store $\\pi$ after the first time it has been calculated, making calculating $\\pi$ and Tajima's $D$ and Fay and Wu's $H$ faster by re-using the stored value.\n",
    "\n",
    "In short, stick with libsequence routines (exposed via pylibseq) for all of the usual reasons to prefer existing libraries over hand-rolled code:\n",
    "\n",
    "1. they are well-tested\n",
    "2. they are fast\n",
    "3. you can still use custom code if you really know you'll only ever be calculating $\\pi$."
   ]
  },
  {
   "cell_type": "markdown",
   "metadata": {
    "collapsed": true,
    "deletable": true,
    "editable": true
   },
   "source": [
    "## Accessing selected and neutral mutations in a sample separately \n",
    "\n",
    "The next block of code shows how to get the SFS for segregating variation separately for neutral and selected variants.  We use the SFS function to get $\\pi$ separately for the two classes of variants."
   ]
  },
  {
   "cell_type": "code",
   "execution_count": 9,
   "metadata": {
    "collapsed": false,
    "deletable": true,
    "editable": true
   },
   "outputs": [],
   "source": [
    "%%cython --cplus --compile-args=-std=c++11 -I $fwdpy_includes -I $fwdpp_includes -l sequence -l gsl -l gslcblas\n",
    "\n",
    "from fwdpy.fwdpy cimport *\n",
    "#sample_single is an alias for KTfwd::sample from \n",
    "#fwdpp/sugar/sampling.hpp.  It is for sampling\n",
    "#from single-deme, single-region simulations\n",
    "from fwdpy.fwdpp cimport sample_separate_single,sample_t\n",
    "from cython.operator cimport dereference as deref\n",
    "from libcpp.utility cimport pair\n",
    "from libcpp.string cimport string as cppstring\n",
    "\n",
    "cdef extern from \"<utility>\" namespace \"std\" nogil:\n",
    "    pair[T,U] make_pair[T,U](T &,U &)\n",
    "\n",
    "cdef extern from \"<algorithm>\" namespace \"std\" nogil:\n",
    "    unsigned count[ITR,T](ITR,ITR,T)\n",
    "\n",
    "ctypedef cppstring.const_iterator citr\n",
    "\n",
    "cdef vector[double] sfs(const sample_t & s) except+:\n",
    "    cdef vector[double] rv\n",
    "    rv.resize(s[0].second.size()-1,0)\n",
    "    cdef size_t i=0,ones\n",
    "    cdef char derived = b'1'\n",
    "    while i < s.size():\n",
    "        ones=count(<citr>s[i].second.begin(),<citr>s[i].second.end(),derived)\n",
    "        if ones > 0 and ones < s.size(): #skip fixations\n",
    "            rv[ones-1]+=1\n",
    "        i+=1\n",
    "    return rv\n",
    "    \n",
    "cdef double pi(const sample_t & s) except+:\n",
    "    if s.empty() is True:\n",
    "        return 0.\n",
    "    cdef vector[double] sample_sfs = sfs(s)\n",
    "    cdef double pi = 0.\n",
    "    cdef double nsam = sample_sfs.size()+1\n",
    "    j=1\n",
    "    for i in sample_sfs:\n",
    "        if i>0:\n",
    "            pi += <double>i*<double>(j)*(nsam-<double>j)\n",
    "        j+=1\n",
    "    pi *= 2.0\n",
    "    pi /= nsam*(nsam-1.)\n",
    "    return pi    \n",
    "\n",
    "cdef pi_neutral_selected_cpp(const gsl_rng * r,const singlepop_t * pop, const unsigned nsam) except+:\n",
    "    cdef sep_sample_t s = sample_separate_single[singlepop_t](r,deref(pop),nsam,True)\n",
    "    return make_pair[double,double](<double>pi(s.first),<double>pi(s.second))    \n",
    "\n",
    "def pi_neutral_selected(GSLrng rng,Spop pop,nsam):\n",
    "    return pi_neutral_selected_cpp(rng.thisptr.get(),pop.pop.get(),nsam)"
   ]
  },
  {
   "cell_type": "code",
   "execution_count": 10,
   "metadata": {
    "collapsed": false,
    "deletable": true,
    "editable": true
   },
   "outputs": [],
   "source": [
    "rng=fp.GSLrng(100)\n",
    "pins=[pi_neutral_selected(rng,i,50) for i in pops]"
   ]
  },
  {
   "cell_type": "code",
   "execution_count": 11,
   "metadata": {
    "collapsed": false,
    "deletable": true,
    "editable": true
   },
   "outputs": [
    {
     "data": {
      "text/plain": [
       "(103.99755102040817, 0.0)"
      ]
     },
     "execution_count": 11,
     "metadata": {},
     "output_type": "execute_result"
    }
   ],
   "source": [
    "pins[0]"
   ]
  },
  {
   "cell_type": "code",
   "execution_count": 12,
   "metadata": {
    "collapsed": false,
    "deletable": true,
    "editable": true
   },
   "outputs": [
    {
     "data": {
      "text/plain": [
       "103.99755102040827"
      ]
     },
     "execution_count": 12,
     "metadata": {},
     "output_type": "execute_result"
    }
   ],
   "source": [
    "rng=fp.GSLrng(100)\n",
    "pi_using_pylibseq(rng,pops[0],50)"
   ]
  },
  {
   "cell_type": "markdown",
   "metadata": {},
   "source": [
    "As an _interface_, our Cython code is a bit sub-par.  As written, it is tough to get an SFS out for a sample and then get $\\pi$ for the same sample.  There are a few alternative possibilities, such as returning the SFS and then defining another function to get $\\pi$ from an SFS, perhaps using `numpy`.  I'll leave that as an excercise.\n",
    "\n",
    "Another possibility is to write functions that sample a pre-defined set of individuals.  This set could be randomly determined in the Python environment, or it could be defined non-randomly:"
   ]
  },
  {
   "cell_type": "code",
   "execution_count": 17,
   "metadata": {
    "collapsed": false
   },
   "outputs": [],
   "source": [
    "%%cython --cplus --compile-args=-std=c++11 -I $fwdpy_includes -I $fwdpp_includes -l sequence -l gsl -l gslcblas\n",
    "\n",
    "from fwdpy.fwdpy cimport *\n",
    "\n",
    "from fwdpy.fwdpp cimport sample_separate_single_ind,sample_t\n",
    "from cython.operator cimport dereference as deref\n",
    "from libcpp.utility cimport pair\n",
    "from libcpp.string cimport string as cppstring\n",
    "\n",
    "cdef extern from \"<algorithm>\" namespace \"std\" nogil:\n",
    "    unsigned count[ITR,T](ITR,ITR,T)\n",
    "\n",
    "ctypedef cppstring.const_iterator citr\n",
    "\n",
    "cdef vector[double] sfs(const sample_t & s) except+:\n",
    "    cdef vector[double] rv\n",
    "    rv.resize(s[0].second.size()-1,0)\n",
    "    cdef size_t i=0,ones\n",
    "    cdef char derived = b'1'\n",
    "    while i < s.size():\n",
    "        ones=count(<citr>s[i].second.begin(),<citr>s[i].second.end(),derived)\n",
    "        if ones > 0 and ones < s.size(): #skip fixations\n",
    "            rv[ones-1]+=1\n",
    "        i+=1\n",
    "    return rv\n",
    "\n",
    "def sfs_sep_from_sample(Spop pop,list individuals, removeFixed=True):\n",
    "    cdef sep_sample_t s = sample_separate_single_ind[singlepop_t](deref(pop.pop.get()),individuals,removeFixed)\n",
    "    return (sfs(s.first),sfs(s.second))\n",
    "\n",
    "def pi_sep_from_sfs(tuple sfs):\n",
    "    nsam = len(sfs[0])+1\n",
    "    neutral=0.\n",
    "    selected=0.\n",
    "    for i in range(len(sfs[0])):\n",
    "        neutral += float(sfs[0][i]*i*(nsam-i))\n",
    "    neutral *= 2.\n",
    "    neutral /= float(nsam*(nsam-1))\n",
    "    for i in range(len(sfs[1])):\n",
    "        selected += float(sfs[1][i]*i*(nsam-i))\n",
    "    selected *= 2.\n",
    "    selected /= float(nsam*(nsam-1))\n",
    "    return (neutral,selected)"
   ]
  },
  {
   "cell_type": "markdown",
   "metadata": {},
   "source": [
    "Note that this example avoids the need for the C++ `make_pair` function by defining the C++ types in the Python function and simply returning a tuple."
   ]
  }
 ],
 "metadata": {
  "anaconda-cloud": {},
  "kernelspec": {
   "display_name": "Python [conda root]",
   "language": "python",
   "name": "conda-root-py"
  },
  "language_info": {
   "codemirror_mode": {
    "name": "ipython",
    "version": 3
   },
   "file_extension": ".py",
   "mimetype": "text/x-python",
   "name": "python",
   "nbconvert_exporter": "python",
   "pygments_lexer": "ipython3",
   "version": "3.5.3"
  }
 },
 "nbformat": 4,
 "nbformat_minor": 2
}
