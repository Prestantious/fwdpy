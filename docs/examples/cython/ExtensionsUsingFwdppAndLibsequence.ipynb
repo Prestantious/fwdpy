{
 "cells": [
  {
   "cell_type": "code",
   "execution_count": 1,
   "metadata": {
    "collapsed": true,
    "deletable": true,
    "editable": true
   },
   "outputs": [],
   "source": [
    "%load_ext Cython"
   ]
  },
  {
   "cell_type": "markdown",
   "metadata": {
    "deletable": true,
    "editable": true
   },
   "source": [
    "# Integrating fwdpy with fwdpp and libsequence"
   ]
  },
  {
   "cell_type": "markdown",
   "metadata": {
    "deletable": true,
    "editable": true
   },
   "source": [
    "## Run some simulations"
   ]
  },
  {
   "cell_type": "code",
   "execution_count": 2,
   "metadata": {
    "collapsed": false,
    "deletable": true,
    "editable": true
   },
   "outputs": [],
   "source": [
    "import fwdpy as fp\n",
    "import fwdpy.fwdpyio as fpio\n",
    "import multiprocessing as mp\n",
    "import numpy as np"
   ]
  },
  {
   "cell_type": "code",
   "execution_count": 3,
   "metadata": {
    "collapsed": false,
    "deletable": true,
    "editable": true
   },
   "outputs": [],
   "source": [
    "#We will simulate 10 replicate populations using\n",
    "#Python's multiprocessing functionality.\n",
    "\n",
    "def simpop(seed):\n",
    "    \"\"\"\n",
    "    This function does the evolution\n",
    "    and returns a serialized population\n",
    "    \"\"\"\n",
    "    N=1000\n",
    "    theta=100.\n",
    "    nlist=np.array([N]*(10*N),dtype=np.uint32)\n",
    "    rng = fp.GSLrng(seed)\n",
    "    nregions=[fp.Region(0,1,1)]\n",
    "    sregions=[]\n",
    "    recregions=nregions\n",
    "    #Simulate 10 populations\n",
    "    pops = fp.evolve_regions(rng,1,N,nlist,theta/(4.*float(N)),\n",
    "                             0.,theta/(4.*float(N)),\n",
    "                             nregions,sregions,recregions)\n",
    "    #return the population as a binary string\n",
    "    return fpio.serialize(pops[0])\n",
    "\n",
    "#Run 100 sims via a multiprocessing pool\n",
    "seeds=[(i) for i in np.random.randint(0,42000000,100)]\n",
    "#Auto-determine degree of parallelism\n",
    "P=mp.Pool()\n",
    "serialized_pops = [i for i in P.imap(simpop,seeds)]\n",
    "P.close()\n",
    "P.join()\n",
    "pops = fpio.deserialize_singlepops(serialized_pops)"
   ]
  },
  {
   "cell_type": "markdown",
   "metadata": {
    "deletable": true,
    "editable": true
   },
   "source": [
    "## Calculate nucleotide diversity for a sample from each simulated replicate\n",
    "\n",
    "The next block of code is pure Python.  The function `pi_from_libsequence` uses [pylibseq](https://molpopgen.github.io/pylibseq) to calculate nucleotide diversity in a sample of size $n=100$.  The Python package pylibseq is based on the C++11 library [libsequence](https://molpopgen.github.io/libsequence)"
   ]
  },
  {
   "cell_type": "code",
   "execution_count": 4,
   "metadata": {
    "collapsed": false,
    "deletable": true,
    "editable": true
   },
   "outputs": [],
   "source": [
    "import libsequence.polytable as pt\n",
    "import libsequence.summstats as st\n",
    "\n",
    "def pi_using_pylibseq(rng,x,nsam):\n",
    "    s=fp.ms_sample(rng,x,nsam)\n",
    "    d=pt.SimData()\n",
    "    d.assign(s)\n",
    "    ad=st.PolySIM(d)\n",
    "    return ad.thetapi()"
   ]
  },
  {
   "cell_type": "markdown",
   "metadata": {
    "deletable": true,
    "editable": true
   },
   "source": [
    "Behind the scenes, [Cython](http://www.cython.org) is used to pass the simulated population's data back to functions from both the [fwdpp](http://molpopgen.github.io) and [libsequence](https://molpopgen.github.io/libsequence) libraries.\n",
    "\n",
    "fwdpy exposes a lot of the [fwdpp](http://molpopgen.github.io) API to you via Cython, and [pylibseq](https://molpopgen.github.io/pylibseq) gives you access to what you need from [libsequence](https://molpopgen.github.io/libsequence) to analyze simulation output.\n",
    "\n",
    "Let's re-implement `py_using_pylibseq` ourselves, so we can see some of what we can do:"
   ]
  },
  {
   "cell_type": "markdown",
   "metadata": {
    "deletable": true,
    "editable": true
   },
   "source": [
    "### Calculate nucleotide diversity using fwdpy's Cython APIs"
   ]
  },
  {
   "cell_type": "code",
   "execution_count": 5,
   "metadata": {
    "collapsed": true,
    "deletable": true,
    "editable": true
   },
   "outputs": [],
   "source": [
    "fwdpy_includes = fp.get_includes()\n",
    "fwdpp_includes = fp.get_fwdpp_includes()"
   ]
  },
  {
   "cell_type": "code",
   "execution_count": 6,
   "metadata": {
    "collapsed": false,
    "deletable": true,
    "editable": true,
    "scrolled": true
   },
   "outputs": [],
   "source": [
    "%%cython --cplus --compile-args=-std=c++11 -I $fwdpy_includes -I $fwdpp_includes -l sequence -l gsl -l gslcblas\n",
    "\n",
    "from fwdpy.fwdpy cimport *\n",
    "from cython.operator cimport dereference as deref\n",
    "cdef pi_from_singlepop_cpp(const gsl_rng * r,const singlepop_t * pop, const unsigned nsam):\n",
    "    s = sample_single[singlepop_t](r,deref(pop),nsam,True)\n",
    "    pi = 0.\n",
    "    for i in s:\n",
    "        ones = float(i[1].count(b'1'))\n",
    "        pi += 2.0*ones*(float(nsam)-ones)\n",
    "    pi /= (float(nsam)*float(nsam-1))\n",
    "    return pi\n",
    "\n",
    "def pi_using_cython(GSLrng rng,Spop pop,nsam):\n",
    "    return pi_from_singlepop_cpp(rng.thisptr.get(),pop.pop.get(),nsam)"
   ]
  },
  {
   "cell_type": "code",
   "execution_count": 7,
   "metadata": {
    "collapsed": false,
    "deletable": true,
    "editable": true
   },
   "outputs": [
    {
     "name": "stdout",
     "output_type": "stream",
     "text": [
      "1 loop, best of 3: 787 ms per loop\n"
     ]
    }
   ],
   "source": [
    "rng=fp.GSLrng(100)\n",
    "%timeit -n10 pi = [pi_using_pylibseq(rng,i,100) for i in pops]"
   ]
  },
  {
   "cell_type": "code",
   "execution_count": 8,
   "metadata": {
    "collapsed": false,
    "deletable": true,
    "editable": true
   },
   "outputs": [
    {
     "name": "stdout",
     "output_type": "stream",
     "text": [
      "1 loop, best of 3: 461 ms per loop\n"
     ]
    }
   ],
   "source": [
    "rng=fp.GSLrng(100)\n",
    "%timeit -n10 pi = [pi_using_cython(rng,i,100) for i in pops]"
   ]
  },
  {
   "cell_type": "code",
   "execution_count": 9,
   "metadata": {
    "collapsed": false,
    "deletable": true,
    "editable": true
   },
   "outputs": [
    {
     "name": "stdout",
     "output_type": "stream",
     "text": [
      "85.70808080808064\n",
      "85.70808080808081\n"
     ]
    }
   ],
   "source": [
    "rng=fp.GSLrng(100)\n",
    "print(pi_using_pylibseq(rng,pops[0],100))\n",
    "rng=fp.GSLrng(100)\n",
    "print(pi_using_cython(rng,pops[0],100))"
   ]
  },
  {
   "cell_type": "code",
   "execution_count": 28,
   "metadata": {
    "collapsed": false,
    "deletable": true,
    "editable": true
   },
   "outputs": [],
   "source": [
    "%%cython --cplus --compile-args=-std=c++11 -I $fwdpy_includes -I $fwdpp_includes -l sequence -l gsl -l gslcblas\n",
    "\n",
    "from fwdpy.fwdpy cimport *\n",
    "from libcpp.memory cimport unique_ptr\n",
    "from libsequence.polytable cimport CppSimData\n",
    "from libsequence.summstats cimport CppPolySIM\n",
    "from cython.operator cimport dereference as deref\n",
    "\n",
    "cdef pi_using_pylibseq_cpp(const gsl_rng * r, const singlepop_t * pop, const unsigned nsam):\n",
    "    cdef sample_t s = sample_single[singlepop_t](r,deref(pop),nsam,True)\n",
    "    cdef CppSimData sd = CppSimData(s.begin(),s.end())\n",
    "    cdef unique_ptr[CppPolySIM] ps\n",
    "    ps.reset(new CppPolySIM(&sd))\n",
    "    return ps.get().ThetaPi()\n",
    "\n",
    "def pi_using_pylibseq_cython(GSLrng r,Spop pop,nsam):\n",
    "    return pi_using_pylibseq_cpp(r.thisptr.get(),pop.pop.get(),nsam)"
   ]
  },
  {
   "cell_type": "code",
   "execution_count": 30,
   "metadata": {
    "collapsed": false,
    "deletable": true,
    "editable": true
   },
   "outputs": [
    {
     "name": "stdout",
     "output_type": "stream",
     "text": [
      "10 loops, best of 3: 759 ms per loop\n"
     ]
    }
   ],
   "source": [
    "rng=fp.GSLrng(100)\n",
    "%timeit -n10 pi = [pi_using_pylibseq_cython(rng,i,100) for i in pops]"
   ]
  },
  {
   "cell_type": "code",
   "execution_count": null,
   "metadata": {
    "collapsed": true,
    "deletable": true,
    "editable": true
   },
   "outputs": [],
   "source": []
  }
 ],
 "metadata": {
  "anaconda-cloud": {},
  "kernelspec": {
   "display_name": "Python [conda root]",
   "language": "python",
   "name": "conda-root-py"
  },
  "language_info": {
   "codemirror_mode": {
    "name": "ipython",
    "version": 3
   },
   "file_extension": ".py",
   "mimetype": "text/x-python",
   "name": "python",
   "nbconvert_exporter": "python",
   "pygments_lexer": "ipython3",
   "version": "3.5.3"
  }
 },
 "nbformat": 4,
 "nbformat_minor": 2
}
