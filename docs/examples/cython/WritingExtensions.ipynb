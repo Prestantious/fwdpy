{
 "cells": [
  {
   "cell_type": "markdown",
   "metadata": {},
   "source": [
    "# Extending fwdpy with Cython\n",
    "\n",
    "Cython makes it easy to [share definitions](http://docs.cython.org/en/latest/src/userguide/sharing_declarations.html) between packages, making it easy to use fwdpy's types to write custom code.  Further, as fwdpy depends on and installs [fwdpp](https://molpopgen.github.io/fwdpp), you get access to many of that library's features.  Even better, you can write your extensions and ignore a lot of gory details regarding compiling and linking--Cython handles that for you!\n",
    "\n",
    "This document serves as a rapid-fire tutorial both to the C++ types that underly fwdpy and how to use Cython to write your own extensions.\n",
    "\n",
    "## Plugins vs. packages\n",
    "\n",
    "For the most part, Cython code is written in files with the extension .pyx.  If you can write all of your extension in Cython, you may simply compile and import your module into a script using [pyximport](http://cython.readthedocs.io/en/latest/src/reference/compilation.html).  For user's familiar with [Rcpp](http://rcpp.org), think of pyimport as the analog to their `sourceCpp` function.\n",
    "\n",
    "When using pyximport, the function `fwdpy.make_pyxbld` will help you out a lot--please see its documentation in the reference manual.\n",
    "\n",
    "If you start writing a lot of extensions or your extensions require C++11 features that Cython cannot handle, then you may want to consider writing a full-blown package for your extensions. There are lots of examples online, from the Cython documentation to how the [fwdpy source code](http://github.com/molpopgen/fwdpy) is organized.\n",
    "\n",
    "## Linux vs OS X\n",
    "\n",
    "Due to issues with compiler support on OS X, Linux is the intended platform for using fwdpy. It is possible to install the package if you use GCC, which you can install via Anaconda.  \n",
    "\n",
    "When compiling extensions, Python's distutils attempts to force use of the same compiler used to build Python.  On OS X, that means clang, but fwdpy requires GCC on OS X.  Thus, you need to force the use of GCC via the CC/CXX environment variables.\n",
    "\n",
    "## An important note\n",
    "\n",
    "Many of the example functions below actually end up replicating things that are already doable in fwdpy.  In other words, you don't need any of the stuff below to do what is below.  These are examples for the point of documenting the C++/Cython API that you have access to.\n",
    "\n",
    "## Cython 'magic' lines\n",
    "\n",
    "Every Cython code block in this document begins with a line starting \"%%cython\".  That's another 'magic' command for the Jupyter notebooks.  It contains info needed to compile each code block.  You can basically ignore that."
   ]
  },
  {
   "cell_type": "code",
   "execution_count": 1,
   "metadata": {
    "collapsed": false
   },
   "outputs": [],
   "source": [
    "#This is a 'magic' command allowing us to \n",
    "#use Cython in a Jupyter notebook, which is\n",
    "#what we use to write this document.\n",
    "%load_ext Cython"
   ]
  },
  {
   "cell_type": "code",
   "execution_count": 2,
   "metadata": {
    "collapsed": false,
    "scrolled": true
   },
   "outputs": [
    {
     "name": "stderr",
     "output_type": "stream",
     "text": [
      "/usr/local/lib/python2.7/dist-packages/matplotlib/font_manager.py:273: UserWarning: Matplotlib is building the font cache using fc-list. This may take a moment.\n",
      "  warnings.warn('Matplotlib is building the font cache using fc-list. This may take a moment.')\n"
     ]
    }
   ],
   "source": [
    "import fwdpy as fp\n",
    "import numpy as np\n",
    "import matplotlib\n",
    "import numpy as np\n",
    "import matplotlib.pyplot as plt\n",
    "%matplotlib inline"
   ]
  },
  {
   "cell_type": "markdown",
   "metadata": {},
   "source": [
    "# Finding the headers\n",
    "fwdpy provides functions that reveal the locations of both the fwdpy C++ header files and the fwdpp C++ header files that are installed along with fwdpy.  You need to know these locations!"
   ]
  },
  {
   "cell_type": "code",
   "execution_count": 3,
   "metadata": {
    "collapsed": false
   },
   "outputs": [],
   "source": [
    "fwdpy_includes = fp.get_includes()\n",
    "fwdpp_includes = fp.get_fwdpp_includes()"
   ]
  },
  {
   "cell_type": "markdown",
   "metadata": {},
   "source": [
    "# Example 1: the site-frequency spectrum of all mutations\n",
    "\n",
    "The first function that we will write will calculate the site-frequency-spectrum (SFS) of the entire population.  We impose the following constraints to keep things simple:\n",
    "\n",
    "* We will only process single-deme objects (type fwdpy.Spop).\n",
    "\n",
    "On to our code for the SFS:"
   ]
  },
  {
   "cell_type": "code",
   "execution_count": 4,
   "metadata": {
    "collapsed": false
   },
   "outputs": [],
   "source": [
    "%%cython --cplus --compile-args=-std=c++11 -I $fwdpy_includes -I $fwdpp_includes -l sequence -l gsl -l gslcblas\n",
    "#Import all Cython symbols defined\n",
    "#in fwdpy's main module\n",
    "from fwdpy.fwdpy cimport *\n",
    "import numpy as np\n",
    "#Now, we define a C++ function that:\n",
    "#1. Takes the C++ representation as an argument\n",
    "#2. Returns a C++ vector of unsigned integers\n",
    "cdef vector[unsigned] sfs_cpp(const singlepop_t * pop):\n",
    "    #declare our return value.\n",
    "    #This is a standard C++ vector.\n",
    "    #The C++ vector is imported as a \n",
    "    #side-effect of cimporting fwdpp's\n",
    "    #Cython API\n",
    "    cdef vector[unsigned] rv\n",
    "    #For a population of N diploids,\n",
    "    #there are N bins in the SFS \n",
    "    #(including fixations, which\n",
    "    #we don't deal with here).\n",
    "    #So we initialize the return\n",
    "    #value to 2N zeroes\n",
    "    rv.resize(2*pop.N,0)\n",
    "    \n",
    "    #i is a dummy variable\n",
    "    cdef size_t i = 0\n",
    "    #A population contains a \n",
    "    #vector[unsigned] that represents\n",
    "    #the count (no. occurrences) of\n",
    "    #every mutation.  Warning: it also\n",
    "    #conatains mutations with a count of\n",
    "    #0 (zero) because fwdpp internally\n",
    "    #puts new variants in those spaces...\n",
    "    for i in range(pop.mcounts.size()):\n",
    "        #...so we check that\n",
    "        #a mutation's count\n",
    "        #is nonzero...\n",
    "        if pop.mcounts[i]>0:\n",
    "            #...and increment our return value\n",
    "            #accordingly.\n",
    "            rv[pop.mcounts[i]-1]+=1\n",
    "    #Return the SFS to Python\n",
    "    return rv\n",
    "\n",
    "def sfs(Spop pop):\n",
    "    \"\"\"\n",
    "    This is the Python function that will return the \n",
    "    SFS for a fwdpy.Spop object.\n",
    "    \n",
    "    Note that we can specify the argument type in the\n",
    "    \"def\" line.  \n",
    "    \n",
    "    This docstring can be processed by Sphinx, and so\n",
    "    we use Sphinx grammar for documenting the params,\n",
    "    and we make sure to provide a link to the documentation\n",
    "    of the parameter's expected type:\n",
    "    \n",
    "    :param pop: A :class:`fwdpy.fwdpy.Spop`\n",
    "    \n",
    "    :return: The site-frequency spectrum for pop\n",
    "    \n",
    "    :rtype: numpy.array with dtype numpy.uint32\n",
    "    \"\"\"\n",
    "    #Here, we call our Cython function.\n",
    "    #The fwdpy.Spop type contains a\n",
    "    #std::unique_ptr[singlepop_t] object\n",
    "    #called \"pop\".  So, we send the raw pointer\n",
    "    #to our Cython function:\n",
    "    return np.array(sfs_cpp(pop.pop.get()),dtype=np.uint32)"
   ]
  },
  {
   "cell_type": "code",
   "execution_count": 5,
   "metadata": {
    "collapsed": false
   },
   "outputs": [],
   "source": [
    "N=1000\n",
    "theta=100.\n",
    "nlist=np.array([N]*(10*N),dtype=np.uint32)\n",
    "rng = fp.GSLrng(135123)\n",
    "nregions=[fp.Region(0,1,1)]\n",
    "sregions=[]\n",
    "recregions=nregions\n",
    "#Simulate 10 populations\n",
    "pops = fp.evolve_regions(rng,10,N,nlist,theta/(4.*float(N)),0.,theta/(4.*float(N)),nregions,sregions,recregions)"
   ]
  },
  {
   "cell_type": "code",
   "execution_count": 6,
   "metadata": {
    "collapsed": false
   },
   "outputs": [
    {
     "name": "stdout",
     "output_type": "stream",
     "text": [
      "[106  49  40  37  14  16  11  16   2   4]\n",
      "<type 'numpy.ndarray'>\n"
     ]
    }
   ],
   "source": [
    "sfs_pop=sfs(pops[0])\n",
    "print(sfs_pop[0:10])\n",
    "print(type(sfs_pop))"
   ]
  },
  {
   "cell_type": "markdown",
   "metadata": {
    "collapsed": true
   },
   "source": [
    "Get the mean SFS for our 10 replicates:"
   ]
  },
  {
   "cell_type": "code",
   "execution_count": 7,
   "metadata": {
    "collapsed": false
   },
   "outputs": [
    {
     "data": {
      "text/plain": [
       "array([ 109. ,   50.1,   36.5, ...,    0. ,    0. ,    0. ])"
      ]
     },
     "execution_count": 7,
     "metadata": {},
     "output_type": "execute_result"
    }
   ],
   "source": [
    "mean_sfs = np.sum([sfs(i) for i in pops],axis=0)/10.\n",
    "mean_sfs"
   ]
  },
  {
   "cell_type": "markdown",
   "metadata": {},
   "source": [
    "## Pythonic or not?\n",
    "\n",
    "The `sfs_cpp` function takes a const pointer for an argument.  If we relax that constraint, we can write some of the details in a more relaxed, Pythonic manner:"
   ]
  },
  {
   "cell_type": "code",
   "execution_count": 8,
   "metadata": {
    "collapsed": true
   },
   "outputs": [],
   "source": [
    "%%cython --cplus --compile-args=-std=c++11 -I $fwdpy_includes -I $fwdpp_includes -l sequence -l gsl -l gslcblas\n",
    "from fwdpy.fwdpy cimport *\n",
    "import numpy as np\n",
    "#A non-const pointer now:\n",
    "cdef vector[unsigned] sfs_cpp_pythonic(singlepop_t * pop):\n",
    "    cdef vector[unsigned] rv\n",
    "    rv.resize(2*pop.N,0)\n",
    "    cdef size_t i = 0\n",
    "    #When operating in a non-const\n",
    "    #context, you can use \n",
    "    #Python-like syntax\n",
    "    #to iterate over C++\n",
    "    #containers:\n",
    "    for i in pop.mcounts:\n",
    "        if i>0:\n",
    "            rv[i-1]+=1\n",
    "    return rv\n",
    "\n",
    "def sfs_pythonic(Spop pop):\n",
    "    \"\"\"\n",
    "    This is another Python function that will return the \n",
    "    SFS for a fwdpy.Spop object.\n",
    "    \n",
    "    :param pop: A :class:`fwdpy.fwdpy.Spop`\n",
    "    \n",
    "    :return: The site-frequency spectrum for pop\n",
    "    \n",
    "    :rtype: numpy.array with dtype numpy.uint32\n",
    "    \"\"\"\n",
    "    return np.array(sfs_cpp_pythonic(pop.pop.get()),dtype=np.uint32)"
   ]
  },
  {
   "cell_type": "markdown",
   "metadata": {},
   "source": [
    "We get the same results:"
   ]
  },
  {
   "cell_type": "code",
   "execution_count": 9,
   "metadata": {
    "collapsed": false
   },
   "outputs": [
    {
     "data": {
      "text/plain": [
       "array([ 109. ,   50.1,   36.5, ...,    0. ,    0. ,    0. ])"
      ]
     },
     "execution_count": 9,
     "metadata": {},
     "output_type": "execute_result"
    }
   ],
   "source": [
    "mean_sfs = np.sum([sfs_pythonic(i) for i in pops],axis=0)/10.\n",
    "mean_sfs"
   ]
  },
  {
   "cell_type": "markdown",
   "metadata": {},
   "source": [
    "Why would you use the more complex first method?  From a C++ purist's perspective, the latter function protoype (with the non-const pointer argument) is annoying.  While the function does not modify the input value, but you cannot know that without reading its implementation in detail.  Personally, I like having the function fail to compile if I accidentally try to modify a constant object."
   ]
  },
  {
   "cell_type": "markdown",
   "metadata": {},
   "source": [
    "## Getting the SFS from fwdpy\n",
    "\n",
    "Remember, the above code replicates existing fwdpy features.  To get the SFS, use \"views\" of the mutations in your simulation:"
   ]
  },
  {
   "cell_type": "code",
   "execution_count": 10,
   "metadata": {
    "collapsed": false
   },
   "outputs": [
    {
     "data": {
      "text/plain": [
       "array([ 109. ,   50.1,   36.5, ...,    0. ,    0. ,    0. ])"
      ]
     },
     "execution_count": 10,
     "metadata": {},
     "output_type": "execute_result"
    }
   ],
   "source": [
    "mean_sfs_views = np.array([0.]*2*N)\n",
    "for v in fp.view_mutations(pops):\n",
    "    for m in v:\n",
    "        mean_sfs_views[m['n']-1]+=1\n",
    "mean_sfs_views /= 10.\n",
    "mean_sfs_views"
   ]
  },
  {
   "cell_type": "markdown",
   "metadata": {},
   "source": [
    "# Separating the neutral and selected SFS"
   ]
  },
  {
   "cell_type": "code",
   "execution_count": 55,
   "metadata": {
    "collapsed": true
   },
   "outputs": [],
   "source": [
    "#Now simulated selected variants\n",
    "sregions=[fp.GammaS(0,1,0.9,-0.043,0.23,1),\n",
    "         fp.ExpS(0,1,0.1,0.01,1)]\n",
    "theta_selected = 0.1*theta\n",
    "#Re-simulate 10 populations\n",
    "pops = fp.evolve_regions(rng,10,N,nlist,theta/(4.*float(N)),theta_selected/(4.*float(N)),theta/(4.*float(N)),nregions,sregions,recregions)"
   ]
  },
  {
   "cell_type": "code",
   "execution_count": 56,
   "metadata": {
    "collapsed": false
   },
   "outputs": [],
   "source": [
    "%%cython --cplus --compile-args=-std=c++11 -I $fwdpy_includes -I $fwdpp_includes -l sequence -l gsl -l gslcblas\n",
    "#Import all Cython symbols defined\n",
    "#in fwdpy's main module\n",
    "from fwdpy.fwdpy cimport *\n",
    "from libcpp.utility cimport pair\n",
    "import numpy as np\n",
    "\n",
    "ctypedef vector[unsigned] vu\n",
    "ctypedef pair[vu,vu] pvuvu\n",
    "\n",
    "cdef pvuvu sfs_sep_cpp(const singlepop_t * pop):\n",
    "    cdef pvuvu rv\n",
    "    rv.first.resize(2*pop.N,0)\n",
    "    rv.second.resize(2*pop.N,0)\n",
    "    cdef size_t i = 0\n",
    "    for i in range(pop.mcounts.size()):\n",
    "        if pop.mcounts[i]>0:\n",
    "            #Populations store their mutations\n",
    "            #in a vector. A mutation\n",
    "            #contains a boolean recording its\n",
    "            #\"neutrality\":\n",
    "            if pop.mutations[i].neutral is True:\n",
    "                #The first element will be the\n",
    "                #neutral SFS\n",
    "                rv.first[pop.mcounts[i]-1]+=1\n",
    "            else:\n",
    "                #The second will be the selected\n",
    "                #SFS\n",
    "                rv.second[pop.mcounts[i]-1]+=1\n",
    "    #Return the SFS to Python.\n",
    "    #Cython auto-converts the\n",
    "    #pair of vectors to a \n",
    "    #tuple of lists\n",
    "    return rv\n",
    "\n",
    "def sfs_sep(Spop pop):\n",
    "    \"\"\"\n",
    "    This is the Python function that will return the \n",
    "    SFS for a fwdpy.Spop object.  The sfs will be \n",
    "    separate for neutral variants\n",
    "    \n",
    "    :param pop: A :class:`fwdpy.fwdpy.Spop`\n",
    "    \n",
    "    :return: The site-frequency spectrum for pop, separating\n",
    "    neutral and selected variants\n",
    "    \n",
    "    :rtype: tuple of numpy.array with dtype numpy.uint32\n",
    "    \"\"\"\n",
    "    return np.array(sfs_sep_cpp(pop.pop.get()),dtype=np.uint32)"
   ]
  },
  {
   "cell_type": "markdown",
   "metadata": {},
   "source": [
    "Let's apply our new function and get the mean normalized SFS for neutral and selected variants."
   ]
  },
  {
   "cell_type": "code",
   "execution_count": 57,
   "metadata": {
    "collapsed": false
   },
   "outputs": [
    {
     "name": "stdout",
     "output_type": "stream",
     "text": [
      "[ 0.18159607  0.08006132  0.05788657 ...,  0.          0.          0.        ]\n",
      "[ 0.27737227  0.08540649  0.08842448 ...,  0.          0.00243902  0.        ]\n"
     ]
    }
   ],
   "source": [
    "pop_sfs_sep = [sfs_sep(i) for i in pops]\n",
    "#Note that we need to cast one array from uint32 to float,\n",
    "#so that numpy promotes the calculation to floating-point.\n",
    "mean_norm_sfs_neut = np.sum([i[0].astype(np.float)/np.sum(i[0]) for i in pop_sfs_sep],axis=0) / float(len(pops))\n",
    "mean_norm_sfs_sel = np.sum([i[1].astype(np.float)/np.sum(i[1]) for i in pop_sfs_sep],axis=0) / float(len(pops))\n",
    "print(mean_norm_sfs_neut)\n",
    "print(mean_norm_sfs_sel)"
   ]
  },
  {
   "cell_type": "markdown",
   "metadata": {},
   "source": [
    "# The relationship between frequency and \"s\" (or effect size)\n",
    "\n",
    "Here, we write a function that returns the frequency of a mutation in the population and its selection coefficient/effect size.\n",
    "\n",
    "This examples shows off some of Cython's quirks :)."
   ]
  },
  {
   "cell_type": "code",
   "execution_count": 58,
   "metadata": {
    "collapsed": false
   },
   "outputs": [],
   "source": [
    "%%cython --cplus --compile-args=-std=c++11 -I $fwdpy_includes -I $fwdpp_includes -l sequence -l gsl -l gslcblas\n",
    "\n",
    "from fwdpy.fwdpy cimport *\n",
    "from libcpp.utility cimport pair\n",
    "import numpy as np\n",
    "\n",
    "ctypedef vector[double] vd\n",
    "ctypedef pair[vd,vd] pvdvd\n",
    "\n",
    "#Annoyingly, Cython currently does not \n",
    "#expose std::make_pair, so we will \n",
    "#do it here ourselves!\n",
    "#If we don't have std::make_pair,\n",
    "#we end up making extra temporary copies\n",
    "#of our return values in memory.  That's \n",
    "#not cool, as we're doing this because\n",
    "#we care about efficiency!\n",
    "cdef extern from \"<utility>\" namespace \"std\" nogil:\n",
    "    pair[T,U] make_pair[T,U](T&,U&)\n",
    "\n",
    "cdef pvdvd freq_esize_cpp(const singlepop_t * pop):\n",
    "    cdef vd freq,esize\n",
    "    cdef double twoN = 2.0*float(pop.N)\n",
    "    cdef size_t i = 0\n",
    "    cdef size_t nm=0\n",
    "    for i in range(pop.mcounts.size()):\n",
    "        if pop.mcounts[i]>0:\n",
    "            if pop.mutations[i].neutral is False:\n",
    "                freq.push_back(float(pop.mcounts[i])/twoN)\n",
    "                #s records the effect size/selection coefficient\n",
    "                esize.push_back(pop.mutations[i].s)\n",
    "    #For some reason, we need to provide casts\n",
    "    #so that Cython can get the types right for the call to\n",
    "    #make_pair:\n",
    "    return make_pair(<vd>freq,<vd>esize)\n",
    "\n",
    "def freq_esize(Spop pop):\n",
    "    return freq_esize_cpp(pop.pop.get())"
   ]
  },
  {
   "cell_type": "markdown",
   "metadata": {},
   "source": [
    "Let's get the result for our first population and plot it using matplotlib:"
   ]
  },
  {
   "cell_type": "code",
   "execution_count": 59,
   "metadata": {
    "collapsed": false
   },
   "outputs": [
    {
     "data": {
      "text/plain": [
       "(0, 1)"
      ]
     },
     "execution_count": 59,
     "metadata": {},
     "output_type": "execute_result"
    },
    {
     "data": {
      "image/png": "[encoded data removed]",
      "text/plain": [
       "<matplotlib.figure.Figure at 0x7fabf7474950>"
      ]
     },
     "metadata": {},
     "output_type": "display_data"
    }
   ],
   "source": [
    "x = freq_esize(pops[0])\n",
    "x[0]\n",
    "fig,ax=plt.subplots()\n",
    "ax.scatter(x[0],x[1])\n",
    "ax.set_xlabel(\"Mutation frequency\")\n",
    "ax.set_ylabel(\"Selection coefficient\")\n",
    "ax.set_xlim(0,1)"
   ]
  },
  {
   "cell_type": "markdown",
   "metadata": {
    "collapsed": true
   },
   "source": [
    "# The number of selected mutations per diploid plus fitness of each diploid\n",
    "\n",
    "In this section, we learn to process diploids.  We take advantage of Cython's automatic C++ map to Python dict conversion for our return value.\n",
    "\n",
    "The key concepts here are:\n",
    "\n",
    "1. Diploids are pairs of integers\n",
    "2. Each integer refers to a gamete in pop.gametes\n",
    "3. A gamete contains two containers, mutations and smutations, which represent neutral and selected mutations, respectively."
   ]
  },
  {
   "cell_type": "code",
   "execution_count": 1,
   "metadata": {
    "collapsed": false
   },
   "outputs": [],
   "source": [
    "%%cython --cplus --compile-args=-std=c++11 -I $fwdpy_includes -I $fwdpp_includes -l sequence -l gsl -l gslcblas\n",
    "\n",
    "from fwdpy.fwdpy cimport *\n",
    "from libcpp.utility cimport pair\n",
    "from libcpp.string cimport string as cppstring\n",
    "from libcpp.map cimport map\n",
    "import numpy as np\n",
    "\n",
    "ctypedef map[string,double] map_type\n",
    "\n",
    "cdef vector[map_type] load_fitness_cpp(const singlepop_t * pop):\n",
    "    #Cython requires C-like declarations,\n",
    "    #meaning that variables cannot be declared\n",
    "    #in loop bodies.\n",
    "    cdef vector[map_type] rv\n",
    "    cdef size_t i=0\n",
    "    cdef map_type m\n",
    "    cdef unsigned n1,n2\n",
    "    for i in range(pop.N):\n",
    "        #initialize empty\n",
    "        #map\n",
    "        m = map_type()\n",
    "        #Update the fitness\n",
    "        m['w'] = pop.diploids[i].w\n",
    "        #Get no. selected mutations\n",
    "        #on first gamete. A diploid\n",
    "        #is modeled after pair[size_t,size_t],\n",
    "        #with each integer referring to each\n",
    "        #allele.\n",
    "        n1 = pop.gametes[pop.diploids[i].first].smutations.size()\n",
    "        #Same deal for the second\n",
    "        n2 = pop.gametes[pop.diploids[i].second].smutations.size()\n",
    "        m['load'] = n1+n2\n",
    "        rv.push_back(m)\n",
    "    return rv\n",
    "    \n",
    "def load_fitness(Spop pop):\n",
    "    return load_fitness_cpp(pop.pop.get())"
   ]
  },
  {
   "cell_type": "markdown",
   "metadata": {},
   "source": [
    "Let's apply the function to the first population and generate histograms from the results:"
   ]
  },
  {
   "cell_type": "code",
   "execution_count": 61,
   "metadata": {
    "collapsed": false
   },
   "outputs": [
    {
     "data": {
      "text/plain": [
       "<matplotlib.text.Text at 0x7fabba17b7d0>"
      ]
     },
     "execution_count": 61,
     "metadata": {},
     "output_type": "execute_result"
    },
    {
     "data": {
      "image/png": "[encoded data removed]",
      "text/plain": [
       "<matplotlib.figure.Figure at 0x7fabf5039850>"
      ]
     },
     "metadata": {},
     "output_type": "display_data"
    }
   ],
   "source": [
    "load = load_fitness(pops[0])\n",
    "n, bins, patches = plt.hist([i['w'] for i in load], 50, normed=0, facecolor='green', alpha=0.75)\n",
    "plt.xlabel(\"Fitness\")\n",
    "plt.ylabel(\"Number of individuals\")"
   ]
  },
  {
   "cell_type": "code",
   "execution_count": 62,
   "metadata": {
    "collapsed": false
   },
   "outputs": [
    {
     "data": {
      "text/plain": [
       "<matplotlib.text.Text at 0x7fabb9f78650>"
      ]
     },
     "execution_count": 62,
     "metadata": {},
     "output_type": "execute_result"
    },
    {
     "data": {
      "image/png": "[encoded data removed]",
      "text/plain": [
       "<matplotlib.figure.Figure at 0x7fabba0a6210>"
      ]
     },
     "metadata": {},
     "output_type": "display_data"
    }
   ],
   "source": [
    "n, bins, patches = plt.hist([i['load'] for i in load], 50, normed=0, facecolor='green', alpha=0.75)\n",
    "plt.xlabel(\"Number of selected mutations\")\n",
    "plt.ylabel(\"Number of individuals\")"
   ]
  },
  {
   "cell_type": "markdown",
   "metadata": {},
   "source": [
    "# The mean effect size of selected mutations on each haplotype in each diploid\n",
    "\n",
    "In this example, we learn how to access the actual mutations on each diploid.\n",
    "\n",
    "One thing we learn here is that fwdpy provides a bunch of typedefs for various data objects.  These include:\n",
    "\n",
    "* diploid_t = a diploid\n",
    "* gamete_t = a gamete\n",
    "* gcont_t = vector[gamete_t]\n",
    "* mutation_t = a mutation\n",
    "* mcont_t = vector[mutation_t]"
   ]
  },
  {
   "cell_type": "code",
   "execution_count": 76,
   "metadata": {
    "collapsed": false
   },
   "outputs": [],
   "source": [
    "%%cython --cplus --compile-args=-std=c++11 -I $fwdpy_includes -I $fwdpp_includes -l sequence -l gsl -l gslcblas\n",
    "\n",
    "from fwdpy.fwdpy cimport *\n",
    "\n",
    "#I really should add this to Cython in a PR :)\n",
    "cdef extern from \"<utility>\" namespace \"std\" nogil:\n",
    "    pair[T,U] make_pair[T,U](T&,U&)\n",
    "\n",
    "ctypedef vector[pair[double,double]] return_type\n",
    "\n",
    "#Define a second function to save a bunch of copy/paste\n",
    "#in our main work function\n",
    "cdef double get_mean_s(const gamete_t & g,const mcont_t & mutations):\n",
    "    if g.smutations.empty():\n",
    "        return 0.\n",
    "    cdef sum_s=0.\n",
    "    cdef size_t i\n",
    "    #The containers in each gametes\n",
    "    #contain unsigned 32-bit integers\n",
    "    #referring to locations in the \n",
    "    #mutations container\n",
    "    for i in range(g.smutations.size()):\n",
    "            sum_s += mutations[g.smutations[i]].s\n",
    "    return sum_s/<double>g.smutations.size()\n",
    "\n",
    "cdef return_type mean_s_cpp(const singlepop_t * pop):\n",
    "    cdef return_type rv\n",
    "    cdef size_t i\n",
    "    cdef double m1,m2\n",
    "    for i in range(pop.diploids.size()):\n",
    "        m1=get_mean_s(pop.gametes[pop.diploids[i].first],pop.mutations)\n",
    "        m2=get_mean_s(pop.gametes[pop.diploids[i].second],pop.mutations)\n",
    "        rv.push_back(make_pair(<double>m1,<double>m2))\n",
    "    return rv\n",
    "\n",
    "\n",
    "def mean_s(Spop pop):\n",
    "    return mean_s_cpp(pop.pop.get())    "
   ]
  },
  {
   "cell_type": "code",
   "execution_count": 80,
   "metadata": {
    "collapsed": false
   },
   "outputs": [
    {
     "data": {
      "text/plain": [
       "<matplotlib.text.Text at 0x7fabf40ed550>"
      ]
     },
     "execution_count": 80,
     "metadata": {},
     "output_type": "execute_result"
    },
    {
     "data": {
      "image/png": "[encoded data removed]",
      "text/plain": [
       "<matplotlib.figure.Figure at 0x7fabbbfd6b90>"
      ]
     },
     "metadata": {},
     "output_type": "display_data"
    }
   ],
   "source": [
    "s_per_dip=mean_s(pops[0])\n",
    "n, bins, patches = plt.hist([i[0]+i[1] for i in s_per_dip], 50, normed=0, facecolor='green', alpha=0.75)\n",
    "plt.xlabel(\"Sum of mean s per chromosome\")\n",
    "plt.ylabel(\"Number of individuals\")"
   ]
  }
 ],
 "metadata": {
  "kernelspec": {
   "display_name": "Python 2",
   "language": "python",
   "name": "python2"
  },
  "language_info": {
   "codemirror_mode": {
    "name": "ipython",
    "version": 2
   },
   "file_extension": ".py",
   "mimetype": "text/x-python",
   "name": "python",
   "nbconvert_exporter": "python",
   "pygments_lexer": "ipython2",
   "version": "2.7.12"
  }
 },
 "nbformat": 4,
 "nbformat_minor": 0
}
