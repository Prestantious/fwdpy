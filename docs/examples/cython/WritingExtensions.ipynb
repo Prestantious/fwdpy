{
 "cells": [
  {
   "cell_type": "markdown",
   "metadata": {},
   "source": [
    "# Extending fwdpy with Cython\n",
    "\n",
    "Cython makes it easy to [share definitions](http://docs.cython.org/en/latest/src/userguide/sharing_declarations.html) between packages, making it easy to use fwdpy's types to write custom code.  Further, as fwdpy depends on and installs [fwdpp](https://molpopgen.github.io/fwdpp), you get access to many of that library's features.  Even better, you can write your extensions and ignore a lot of gory details regarding compiling and linking--Cython handles that for you!\n",
    "\n",
    "This document serves as a rapid-fire tutorial both to the C++ types that underly fwdpy and how to use Cython to write your own extensions.\n",
    "\n",
    "## Plugins vs. packages\n",
    "\n",
    "For the most part, Cython code is written in files with the extension .pyx.  If you can write all of your extension in Cython, you may simply compile and import your module into a script using [pyximport](http://cython.readthedocs.io/en/latest/src/reference/compilation.html).  For user's familiar with [Rcpp](http://rcpp.org), think of pyimport as the analog to their `sourceCpp` function.\n",
    "\n",
    "When using pyxbld, the function `fwdpy.make_pyxbld` will help you out a lot--please see its documentation in the reference manual.\n",
    "\n",
    "If you start writing a lot of extensions or your extensions require C++11 features that Cython cannot handle, then you may want to consider writing a full-blown package for your extensions. There are lots of examples online, from the Cython documentation to how the [fwdpy source code](http://github.com/molpopgen/fwdpy) is organized.\n",
    "\n",
    "## Linux vs OS X\n",
    "\n",
    "## An important note\n",
    "\n",
    "Many of the example functions below actually end up replicating things that are already doable in fwdpy.  In other words, you don't need any of the stuff below to do what is below.  These are examples for the point of documenting the C++/Cython API that you have access to."
   ]
  },
  {
   "cell_type": "code",
   "execution_count": 1,
   "metadata": {
    "collapsed": false
   },
   "outputs": [],
   "source": [
    "#This is a 'magic' command allowing us to \n",
    "#use Cython in a Jupyter notebook, which is\n",
    "#what we use to write this document.\n",
    "%load_ext Cython"
   ]
  },
  {
   "cell_type": "code",
   "execution_count": 2,
   "metadata": {
    "collapsed": false,
    "scrolled": true
   },
   "outputs": [],
   "source": [
    "import fwdpy as fp\n",
    "import numpy as np"
   ]
  },
  {
   "cell_type": "markdown",
   "metadata": {},
   "source": [
    "# Finding the headers\n",
    "fwdpy provides functions that reveal the locations of both the fwdpy C++ header files and the fwdpp C++ header files that are installed along with fwdpy.  You need to know these locations!"
   ]
  },
  {
   "cell_type": "code",
   "execution_count": 3,
   "metadata": {
    "collapsed": false
   },
   "outputs": [],
   "source": [
    "fwdpy_includes = fp.get_includes()\n",
    "fwdpp_includes = fp.get_fwdpp_includes()"
   ]
  },
  {
   "cell_type": "markdown",
   "metadata": {},
   "source": [
    "# Example 1: the site-frequency spectrum of all mutations\n",
    "\n",
    "The first function that we will write will calculate the site-frequency-spectrum (SFS) of the entire population.  We impose the following constraints to keep things simple:\n",
    "\n",
    "* We will only process single-deme objects (type fwdpy.Spop).\n",
    "\n",
    "## Cython 'magic' lines\n",
    "\n",
    "Every Cython code block in this document begins with a line starting \"%%cython\".  That's another 'magic' command for the Jupyter notebooks.  It contains info needed to compile each code block.  You can basically ignore that.\n",
    "\n",
    "On to our code for the SFS"
   ]
  },
  {
   "cell_type": "code",
   "execution_count": 4,
   "metadata": {
    "collapsed": false
   },
   "outputs": [],
   "source": [
    "%%cython --cplus --compile-args=-std=c++11 -I $fwdpy_includes -I $fwdpp_includes -l sequence -l gsl -l gslcblas\n",
    "#Import all Cython symbols defined\n",
    "#in fwdpy's main module\n",
    "from fwdpy.fwdpy cimport *\n",
    "import numpy as np\n",
    "#Now, we define a C++ function that:\n",
    "#1. Takes the C++ representation as an argument\n",
    "#2. Returns a C++ vector of unsigned integers\n",
    "cdef vector[unsigned] sfs_cpp(const singlepop_t * pop):\n",
    "    #declare our return value.\n",
    "    #This is a standard C++ vector.\n",
    "    #The C++ vector is imported as a \n",
    "    #side-effect of cimporting fwdpp's\n",
    "    #Cython API\n",
    "    cdef vector[unsigned] rv\n",
    "    #For a population of N diploids,\n",
    "    #there are N bins in the SFS \n",
    "    #(including fixations, which\n",
    "    #we don't deal with here).\n",
    "    #So we initialize the return\n",
    "    #value to 2N zeroes\n",
    "    rv.resize(2*pop.N,0)\n",
    "    \n",
    "    #i is a dummy variable\n",
    "    cdef size_t i = 0\n",
    "    #A population contains a \n",
    "    #vector[unsigned] that represents\n",
    "    #the count (no. occurrences) of\n",
    "    #every mutation.  Warning: it also\n",
    "    #conatains mutations with a count of\n",
    "    #0 (zero) because fwdpp internally\n",
    "    #puts new variants in those spaces...\n",
    "    for i in range(pop.mcounts.size()):\n",
    "        #...so we check that\n",
    "        #a mutation's count\n",
    "        #is nonzero...\n",
    "        if pop.mcounts[i]>0:\n",
    "            #...and increment our return value\n",
    "            #accordingly.\n",
    "            rv[pop.mcounts[i]-1]+=1\n",
    "    #Return the SFS to Python\n",
    "    return rv\n",
    "\n",
    "def sfs(Spop pop):\n",
    "    \"\"\"\n",
    "    This is the Python function that will return the \n",
    "    SFS for a fwdpy.Spop object.\n",
    "    \n",
    "    Note that we can specify the argument type in the\n",
    "    \"def\" line.  \n",
    "    \n",
    "    This docstring can be processed by Sphinx, and so\n",
    "    we use Sphinx grammar for documenting the params,\n",
    "    and we make sure to provide a link to the documentation\n",
    "    of the parameter's expected type:\n",
    "    \n",
    "    :param pop: A :class:`fwdpy.fwdpy.Spop`\n",
    "    \n",
    "    :return: The site-frequency spectrum for pop\n",
    "    \n",
    "    :rtype: numpy.array with dtype numpy.uint32\n",
    "    \"\"\"\n",
    "    #Here, we call our Cython function.\n",
    "    #The fwdpy.Spop type contains a\n",
    "    #std::unique_ptr[singlepop_t] object\n",
    "    #called \"pop\".  So, we send the raw pointer\n",
    "    #to our Cython function:\n",
    "    return np.array(sfs_cpp(pop.pop.get()),dtype=np.uint32)"
   ]
  },
  {
   "cell_type": "code",
   "execution_count": 5,
   "metadata": {
    "collapsed": false
   },
   "outputs": [],
   "source": [
    "N=1000\n",
    "theta=100.\n",
    "nlist=np.array([N]*(10*N),dtype=np.uint32)\n",
    "rng = fp.GSLrng(135123)\n",
    "nregions=[fp.Region(0,1,1)]\n",
    "sregions=[]\n",
    "recregions=nregions\n",
    "pops = fp.evolve_regions(rng,10,N,nlist,theta/(4.*float(N)),0.,theta/(4.*float(N)),nregions,sregions,recregions)"
   ]
  },
  {
   "cell_type": "code",
   "execution_count": 6,
   "metadata": {
    "collapsed": false
   },
   "outputs": [
    {
     "name": "stdout",
     "output_type": "stream",
     "text": [
      "[106  49  40  37  14  16  11  16   2   4]\n"
     ]
    }
   ],
   "source": [
    "sfs_pop=sfs(pops[0])\n",
    "print(sfs_pop[0:10])"
   ]
  },
  {
   "cell_type": "code",
   "execution_count": 7,
   "metadata": {
    "collapsed": false
   },
   "outputs": [
    {
     "name": "stdout",
     "output_type": "stream",
     "text": [
      "<type 'numpy.ndarray'>\n"
     ]
    }
   ],
   "source": [
    "print(type(sfs_pop))"
   ]
  },
  {
   "cell_type": "code",
   "execution_count": null,
   "metadata": {
    "collapsed": true
   },
   "outputs": [],
   "source": []
  }
 ],
 "metadata": {
  "kernelspec": {
   "display_name": "Python 2",
   "language": "python",
   "name": "python2"
  },
  "language_info": {
   "codemirror_mode": {
    "name": "ipython",
    "version": 2
   },
   "file_extension": ".py",
   "mimetype": "text/x-python",
   "name": "python",
   "nbconvert_exporter": "python",
   "pygments_lexer": "ipython2",
   "version": "2.7.12"
  }
 },
 "nbformat": 4,
 "nbformat_minor": 0
}
