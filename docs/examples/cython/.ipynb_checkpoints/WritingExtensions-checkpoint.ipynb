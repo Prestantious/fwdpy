{
 "cells": [
  {
   "cell_type": "markdown",
   "metadata": {},
   "source": [
    "# Extending fwdpy with Cython"
   ]
  },
  {
   "cell_type": "code",
   "execution_count": 1,
   "metadata": {
    "collapsed": false
   },
   "outputs": [],
   "source": [
    "%load_ext Cython"
   ]
  },
  {
   "cell_type": "code",
   "execution_count": 2,
   "metadata": {
    "collapsed": false,
    "scrolled": true
   },
   "outputs": [],
   "source": [
    "import fwdpy as fp\n",
    "import numpy as np"
   ]
  },
  {
   "cell_type": "code",
   "execution_count": 3,
   "metadata": {
    "collapsed": false
   },
   "outputs": [],
   "source": [
    "fwdpy_includes = fp.get_includes()\n",
    "fwdpp_includes = fp.get_fwdpp_includes()"
   ]
  },
  {
   "cell_type": "code",
   "execution_count": 4,
   "metadata": {
    "collapsed": false
   },
   "outputs": [],
   "source": [
    "%%cython --cplus --compile-args=-std=c++11 -I $fwdpy_includes -I $fwdpp_includes -l sequence -l gsl -l gslcblas\n",
    "from fwdpy.fwdpy cimport *\n",
    "cdef vector[unsigned] sfs_cpp(const singlepop_t * pop):\n",
    "    cdef vector[unsigned] rv\n",
    "    rv.resize(2*pop.N,0)\n",
    "    cdef size_t i = 0\n",
    "    for i in range(pop.mcounts.size()):\n",
    "        if pop.mcounts[i]>0:\n",
    "            rv[pop.mcounts[i]-1]+=1\n",
    "    return rv\n",
    "\n",
    "def sfs(Spop pop):\n",
    "    return sfs_cpp(pop.pop.get())"
   ]
  },
  {
   "cell_type": "code",
   "execution_count": 5,
   "metadata": {
    "collapsed": false
   },
   "outputs": [],
   "source": [
    "N=1000\n",
    "theta=100.\n",
    "nlist=np.array([N]*(10*N),dtype=np.uint32)\n",
    "rng = fp.GSLrng(135123)\n",
    "nregions=[fp.Region(0,1,1)]\n",
    "sregions=[]\n",
    "recregions=nregions\n",
    "pops = fp.evolve_regions(rng,1,N,nlist,theta/(4.*float(N)),0.,theta/(4.*float(N)),nregions,sregions,recregions)"
   ]
  },
  {
   "cell_type": "code",
   "execution_count": 8,
   "metadata": {
    "collapsed": false
   },
   "outputs": [
    {
     "name": "stdout",
     "output_type": "stream",
     "text": [
      "[106, 49, 40, 37, 14, 16, 11, 16, 2, 4]\n"
     ]
    }
   ],
   "source": [
    "sfs_pop=sfs(pops[0])\n",
    "print(sfs_pop[0:10])"
   ]
  },
  {
   "cell_type": "code",
   "execution_count": null,
   "metadata": {
    "collapsed": true
   },
   "outputs": [],
   "source": []
  }
 ],
 "metadata": {
  "kernelspec": {
   "display_name": "Python 2",
   "language": "python",
   "name": "python2"
  },
  "language_info": {
   "codemirror_mode": {
    "name": "ipython",
    "version": 2
   },
   "file_extension": ".py",
   "mimetype": "text/x-python",
   "name": "python",
   "nbconvert_exporter": "python",
   "pygments_lexer": "ipython2",
   "version": "2.7.12"
  }
 },
 "nbformat": 4,
 "nbformat_minor": 0
}
