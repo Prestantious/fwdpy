{
 "cells": [
  {
   "cell_type": "markdown",
   "metadata": {},
   "source": [
    "# Temporal sampling"
   ]
  },
  {
   "cell_type": "raw",
   "metadata": {},
   "source": [
    "_fwdpy_ allows various things to be recorded over time during a simulation.  A family of objects referred to as \"temporal samplers\" perform these tasks.  All such objects are derived from the base class :class:`fwdpy.fwdpy.TemporalSampler`."
   ]
  },
  {
   "cell_type": "markdown",
   "metadata": {},
   "source": [
    "## Sampling nothing"
   ]
  },
  {
   "cell_type": "raw",
   "metadata": {},
   "source": [
    "Doing nothing is useful for evolving a population to equilibrium.  The relevant class is :class:`fwdpy.fwdpy.NothingSampler`.\n",
    "\n",
    "For convenience, :func:`fwdpy.fwdpy.evolve_regions` and :func:`fwdpy.fwdpy.evolve_regions_more` and :func:`fwdpy.fwdpy.evolve_regions_fitness` all implicitly use :class:`fwdpy.fwdpy.NothingSampler`."
   ]
  },
  {
   "cell_type": "markdown",
   "metadata": {},
   "source": [
    "Let's evolve 40 populations to mutation-drift equilibrium:"
   ]
  },
  {
   "cell_type": "code",
   "execution_count": 1,
   "metadata": {
    "collapsed": false
   },
   "outputs": [],
   "source": [
    "import fwdpy as fp\n",
    "import numpy as np\n",
    "import pandas as pd\n",
    "nregions=[fp.Region(0,1,1)]\n",
    "sregions=[fp.GammaS(0,1,0.1,0.1,0.1,1.0),\n",
    "          fp.GammaS(0,1,0.9,-0.2,9.0,0.0)\n",
    "         ]\n",
    "recregions=nregions\n",
    "N=1000\n",
    "nlist=np.array([N]*(10*N),dtype=np.uint32)\n",
    "mutrate_neutral=50.0/float(4*N)\n",
    "recrate=mutrate_neutral\n",
    "mutrate_sel=mutrate_neutral*0.2\n",
    "rng=fp.GSLrng(101)\n",
    "pops=fp.SpopVec(40,1000)\n",
    "sampler=fp.NothingSampler(len(pops))\n",
    "#This function implicitly uses a \"nothing sampler\"\n",
    "fp.evolve_regions_sampler(rng,pops,sampler,nlist,\n",
    "                            mutrate_neutral,\n",
    "                            0.0,   #No selected mutations....\n",
    "                              recrate,\n",
    "                              nregions,sregions,recregions,\n",
    "                               #Only sample every 10N generations,\n",
    "                               #which is fine b/c we're not sampling anything\n",
    "                              10*N)"
   ]
  },
  {
   "cell_type": "markdown",
   "metadata": {},
   "source": [
    "## Take samples from population"
   ]
  },
  {
   "cell_type": "raw",
   "metadata": {},
   "source": [
    "Example using :class:`fwdpy.fwdpy.PopSampler`"
   ]
  },
  {
   "cell_type": "code",
   "execution_count": 2,
   "metadata": {
    "collapsed": false
   },
   "outputs": [],
   "source": [
    "#Take sample of size n=20\n",
    "sampler=fp.PopSampler(len(pops),20,rng)\n",
    "fp.evolve_regions_sampler(rng,pops,sampler,\n",
    "                          nlist[:N], #Evolve for N generations\n",
    "                            mutrate_neutral,\n",
    "                            mutrate_sel,   \n",
    "                              recrate,\n",
    "                              nregions,sregions,recregions,\n",
    "                            #Sampler every 100 generations\n",
    "                              100)"
   ]
  },
  {
   "cell_type": "code",
   "execution_count": 3,
   "metadata": {
    "collapsed": false
   },
   "outputs": [
    {
     "name": "stdout",
     "output_type": "stream",
     "text": [
      "40\n"
     ]
    }
   ],
   "source": [
    "#Get the data from the sampler\n",
    "x=sampler.get()\n",
    "print(len(x))"
   ]
  },
  {
   "cell_type": "raw",
   "metadata": {},
   "source": [
    ".. note:: len(pops) == len(x) !!!"
   ]
  },
  {
   "cell_type": "markdown",
   "metadata": {},
   "source": [
    "The output from this sampler type is a bit complex.  Each element in x is itself a list:"
   ]
  },
  {
   "cell_type": "code",
   "execution_count": 4,
   "metadata": {
    "collapsed": false
   },
   "outputs": [
    {
     "name": "stdout",
     "output_type": "stream",
     "text": [
      "<type 'list'>\n"
     ]
    }
   ],
   "source": [
    "print type(x[0])"
   ]
  },
  {
   "cell_type": "markdown",
   "metadata": {},
   "source": [
    "Each element in x[0] is a tuple:"
   ]
  },
  {
   "cell_type": "code",
   "execution_count": 5,
   "metadata": {
    "collapsed": false
   },
   "outputs": [
    {
     "name": "stdout",
     "output_type": "stream",
     "text": [
      "<type 'tuple'>\n"
     ]
    }
   ],
   "source": [
    "print type(x[0][0])"
   ]
  },
  {
   "cell_type": "markdown",
   "metadata": {},
   "source": [
    "The first element of each tuple is the generation when the sample was taken:"
   ]
  },
  {
   "cell_type": "code",
   "execution_count": 6,
   "metadata": {
    "collapsed": false
   },
   "outputs": [
    {
     "name": "stdout",
     "output_type": "stream",
     "text": [
      "10100\n"
     ]
    }
   ],
   "source": [
    "print x[0][0][0]"
   ]
  },
  {
   "cell_type": "raw",
   "metadata": {},
   "source": [
    "The rest is the sample info, in the same format as the output from :func:`fwdpy.fwdpy.get_samples`:"
   ]
  },
  {
   "cell_type": "code",
   "execution_count": 7,
   "metadata": {
    "collapsed": false
   },
   "outputs": [
    {
     "name": "stdout",
     "output_type": "stream",
     "text": [
      "{'sh': [(-0.12004595381424654, 0.0), (-0.170667130152595, 0.0)], 'genotypes': ([(0.11155974119901657, '10000000000000000000'), (0.24918362661264837, '00000000000000100100'), (0.42917620693333447, '00100000000000000000'), (0.519921897444874, '00000000000000010000'), (0.5717735027428716, '01000000000000000000'), (0.6115675517357886, '00000100000000000000'), (0.6820425151381642, '00100000000000000000'), (0.7076556014362723, '00000000000100000000'), (0.7335569099523127, '00100000000000000000'), (0.7683701689820737, '00100000000000000000'), (0.778331029927358, '00000000010000000000'), (0.7873499824199826, '00000000000001000000'), (0.9194794276263565, '00010000000000000000'), (0.9491714215837419, '00000000000000010000')], [(0.8127563807647675, '00000000100000000000'), (0.9910217146389186, '00010000000000000000')])}\n"
     ]
    }
   ],
   "source": [
    "print x[0][0][1]"
   ]
  },
  {
   "cell_type": "code",
   "execution_count": 8,
   "metadata": {
    "collapsed": false
   },
   "outputs": [
    {
     "name": "stdout",
     "output_type": "stream",
     "text": [
      "[(-0.12004595381424654, 0.0), (-0.170667130152595, 0.0)]\n"
     ]
    }
   ],
   "source": [
    "#Selection coefficients and dominance for each selected mutation:\n",
    "print x[0][0][1]['sh']"
   ]
  },
  {
   "cell_type": "code",
   "execution_count": 9,
   "metadata": {
    "collapsed": false
   },
   "outputs": [
    {
     "name": "stdout",
     "output_type": "stream",
     "text": [
      "[(0.11155974119901657, '10000000000000000000'), (0.24918362661264837, '00000000000000100100'), (0.42917620693333447, '00100000000000000000'), (0.519921897444874, '00000000000000010000'), (0.5717735027428716, '01000000000000000000'), (0.6115675517357886, '00000100000000000000'), (0.6820425151381642, '00100000000000000000'), (0.7076556014362723, '00000000000100000000'), (0.7335569099523127, '00100000000000000000'), (0.7683701689820737, '00100000000000000000'), (0.778331029927358, '00000000010000000000'), (0.7873499824199826, '00000000000001000000'), (0.9194794276263565, '00010000000000000000'), (0.9491714215837419, '00000000000000010000')]\n"
     ]
    }
   ],
   "source": [
    "#Neutral mutations:\n",
    "print x[0][0][1]['genotypes'][0]"
   ]
  },
  {
   "cell_type": "code",
   "execution_count": 10,
   "metadata": {
    "collapsed": false
   },
   "outputs": [
    {
     "name": "stdout",
     "output_type": "stream",
     "text": [
      "[(0.8127563807647675, '00000000100000000000'), (0.9910217146389186, '00010000000000000000')]\n"
     ]
    }
   ],
   "source": [
    "#Selected mutations:\n",
    "print x[0][0][1]['genotypes'][1]"
   ]
  },
  {
   "cell_type": "markdown",
   "metadata": {},
   "source": [
    "These \"genotypes\" blocks can be used to caculate summary statistics. See the example on using [pylibseq](http://molpopgen.github.io/pylibseq/) for that task."
   ]
  },
  {
   "cell_type": "markdown",
   "metadata": {},
   "source": [
    "## Tracking mutation frequencies\n",
    "\n",
    "See the example on tracking mutation frequencies."
   ]
  },
  {
   "cell_type": "raw",
   "metadata": {},
   "source": [
    "The relevant class is :class:`fwdpy.fwdpy.FreqSampler`."
   ]
  }
 ],
 "metadata": {
  "kernelspec": {
   "display_name": "Python 2",
   "language": "python",
   "name": "python2"
  },
  "language_info": {
   "codemirror_mode": {
    "name": "ipython",
    "version": 2
   },
   "file_extension": ".py",
   "mimetype": "text/x-python",
   "name": "python",
   "nbconvert_exporter": "python",
   "pygments_lexer": "ipython2",
   "version": "2.7.10"
  }
 },
 "nbformat": 4,
 "nbformat_minor": 0
}
