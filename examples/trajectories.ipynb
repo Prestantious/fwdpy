{
 "cells": [
  {
   "cell_type": "markdown",
   "metadata": {},
   "source": [
    "# Tracking mutation frequencies"
   ]
  },
  {
   "cell_type": "code",
   "execution_count": 1,
   "metadata": {
    "collapsed": false
   },
   "outputs": [
    {
     "name": "stdout",
     "output_type": "stream",
     "text": [
      "Populating the interactive namespace from numpy and matplotlib\n"
     ]
    }
   ],
   "source": [
    "%matplotlib inline\n",
    "%pylab inline\n",
    "import fwdpy as fp\n",
    "import pandas as pd\n",
    "import matplotlib\n",
    "import matplotlib.pyplot as plt\n",
    "import copy"
   ]
  },
  {
   "cell_type": "markdown",
   "metadata": {},
   "source": [
    "## Run a simulation"
   ]
  },
  {
   "cell_type": "code",
   "execution_count": 2,
   "metadata": {
    "collapsed": false
   },
   "outputs": [],
   "source": [
    "nregions = [fp.Region(0,1,1),fp.Region(2,3,1)]\n",
    "sregions = [fp.ExpS(1,2,1,-0.1),fp.ExpS(1,2,0.01,0.001)]\n",
    "rregions = [fp.Region(0,3,1)]\n",
    "rng = fp.GSLrng(201)\n",
    "popsizes = np.array([1000],dtype=np.uint32)\n",
    "popsizes=np.tile(popsizes,10000)\n",
    "#Initialize a vector with 1 population of size N = 1,000\n",
    "pops=fp.popvec(1,1000)\n",
    "#Record mutation frequencies every generation\n",
    "rawTraj=fp.evolve_regions_track(rng,pops,popsizes[0:],0.001,0.001,0.001,nregions,sregions,rregions,1)"
   ]
  },
  {
   "cell_type": "code",
   "execution_count": 3,
   "metadata": {
    "collapsed": false
   },
   "outputs": [],
   "source": [
    "##Convert the raw trajectort data into a nicer pd.DataFrame\n",
    "LD=[]\n",
    "for i in rawTraj[0]:\n",
    "    I=int(0)\n",
    "    for j in i[1]:\n",
    "        x=copy.deepcopy(i[0])\n",
    "        x['freq']=j\n",
    "        x['generation']=i[0]['origin']+I\n",
    "        I+=1\n",
    "        LD.append(x)\n",
    "               \n",
    "traj=pd.DataFrame(LD)"
   ]
  },
  {
   "cell_type": "markdown",
   "metadata": {},
   "source": [
    "## Group mutation trajectories by position and effect size"
   ]
  },
  {
   "cell_type": "markdown",
   "metadata": {},
   "source": [
    "#### Max mutation frequencies\n"
   ]
  },
  {
   "cell_type": "code",
   "execution_count": 4,
   "metadata": {
    "collapsed": false
   },
   "outputs": [
    {
     "data": {
      "text/html": [
       "<div style=\"max-height:1000px;max-width:1500px;overflow:auto;\">\n",
       "<table border=\"1\" class=\"dataframe\">\n",
       "  <thead>\n",
       "    <tr style=\"text-align: right;\">\n",
       "      <th></th>\n",
       "      <th>pos</th>\n",
       "      <th>esize</th>\n",
       "      <th>freq</th>\n",
       "      <th>generation</th>\n",
       "      <th>origin</th>\n",
       "    </tr>\n",
       "  </thead>\n",
       "  <tbody>\n",
       "    <tr>\n",
       "      <th>16467</th>\n",
       "      <td> 1.817526</td>\n",
       "      <td> 0.001171</td>\n",
       "      <td> 1</td>\n",
       "      <td> 4587</td>\n",
       "      <td> 1547</td>\n",
       "    </tr>\n",
       "  </tbody>\n",
       "</table>\n",
       "</div>"
      ],
      "text/plain": [
       "            pos     esize  freq  generation  origin\n",
       "16467  1.817526  0.001171     1        4587    1547"
      ]
     },
     "execution_count": 4,
     "metadata": {},
     "output_type": "execute_result"
    }
   ],
   "source": [
    "mfreq = traj.groupby(['pos','esize']).max().reset_index()\n",
    "#Print out info for all mutations that hit a frequency of 1 (e.g., fixed)\n",
    "mfreq[mfreq['freq']==1]"
   ]
  },
  {
   "cell_type": "markdown",
   "metadata": {},
   "source": [
    "The only fixation has an 'esize' $> 0$, which means that it was positively selected,"
   ]
  },
  {
   "cell_type": "markdown",
   "metadata": {},
   "source": [
    "#### Frequency trajectory of fixations "
   ]
  },
  {
   "cell_type": "code",
   "execution_count": 5,
   "metadata": {
    "collapsed": false
   },
   "outputs": [],
   "source": [
    "#Get positions of mutations that hit q = 1\n",
    "mpos=mfreq[mfreq['freq']==1]['pos']"
   ]
  },
  {
   "cell_type": "code",
   "execution_count": 6,
   "metadata": {
    "collapsed": false
   },
   "outputs": [
    {
     "data": {
      "image/png": "[encoded data removed]",
      "text/plain": [
       "<matplotlib.figure.Figure at 0x7f30f2b8a410>"
      ]
     },
     "metadata": {},
     "output_type": "display_data"
    }
   ],
   "source": [
    "#Frequency trajectories of fixations\n",
    "fig = plt.figure()\n",
    "ax = plt.subplot(111)\n",
    "plt.xlabel(\"Time (generations)\")\n",
    "plt.ylabel(\"Mutation frequency\")\n",
    "ax.set_xlim(traj['generation'].min(),traj['generation'].max())\n",
    "for i in mpos:\n",
    "    plt.plot(traj[traj['pos']==i]['generation'],traj[traj['pos']==i]['freq'])"
   ]
  },
  {
   "cell_type": "code",
   "execution_count": 7,
   "metadata": {
    "collapsed": false
   },
   "outputs": [
    {
     "data": {
      "text/plain": [
       "<matplotlib.axes._subplots.AxesSubplot at 0x7f3125f0ef50>"
      ]
     },
     "execution_count": 7,
     "metadata": {},
     "output_type": "execute_result"
    },
    {
     "data": {
      "image/png": "[encoded data removed]",
      "text/plain": [
       "<matplotlib.figure.Figure at 0x7f3125f0ec50>"
      ]
     },
     "metadata": {},
     "output_type": "display_data"
    }
   ],
   "source": [
    "#Let's get histogram of effect sizes for all mutations that did not fix\n",
    "fig = plt.figure()\n",
    "ax = plt.subplot(111)\n",
    "plt.xlabel(r'$s$ (selection coefficient)')\n",
    "plt.ylabel(\"Number of mutations\")\n",
    "mfreq[mfreq['freq']<1.0]['esize'].hist()"
   ]
  }
 ],
 "metadata": {
  "kernelspec": {
   "display_name": "Python 2",
   "language": "python",
   "name": "python2"
  },
  "language_info": {
   "codemirror_mode": {
    "name": "ipython",
    "version": 2
   },
   "file_extension": ".py",
   "mimetype": "text/x-python",
   "name": "python",
   "nbconvert_exporter": "python",
   "pygments_lexer": "ipython2",
   "version": "2.7.10"
  }
 },
 "nbformat": 4,
 "nbformat_minor": 0
}
