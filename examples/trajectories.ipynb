{
 "cells": [
  {
   "cell_type": "markdown",
   "metadata": {},
   "source": [
    "# Tracking mutation frequencies"
   ]
  },
  {
   "cell_type": "code",
   "execution_count": 1,
   "metadata": {
    "collapsed": false
   },
   "outputs": [
    {
     "name": "stdout",
     "output_type": "stream",
     "text": [
      "Populating the interactive namespace from numpy and matplotlib\n"
     ]
    }
   ],
   "source": [
    "%matplotlib inline\n",
    "%pylab inline\n",
    "import fwdpy as fp\n",
    "import pandas as pd\n",
    "import matplotlib\n",
    "import matplotlib.pyplot as plt"
   ]
  },
  {
   "cell_type": "markdown",
   "metadata": {},
   "source": [
    "## Run a simulation"
   ]
  },
  {
   "cell_type": "code",
   "execution_count": 2,
   "metadata": {
    "collapsed": false
   },
   "outputs": [],
   "source": [
    "nregions = [fp.Region(0,1,1),fp.Region(2,3,1)]\n",
    "sregions = [fp.ExpS(1,2,1,-0.1),fp.ExpS(1,2,0.01,0.001)]\n",
    "rregions = [fp.Region(0,3,1)]\n",
    "rng = fp.GSLrng(201)\n",
    "popsizes = np.array([1000],dtype=np.uint32)\n",
    "popsizes=np.tile(popsizes,10000)\n",
    "#Initialize a vector with 1 population of size N = 1,000\n",
    "pops=fp.popvec(1,1000)\n",
    "#Record mutation frequencies every generation\n",
    "traj = [pd.DataFrame(i) for i in fp.evolve_regions_track(rng,pops,popsizes[0:],0.001,0.001,0.001,nregions,sregions,rregions,1)]"
   ]
  },
  {
   "cell_type": "markdown",
   "metadata": {},
   "source": [
    "## Group mutation trajectories by position and effect size"
   ]
  },
  {
   "cell_type": "markdown",
   "metadata": {},
   "source": [
    "#### Max mutation frequencies\n"
   ]
  },
  {
   "cell_type": "code",
   "execution_count": 3,
   "metadata": {
    "collapsed": false
   },
   "outputs": [
    {
     "data": {
      "text/html": [
       "<div>\n",
       "<table border=\"1\" class=\"dataframe\">\n",
       "  <thead>\n",
       "    <tr style=\"text-align: right;\">\n",
       "      <th></th>\n",
       "      <th>pos</th>\n",
       "      <th>esize</th>\n",
       "      <th>freq</th>\n",
       "      <th>generation</th>\n",
       "    </tr>\n",
       "  </thead>\n",
       "  <tbody>\n",
       "    <tr>\n",
       "      <th>16467</th>\n",
       "      <td>1.817526</td>\n",
       "      <td>0.001171</td>\n",
       "      <td>1</td>\n",
       "      <td>4587</td>\n",
       "    </tr>\n",
       "  </tbody>\n",
       "</table>\n",
       "</div>"
      ],
      "text/plain": [
       "            pos     esize  freq  generation\n",
       "16467  1.817526  0.001171     1        4587"
      ]
     },
     "execution_count": 3,
     "metadata": {},
     "output_type": "execute_result"
    }
   ],
   "source": [
    "mfreq = traj[0].groupby(['pos','esize']).max().reset_index()\n",
    "#Print out info for all mutations that hit a frequency of 1 (e.g., fixed)\n",
    "mfreq[mfreq['freq']==1]"
   ]
  },
  {
   "cell_type": "markdown",
   "metadata": {},
   "source": [
    "The only fixation has an 'esize' $> 0$, which means that it was positively selected,"
   ]
  },
  {
   "cell_type": "markdown",
   "metadata": {},
   "source": [
    "#### Frequency trajectory of fixations "
   ]
  },
  {
   "cell_type": "code",
   "execution_count": 4,
   "metadata": {
    "collapsed": false
   },
   "outputs": [],
   "source": [
    "#Get positions of mutations that hit q = 1\n",
    "mpos=mfreq[mfreq['freq']==1]['pos']"
   ]
  },
  {
   "cell_type": "code",
   "execution_count": 5,
   "metadata": {
    "collapsed": false
   },
   "outputs": [
    {
     "data": {
      "image/png": "[encoded data removed]",
      "text/plain": [
       "<matplotlib.figure.Figure at 0x7fc1ca02a750>"
      ]
     },
     "metadata": {},
     "output_type": "display_data"
    }
   ],
   "source": [
    "#Frequency trajectories of fixations\n",
    "fig = plt.figure()\n",
    "ax = plt.subplot(111)\n",
    "plt.xlabel(\"Time (generations)\")\n",
    "plt.ylabel(\"Mutation frequency\")\n",
    "ax.set_xlim(traj[0]['generation'].min(),traj[0]['generation'].max())\n",
    "for i in mpos:\n",
    "    plt.plot(traj[0][traj[0]['pos']==i]['generation'],traj[0][traj[0]['pos']==i]['freq'])"
   ]
  },
  {
   "cell_type": "code",
   "execution_count": 6,
   "metadata": {
    "collapsed": false
   },
   "outputs": [
    {
     "data": {
      "text/plain": [
       "<matplotlib.axes._subplots.AxesSubplot at 0x7fc1c93b2050>"
      ]
     },
     "execution_count": 6,
     "metadata": {},
     "output_type": "execute_result"
    },
    {
     "data": {
      "image/png": "[encoded data removed]",
      "text/plain": [
       "<matplotlib.figure.Figure at 0x7fc1c93b2950>"
      ]
     },
     "metadata": {},
     "output_type": "display_data"
    }
   ],
   "source": [
    "#Let's get histogram of effect sizes for all mutations that did not fix\n",
    "fig = plt.figure()\n",
    "ax = plt.subplot(111)\n",
    "plt.xlabel(r'$s$ (selection coefficient)')\n",
    "plt.ylabel(\"Number of mutations\")\n",
    "mfreq[mfreq['freq']<1.0]['esize'].hist()"
   ]
  },
  {
   "cell_type": "markdown",
   "metadata": {},
   "source": [
    "## Reducing the memory footprint\n",
    "In cases of long simulations and/or large mutation rates and/or large population sizes, it can take a lot of RAM to track mutation frequencies.\n",
    "\n",
    "However, you do not have to keep all frequencies in memory!\n",
    "\n",
    "Let's do something better, and store them every 1,000 generations to an h5 file."
   ]
  },
  {
   "cell_type": "code",
   "execution_count": 7,
   "metadata": {
    "collapsed": false
   },
   "outputs": [],
   "source": [
    "#Let's redo the simulation above, but with different variables, etc.\n",
    "rng2= fp.GSLrng(201)\n",
    "popsizes = np.array([1000],dtype=np.uint32)\n",
    "##Now, popsizes will be 10x smaller...\n",
    "popsizes=np.tile(popsizes,1000)\n",
    "#Evolve the first 'N' generations:\n",
    "pops2 = fp.popvec(1,1000)\n",
    "traj2 = [pd.DataFrame(i) for i in fp.evolve_regions_track(rng2,pops,popsizes[0:],0.001,0.001,0.001,nregions,sregions,rregions,1)]\n",
    "\n",
    "#open an hdf 5 file:\n",
    "hdf = pd.HDFStore(\"trajectories.h5\",'w')\n",
    "hdf.open()\n",
    "#Write the first set of trajectories\n",
    "hdf.append('traj',traj2[0])"
   ]
  },
  {
   "cell_type": "code",
   "execution_count": 8,
   "metadata": {
    "collapsed": false
   },
   "outputs": [],
   "source": [
    "#Evolve for another 9N generations\n",
    "#Update the h5 file after each chunk, and then clear out trajectories\n",
    "for i in range(9):\n",
    "    traj2 = [pd.DataFrame(i) for i in fp.evolve_regions_track(rng2,pops2,popsizes[0:],0.001,0.001,0.001,nregions,sregions,rregions,1)]\n",
    "    hdf.append('traj',traj2[0])\n",
    "\n",
    "##Close the h5 file\n",
    "hdf.close()"
   ]
  },
  {
   "cell_type": "code",
   "execution_count": 9,
   "metadata": {
    "collapsed": true
   },
   "outputs": [],
   "source": [
    "##Get the data frame out\n",
    "traj2 = pd.read_hdf('trajectories.h5','traj')"
   ]
  },
  {
   "cell_type": "code",
   "execution_count": 10,
   "metadata": {
    "collapsed": false
   },
   "outputs": [
    {
     "data": {
      "text/plain": [
       "False"
      ]
     },
     "execution_count": 10,
     "metadata": {},
     "output_type": "execute_result"
    }
   ],
   "source": [
    "len(traj[0])==len(traj2)"
   ]
  },
  {
   "cell_type": "raw",
   "metadata": {},
   "source": [
    "Why are the two objects not the same length?  We did the same thing, right, but in chunks the second time?  Well, not quite.\n",
    "\n",
    "Each time we call :func:`fwdpy.fwdpy.evolve_regions` and/or :func:`fwdpy.fwdpy.evolve_regions_more`, we are using the existing random number generator (RNG) to randomly seed RNGs for each thread.  Thus, the total number of calls to the global RNG (the variable called *rng2* in our code) differs from the number of calls to the *rng* variable above."
   ]
  },
  {
   "cell_type": "code",
   "execution_count": 11,
   "metadata": {
    "collapsed": false
   },
   "outputs": [
    {
     "data": {
      "text/html": [
       "<div>\n",
       "<table border=\"1\" class=\"dataframe\">\n",
       "  <thead>\n",
       "    <tr style=\"text-align: right;\">\n",
       "      <th></th>\n",
       "      <th>pos</th>\n",
       "      <th>esize</th>\n",
       "      <th>freq</th>\n",
       "      <th>generation</th>\n",
       "    </tr>\n",
       "  </thead>\n",
       "  <tbody>\n",
       "  </tbody>\n",
       "</table>\n",
       "</div>"
      ],
      "text/plain": [
       "Empty DataFrame\n",
       "Columns: [pos, esize, freq, generation]\n",
       "Index: []"
      ]
     },
     "execution_count": 11,
     "metadata": {},
     "output_type": "execute_result"
    }
   ],
   "source": [
    "mfreq2 = traj2.groupby(['pos','esize']).max().reset_index()\n",
    "#Print out info for all mutations that hit a frequency of 1 (e.g., fixed)\n",
    "mfreq2[mfreq2['freq']==1]"
   ]
  },
  {
   "cell_type": "markdown",
   "metadata": {},
   "source": [
    "See, no fixations this time!\n",
    "\n",
    "### Conclusion\n",
    "\n",
    "You can run the simulation in chunks to save RAM, but you won't get the same result because this method uses the RNG differently."
   ]
  }
 ],
 "metadata": {
  "kernelspec": {
   "display_name": "Python 2",
   "language": "python",
   "name": "python2"
  },
  "language_info": {
   "codemirror_mode": {
    "name": "ipython",
    "version": 2
   },
   "file_extension": ".py",
   "mimetype": "text/x-python",
   "name": "python",
   "nbconvert_exporter": "python",
   "pygments_lexer": "ipython2",
   "version": "2.7.6"
  }
 },
 "nbformat": 4,
 "nbformat_minor": 0
}
