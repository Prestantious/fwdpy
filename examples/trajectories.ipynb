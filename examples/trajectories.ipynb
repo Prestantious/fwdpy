{
 "cells": [
  {
   "cell_type": "markdown",
   "metadata": {},
   "source": [
    "# Tracking mutation frequencies"
   ]
  },
  {
   "cell_type": "code",
   "execution_count": 1,
   "metadata": {
    "collapsed": false
   },
   "outputs": [
    {
     "name": "stderr",
     "output_type": "stream",
     "text": [
      "/usr/local/lib/python2.7/dist-packages/matplotlib/font_manager.py:273: UserWarning: Matplotlib is building the font cache using fc-list. This may take a moment.\n",
      "  warnings.warn('Matplotlib is building the font cache using fc-list. This may take a moment.')\n"
     ]
    },
    {
     "name": "stdout",
     "output_type": "stream",
     "text": [
      "Populating the interactive namespace from numpy and matplotlib\n"
     ]
    }
   ],
   "source": [
    "%matplotlib inline\n",
    "%pylab inline\n",
    "import fwdpy as fp\n",
    "import pandas as pd\n",
    "import matplotlib\n",
    "import matplotlib.pyplot as plt\n",
    "import copy"
   ]
  },
  {
   "cell_type": "markdown",
   "metadata": {},
   "source": [
    "## Run a simulation"
   ]
  },
  {
   "cell_type": "code",
   "execution_count": 2,
   "metadata": {
    "collapsed": false
   },
   "outputs": [],
   "source": [
    "nregions = [fp.Region(0,1,1),fp.Region(2,3,1)]\n",
    "sregions = [fp.ExpS(1,2,1,-0.1),fp.ExpS(1,2,0.01,0.001)]\n",
    "rregions = [fp.Region(0,3,1)]\n",
    "rng = fp.GSLrng(101)\n",
    "popsizes = np.array([1000],dtype=np.uint32)\n",
    "popsizes=np.tile(popsizes,10000)\n",
    "#Initialize a vector with 1 population of size N = 1,000\n",
    "pops=fp.SpopVec(1,1000)\n",
    "#This sampler object will record selected mutation\n",
    "#frequencies over time.  A sampler gets the length\n",
    "#of pops as a constructor argument because you \n",
    "#need a different sampler object in memory for\n",
    "#each population.\n",
    "sampler=fp.FreqSampler(len(pops))\n",
    "#Record mutation frequencies every generation\n",
    "#The function evolve_regions sampler takes any\n",
    "#of fwdpy's temporal samplers and applies them.\n",
    "#For users familiar with C++, custom samplers will be written,\n",
    "#and we plan to allow for custom samplers to be written primarily \n",
    "#using Cython, but we are still experimenting with how best to do so.\n",
    "rawTraj=fp.evolve_regions_sampler(rng,pops,sampler,\n",
    "                                  popsizes[0:],0.001,0.001,0.001,\n",
    "                                  nregions,sregions,rregions,\n",
    "                                  #The one means we sample every generation.\n",
    "                                  1)"
   ]
  },
  {
   "cell_type": "code",
   "execution_count": 3,
   "metadata": {
    "collapsed": false
   },
   "outputs": [
    {
     "name": "stdout",
     "output_type": "stream",
     "text": [
      "      esize    freq  generation  origin       pos\n",
      "0 -0.066601  0.0005           2       0  1.125086\n",
      "1 -0.066601  0.0010           3       0  1.125086\n",
      "2 -0.066601  0.0010           4       0  1.125086\n",
      "3 -0.066601  0.0010           5       0  1.125086\n",
      "4 -0.066601  0.0015           6       0  1.125086\n",
      "           esize    freq  generation  origin       pos\n",
      "104416 -0.155373  0.0005       10000    9998  1.912775\n",
      "104417 -0.035017  0.0005        9999    9998  1.949638\n",
      "104418 -0.035017  0.0010       10000    9998  1.949638\n",
      "104419 -0.042471  0.0005       10000    9999  1.738310\n",
      "104420 -0.030944  0.0005       10000    9999  1.805271\n",
      "1.0\n"
     ]
    }
   ],
   "source": [
    "rawTraj = [pd.DataFrame(i) for i in fp.tidy_trajectories(sampler.get())]\n",
    "#This example has only 1 set of trajectories, so let's make a variable for thet\n",
    "#single replicate\n",
    "traj=rawTraj[0]\n",
    "print traj.head()\n",
    "print traj.tail()\n",
    "print traj.freq.max()"
   ]
  },
  {
   "cell_type": "markdown",
   "metadata": {},
   "source": [
    "## Group mutation trajectories by position and effect size"
   ]
  },
  {
   "cell_type": "markdown",
   "metadata": {},
   "source": [
    "#### Max mutation frequencies\n"
   ]
  },
  {
   "cell_type": "code",
   "execution_count": 4,
   "metadata": {
    "collapsed": false
   },
   "outputs": [
    {
     "data": {
      "text/html": [
       "<div>\n",
       "<table border=\"1\" class=\"dataframe\">\n",
       "  <thead>\n",
       "    <tr style=\"text-align: right;\">\n",
       "      <th></th>\n",
       "      <th>pos</th>\n",
       "      <th>esize</th>\n",
       "      <th>freq</th>\n",
       "      <th>generation</th>\n",
       "      <th>origin</th>\n",
       "    </tr>\n",
       "  </thead>\n",
       "  <tbody>\n",
       "    <tr>\n",
       "      <th>2701</th>\n",
       "      <td>1.134096</td>\n",
       "      <td>0.001812</td>\n",
       "      <td>1.0</td>\n",
       "      <td>2612</td>\n",
       "      <td>43</td>\n",
       "    </tr>\n",
       "  </tbody>\n",
       "</table>\n",
       "</div>"
      ],
      "text/plain": [
       "           pos     esize  freq  generation  origin\n",
       "2701  1.134096  0.001812   1.0        2612      43"
      ]
     },
     "execution_count": 4,
     "metadata": {},
     "output_type": "execute_result"
    }
   ],
   "source": [
    "mfreq = traj.groupby(['pos','esize']).max().reset_index()\n",
    "#Print out info for all mutations that hit a frequency of 1 (e.g., fixed)\n",
    "mfreq[mfreq['freq']==1]"
   ]
  },
  {
   "cell_type": "markdown",
   "metadata": {},
   "source": [
    "The only fixation has an 'esize' $> 0$, which means that it was positively selected,"
   ]
  },
  {
   "cell_type": "markdown",
   "metadata": {},
   "source": [
    "#### Frequency trajectory of fixations "
   ]
  },
  {
   "cell_type": "code",
   "execution_count": 5,
   "metadata": {
    "collapsed": false
   },
   "outputs": [],
   "source": [
    "#Get positions of mutations that hit q = 1\n",
    "mpos=mfreq[mfreq['freq']==1]['pos']"
   ]
  },
  {
   "cell_type": "code",
   "execution_count": 6,
   "metadata": {
    "collapsed": false
   },
   "outputs": [
    {
     "data": {
      "image/png": "[encoded data removed]",
      "text/plain": [
       "<matplotlib.figure.Figure at 0x7f4e53761e10>"
      ]
     },
     "metadata": {},
     "output_type": "display_data"
    }
   ],
   "source": [
    "#Frequency trajectories of fixations\n",
    "fig = plt.figure()\n",
    "ax = plt.subplot(111)\n",
    "plt.xlabel(\"Time (generations)\")\n",
    "plt.ylabel(\"Mutation frequency\")\n",
    "ax.set_xlim(traj['generation'].min(),traj['generation'].max())\n",
    "for i in mpos:\n",
    "    plt.plot(traj[traj['pos']==i]['generation'],traj[traj['pos']==i]['freq'])"
   ]
  },
  {
   "cell_type": "code",
   "execution_count": 7,
   "metadata": {
    "collapsed": false
   },
   "outputs": [
    {
     "data": {
      "text/plain": [
       "<matplotlib.axes._subplots.AxesSubplot at 0x7f4e53761ad0>"
      ]
     },
     "execution_count": 7,
     "metadata": {},
     "output_type": "execute_result"
    },
    {
     "data": {
      "image/png": "[encoded data removed]",
      "text/plain": [
       "<matplotlib.figure.Figure at 0x7f4e53761b10>"
      ]
     },
     "metadata": {},
     "output_type": "display_data"
    }
   ],
   "source": [
    "#Let's get histogram of effect sizes for all mutations that did not fix\n",
    "fig = plt.figure()\n",
    "ax = plt.subplot(111)\n",
    "plt.xlabel(r'$s$ (selection coefficient)')\n",
    "plt.ylabel(\"Number of mutations\")\n",
    "mfreq[mfreq['freq']<1.0]['esize'].hist()"
   ]
  }
 ],
 "metadata": {
  "kernelspec": {
   "display_name": "Python 2",
   "language": "python",
   "name": "python2"
  },
  "language_info": {
   "codemirror_mode": {
    "name": "ipython",
    "version": 2
   },
   "file_extension": ".py",
   "mimetype": "text/x-python",
   "name": "python",
   "nbconvert_exporter": "python",
   "pygments_lexer": "ipython2",
   "version": "2.7.12"
  }
 },
 "nbformat": 4,
 "nbformat_minor": 0
}
