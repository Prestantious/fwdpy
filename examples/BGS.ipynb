{
 "cells": [
  {
   "cell_type": "markdown",
   "metadata": {},
   "source": [
    "# Example: background selection\n"
   ]
  },
  {
   "cell_type": "markdown",
   "metadata": {},
   "source": [
    "# Setting up the simulation\n",
    "* Neutral mutations will occur on the interval $[0,1)$.\n",
    "* Strongly-deleterious mutations will occur on the intervals $[-1,0)$ and $[1,2)$.\n",
    "* Recombination will be uniform throughout the region."
   ]
  },
  {
   "cell_type": "code",
   "execution_count": 1,
   "metadata": {
    "collapsed": true
   },
   "outputs": [],
   "source": [
    "#Import the package:\n",
    "from __future__ import print_function\n",
    "import fwdpy as fp\n",
    "import numpy as np\n",
    "import pandas"
   ]
  },
  {
   "cell_type": "markdown",
   "metadata": {},
   "source": [
    "## Establishing 'regions' for mutation and recombination\n"
   ]
  },
  {
   "cell_type": "code",
   "execution_count": 2,
   "metadata": {
    "collapsed": false
   },
   "outputs": [],
   "source": [
    "# Where neutral mutations occur:\n",
    "nregions = [fp.Region(beg=0,end=1,weight=1)]"
   ]
  },
  {
   "cell_type": "code",
   "execution_count": 3,
   "metadata": {
    "collapsed": true
   },
   "outputs": [],
   "source": [
    "# Where selected mutations occur:\n",
    "sregions = [fp.ConstantS(beg=-1,end=0,weight=1,s=-0.05,h=1),\n",
    "            fp.ConstantS(beg=1,end=2,weight=1,s=-0.05,h=1)]"
   ]
  },
  {
   "cell_type": "code",
   "execution_count": 4,
   "metadata": {
    "collapsed": true
   },
   "outputs": [],
   "source": [
    "# Recombination:\n",
    "recregions = [fp.Region(beg=-1,end=2,weight=1)]"
   ]
  },
  {
   "cell_type": "markdown",
   "metadata": {},
   "source": [
    "## Population size and simulation length"
   ]
  },
  {
   "cell_type": "code",
   "execution_count": 5,
   "metadata": {
    "collapsed": true
   },
   "outputs": [],
   "source": [
    "#Population size\n",
    "N=1000\n",
    "#We'll evolve for 10N generations:\n",
    "nlist = np.array([N]*10*N,dtype=np.uint32)"
   ]
  },
  {
   "cell_type": "code",
   "execution_count": 6,
   "metadata": {
    "collapsed": true
   },
   "outputs": [],
   "source": [
    "#Initalize a random number generator with seed value of 101\n",
    "rng = fp.GSLrng(101)"
   ]
  },
  {
   "cell_type": "code",
   "execution_count": 7,
   "metadata": {
    "collapsed": false
   },
   "outputs": [],
   "source": [
    "#Simulate 4 replicate populations.  This uses C++11 threads behind the scenes:\n",
    "pops = fp.evolve_regions(rng,       #The random number generator \n",
    "                         4,         #The number of pops to simulate = number of threads to use.\n",
    "                         N,         #Initial population size for each of the 4 demes\n",
    "                         nlist[0:], #List of population sizes over time.\n",
    "                         0.005,     #Neutral mutation rate (per gamete, per generation)\n",
    "                         0.01,      #Deleterious mutation rate (per gamete, per generation)\n",
    "                         0.005,     #Recombination rate (per diploid, per generation)\n",
    "                         nregions,  #Defined above\n",
    "                         sregions,  #Defined above\n",
    "                         recregions)#Defined above"
   ]
  },
  {
   "cell_type": "code",
   "execution_count": 8,
   "metadata": {
    "collapsed": false
   },
   "outputs": [
    {
     "name": "stdout",
     "output_type": "stream",
     "text": [
      "4\n",
      "<type 'fwdpy.fwdpy.singlepop'>\n",
      "<type 'fwdpy.fwdpy.singlepop'>\n",
      "<type 'fwdpy.fwdpy.singlepop'>\n",
      "<type 'fwdpy.fwdpy.singlepop'>\n"
     ]
    }
   ],
   "source": [
    "#Now, pops is a Python list with len(pops) = 4\n",
    "#Each element's type is fwdpy.singlepop\n",
    "print(len(pops))\n",
    "for i in range(len(pops)):\n",
    "    print(type(pops[i]))\n",
    "                "
   ]
  },
  {
   "cell_type": "markdown",
   "metadata": {},
   "source": [
    "# Taking samples from simulated populations"
   ]
  },
  {
   "cell_type": "code",
   "execution_count": 9,
   "metadata": {
    "collapsed": false
   },
   "outputs": [
    {
     "name": "stdout",
     "output_type": "stream",
     "text": [
      "A sample from a population is a  <type 'tuple'>\n",
      "A sample from a population is a  <type 'tuple'>\n",
      "A sample from a population is a  <type 'tuple'>\n",
      "A sample from a population is a  <type 'tuple'>\n",
      "4\n"
     ]
    }
   ],
   "source": [
    "#Use a list comprehension to get a random sample of size\n",
    "#n = 20 from each replicate\n",
    "samples = [fp.get_samples(rng,i,20) for i in pops]\n",
    "\n",
    "#Samples is now a list of tuples of two lists.\n",
    "#Each list contains tuples of mutation positions and genotypes.\n",
    "#The first list represents neutral variants.\n",
    "#The second list represents variants affecting fitness ('selected' variants)\n",
    "#We will manipulate/analyze these genotypes, etc.,\n",
    "#in a later example\n",
    "for i in samples:\n",
    "    print (\"A sample from a population is a \",type(i))\n",
    "    \n",
    "print(len(samples))"
   ]
  },
  {
   "cell_type": "markdown",
   "metadata": {},
   "source": [
    "## Getting additional information about samples"
   ]
  },
  {
   "cell_type": "code",
   "execution_count": 10,
   "metadata": {
    "collapsed": true
   },
   "outputs": [],
   "source": [
    "#Again, use list comprehension to get the 'details' of each sample\n",
    "#Given that each object in samples is a tuple, and that the second\n",
    "#item in each tuple represents selected mutations, i[1] in the line\n",
    "#below means that we are getting the mutation information only for\n",
    "#selected variants\n",
    "details = [fp.get_sample_details(i[1],j) for i,j in zip(samples,pops)]"
   ]
  },
  {
   "cell_type": "code",
   "execution_count": 11,
   "metadata": {
    "collapsed": false
   },
   "outputs": [
    {
     "name": "stdout",
     "output_type": "stream",
     "text": [
      "    a  h       p     s\n",
      "0  36  1  0.0075 -0.05\n",
      "1   9  1  0.0040 -0.05\n",
      "2  19  1  0.0030 -0.05\n",
      "    a  h       p     s\n",
      "0  20  1  0.0100 -0.05\n",
      "1  14  1  0.0025 -0.05\n",
      "    a  h       p     s\n",
      "0  11  1  0.0090 -0.05\n",
      "1  30  1  0.0060 -0.05\n",
      "2  16  1  0.0035 -0.05\n",
      "    a  h       p     s\n",
      "0   2  1  0.0005 -0.05\n",
      "1  21  1  0.0065 -0.05\n",
      "2  34  1  0.0080 -0.05\n",
      "3   2  1  0.0005 -0.05\n"
     ]
    }
   ],
   "source": [
    "#details is now a list of pandas DataFrame objects\n",
    "#Each DataFrame has the following columns:\n",
    "#  a: mutation age (in generations)\n",
    "#  h: dominance of the mutation\n",
    "#  p: frequency of the mutation in the population\n",
    "#  s: selection coefficient of the mutation\n",
    "for i in details:\n",
    "    print(i)"
   ]
  },
  {
   "cell_type": "code",
   "execution_count": 12,
   "metadata": {
    "collapsed": false
   },
   "outputs": [
    {
     "name": "stdout",
     "output_type": "stream",
     "text": [
      "Number of sites in samples[0] = 3. Number of rows in DataFrame 0 = 3\n",
      "Number of sites in samples[1] = 2. Number of rows in DataFrame 1 = 2\n",
      "Number of sites in samples[2] = 3. Number of rows in DataFrame 2 = 3\n",
      "Number of sites in samples[3] = 4. Number of rows in DataFrame 3 = 4\n"
     ]
    }
   ],
   "source": [
    "#The order of the rows in each DataFrame is the\n",
    "#same as the order as the objects in 'samples':\n",
    "for i in range(len(samples)):\n",
    "    print(\"Number of sites in samples[\",i,\"] = \",\n",
    "          len(samples[i][1]),\". Number of rows in DataFrame \",i,\n",
    "          \" = \",len(details[i].index),sep=\"\")"
   ]
  },
  {
   "cell_type": "code",
   "execution_count": 13,
   "metadata": {
    "collapsed": true
   },
   "outputs": [],
   "source": [
    "#Pandas DataFrames are cool.\n",
    "#Let's add a column to each DataFrame\n",
    "#specifying the mutation position,\n",
    "#count of derived state,\n",
    "#and a \"replicate ID\"\n",
    "for i in range(len(details)):\n",
    "    ##samples[i][1] again is the selected mutations in the sample taken\n",
    "    ##from the i-th replicate\n",
    "    details[i]['pos']=[x[0] for x in samples[i][1]]               #Mutation position\n",
    "    details[i]['count']=[ x[1].count('1') for x in samples[i][1]] #No. occurrences of derived state in sample\n",
    "    details[i]['id']=[i]*len(details[i].index)                    #Replicate id"
   ]
  },
  {
   "cell_type": "code",
   "execution_count": 14,
   "metadata": {
    "collapsed": false
   },
   "outputs": [
    {
     "name": "stdout",
     "output_type": "stream",
     "text": [
      "This is the merged table:\n",
      "    a  h       p     s       pos  count  id\n",
      "0  36  1  0.0075 -0.05  1.191983      1   0\n",
      "1   9  1  0.0040 -0.05  1.629000      1   0\n",
      "2  19  1  0.0030 -0.05  1.721135      1   0\n",
      "0  20  1  0.0100 -0.05  1.232333      1   1\n",
      "1  14  1  0.0025 -0.05  1.710726      1   1\n",
      "0  11  1  0.0090 -0.05 -0.743740      1   2\n",
      "1  30  1  0.0060 -0.05 -0.513952      1   2\n",
      "2  16  1  0.0035 -0.05 -0.283127      1   2\n",
      "0   2  1  0.0005 -0.05 -0.734266      1   3\n",
      "1  21  1  0.0065 -0.05 -0.004909      1   3\n",
      "2  34  1  0.0080 -0.05  1.460910      1   3\n",
      "3   2  1  0.0005 -0.05  1.698163      1   3\n"
     ]
    }
   ],
   "source": [
    "##Merge into 1 big DataFrame:\n",
    "BigTable = pandas.concat(details)\n",
    "\n",
    "print(\"This is the merged table:\")\n",
    "print(BigTable)"
   ]
  },
  {
   "cell_type": "markdown",
   "metadata": {},
   "source": [
    "# Summary statistics from samples\n",
    "\n",
    "Currently, there is limited support for summary statistic calculation in fwdpy.\n",
    "KRT is still deciding whether or not to put it here or to make a lightweight\n",
    "Cython interface to the relevant part of libsequence."
   ]
  },
  {
   "cell_type": "code",
   "execution_count": 15,
   "metadata": {
    "collapsed": false
   },
   "outputs": [
    {
     "name": "stdout",
     "output_type": "stream",
     "text": [
      "The distribution of D for neutral variants: [0.4713569885638867, -0.7189286593474936, -0.3046935287892466, -0.5657062948639776]\n",
      "The distribution of D for selected variants: [-1.7233097760082894, -1.5128356903928148, -1.7233097760082894, -1.867877699838809]\n"
     ]
    }
   ],
   "source": [
    "#So far, what we can do is calculate Tajima's D:\n",
    "\n",
    "DvalsNeutral = [fp.TajimasD(i[0]) for i in samples]\n",
    "DvalsSelected = [fp.TajimasD(i[1]) for i in samples]\n",
    "print(\"The distribution of D for neutral variants:\",DvalsNeutral)\n",
    "print(\"The distribution of D for selected variants:\",DvalsSelected)"
   ]
  },
  {
   "cell_type": "markdown",
   "metadata": {},
   "source": [
    "We don't need to wait for KRT to help us, though. Summary stats are easy!"
   ]
  },
  {
   "cell_type": "code",
   "execution_count": 16,
   "metadata": {
    "collapsed": false
   },
   "outputs": [
    {
     "name": "stdout",
     "output_type": "stream",
     "text": [
      "Dist. of number of derived neutral singletons is: [14, 13, 14, 15]\n",
      "Dist. of number of derived selected singletons is: [3, 2, 3, 4]\n",
      "Dist. of pi at neutral mutations is: [9.852631578947367, 11.5578947368421, 14.22105263157895, 6.031578947368419]\n",
      "Dist. of pi at selected mutations is: [0.0, 0.0, 0.0, 0.0]\n"
     ]
    }
   ],
   "source": [
    "###fxn to ask if a site is a derived singleton\n",
    "def isSingleton( site ):\n",
    "    ones=site[1].count('1')\n",
    "    if ones == 1:\n",
    "        return True\n",
    "    return False\n",
    "\n",
    "##fxn to count derived singletonss in a sample\n",
    "def countDerived( sample ):\n",
    "    nsing=0\n",
    "    for i in range(len(sample)):\n",
    "        if isSingleton(sample[i]):\n",
    "            nsing += 1\n",
    "    return nsing\n",
    "\n",
    "##fxn to calculate \"pi\" at a site\n",
    "def pisite( site ):\n",
    "    ones=site[1].count('1')\n",
    "    nsam=len(site[1])\n",
    "    p=float(ones)/float(nsam)\n",
    "    q=float(ones-1)/float(nsam-1)\n",
    "    return 2.*p*q\n",
    "\n",
    "##Calculate pi for whole sample\n",
    "def pisample(sample):\n",
    "    pivals = [pisite(i) for i in sample]\n",
    "    return sum(pivals)\n",
    "\n",
    "##Apply our new functions:\n",
    "\n",
    "##No. singletons at neutral sites\n",
    "nsing = [countDerived(i[0]) for i in samples]\n",
    "#No. singletons at selected sites\n",
    "ssing = [countDerived(i[1]) for i in samples]\n",
    "##Pi at neutral sites\n",
    "pn = [pisample(i[0]) for i in samples]\n",
    "##Pi at selected sites\n",
    "ps = [pisample(i[1]) for i in samples]\n",
    "\n",
    "print(\"Dist. of number of derived neutral singletons is:\",nsing)\n",
    "print(\"Dist. of number of derived selected singletons is:\",ssing)\n",
    "print(\"Dist. of pi at neutral mutations is:\",pn)\n",
    "print(\"Dist. of pi at selected mutations is:\",ps)"
   ]
  },
  {
   "cell_type": "markdown",
   "metadata": {
    "collapsed": true
   },
   "source": [
    "## The average $\\pi$ under the model\n",
    "\n",
    "Under the BGS model, the expectation of $\\pi$ is $E[\\pi]=\\pi_0e^{-\\frac{U}{2sh+r}},$ $U$ is the mutation rate to strongly-deleterious variants, $\\pi_0$ is the value expected in the absence of BGS (_i.e._ $\\pi_0 = \\theta = 4N_e\\mu$), $s$ and $h$ are the selection and dominance coefficients, and $r$ is the recombination rate.\n",
    "\n",
    "For our parameters, we have $E[\\pi] = 20e^{-\\frac{0.01}{0.1+0.005}},$ which equals $18.183$."
   ]
  },
  {
   "cell_type": "code",
   "execution_count": 17,
   "metadata": {
    "collapsed": false
   },
   "outputs": [
    {
     "ename": "RuntimeError",
     "evalue": "popvec internal data structures out of sync",
     "output_type": "error",
     "traceback": [
      "\u001b[0;31m---------------------------------------------------------------------------\u001b[0m",
      "\u001b[0;31mRuntimeError\u001b[0m                              Traceback (most recent call last)",
      "\u001b[0;32m<ipython-input-17-7fa64295d4e7>\u001b[0m in \u001b[0;36m<module>\u001b[0;34m()\u001b[0m\n\u001b[1;32m     17\u001b[0m     \u001b[0;31m#print(\"B: sample list has\",len(samples),\"objects\")\u001b[0m\u001b[0;34m\u001b[0m\u001b[0;34m\u001b[0m\u001b[0m\n\u001b[1;32m     18\u001b[0m     \u001b[0;31m#print(\"pn starts as\",pn)\u001b[0m\u001b[0;34m\u001b[0m\u001b[0;34m\u001b[0m\u001b[0m\n\u001b[0;32m---> 19\u001b[0;31m     \u001b[0;32mprint\u001b[0m\u001b[0;34m(\u001b[0m\u001b[0mi\u001b[0m\u001b[0;34m,\u001b[0m\u001b[0mlen\u001b[0m\u001b[0;34m(\u001b[0m\u001b[0mpops\u001b[0m\u001b[0;34m)\u001b[0m\u001b[0;34m)\u001b[0m\u001b[0;34m\u001b[0m\u001b[0m\n\u001b[0m\u001b[1;32m     20\u001b[0m     \u001b[0mpn\u001b[0m\u001b[0;34m.\u001b[0m\u001b[0mextend\u001b[0m\u001b[0;34m(\u001b[0m\u001b[0;34m[\u001b[0m\u001b[0mpisample\u001b[0m\u001b[0;34m(\u001b[0m\u001b[0mi\u001b[0m\u001b[0;34m[\u001b[0m\u001b[0;36m0\u001b[0m\u001b[0;34m]\u001b[0m\u001b[0;34m)\u001b[0m \u001b[0;32mfor\u001b[0m \u001b[0mi\u001b[0m \u001b[0;32min\u001b[0m \u001b[0;34m[\u001b[0m\u001b[0mfp\u001b[0m\u001b[0;34m.\u001b[0m\u001b[0mget_samples\u001b[0m\u001b[0;34m(\u001b[0m\u001b[0mrng\u001b[0m\u001b[0;34m,\u001b[0m\u001b[0mj\u001b[0m\u001b[0;34m,\u001b[0m\u001b[0;36m20\u001b[0m\u001b[0;34m)\u001b[0m \u001b[0;32mfor\u001b[0m \u001b[0mj\u001b[0m \u001b[0;32min\u001b[0m \u001b[0mpops\u001b[0m\u001b[0;34m]\u001b[0m\u001b[0;34m]\u001b[0m\u001b[0;34m)\u001b[0m\u001b[0;34m\u001b[0m\u001b[0m\n\u001b[1;32m     21\u001b[0m     \u001b[0;31m#print(\"pn ends as\",pn)\u001b[0m\u001b[0;34m\u001b[0m\u001b[0;34m\u001b[0m\u001b[0m\n",
      "\u001b[0;32m/Users/krthornt/src/fwdpy/fwdpy/classes.pyx\u001b[0m in \u001b[0;36mfwdpy.fwdpy.popvec.__len__ (fwdpy/fwdpy.cpp:2967)\u001b[0;34m()\u001b[0m\n\u001b[1;32m     81\u001b[0m     \u001b[0;32mdef\u001b[0m \u001b[0m__len__\u001b[0m\u001b[0;34m(\u001b[0m\u001b[0mself\u001b[0m\u001b[0;34m)\u001b[0m\u001b[0;34m:\u001b[0m\u001b[0;34m\u001b[0m\u001b[0m\n\u001b[1;32m     82\u001b[0m         \u001b[0;32mif\u001b[0m \u001b[0mself\u001b[0m\u001b[0;34m.\u001b[0m\u001b[0mpops\u001b[0m\u001b[0;34m.\u001b[0m\u001b[0msize\u001b[0m\u001b[0;34m(\u001b[0m\u001b[0;34m)\u001b[0m \u001b[0;34m!=\u001b[0m \u001b[0mlen\u001b[0m\u001b[0;34m(\u001b[0m\u001b[0mself\u001b[0m\u001b[0;34m.\u001b[0m\u001b[0mpypops\u001b[0m\u001b[0;34m)\u001b[0m\u001b[0;34m:\u001b[0m\u001b[0;34m\u001b[0m\u001b[0m\n\u001b[0;32m---> 83\u001b[0;31m             \u001b[0;32mraise\u001b[0m \u001b[0mRuntimeError\u001b[0m\u001b[0;34m(\u001b[0m\u001b[0;34m\"popvec internal data structures out of sync\"\u001b[0m\u001b[0;34m)\u001b[0m\u001b[0;34m\u001b[0m\u001b[0m\n\u001b[0m\u001b[1;32m     84\u001b[0m         \u001b[0;32mreturn\u001b[0m \u001b[0mself\u001b[0m\u001b[0;34m.\u001b[0m\u001b[0mpops\u001b[0m\u001b[0;34m.\u001b[0m\u001b[0msize\u001b[0m\u001b[0;34m(\u001b[0m\u001b[0;34m)\u001b[0m\u001b[0;34m\u001b[0m\u001b[0m\n\u001b[1;32m     85\u001b[0m     \u001b[0;32mdef\u001b[0m \u001b[0msize\u001b[0m\u001b[0;34m(\u001b[0m\u001b[0mself\u001b[0m\u001b[0;34m)\u001b[0m\u001b[0;34m:\u001b[0m\u001b[0;34m\u001b[0m\u001b[0m\n",
      "\u001b[0;31mRuntimeError\u001b[0m: popvec internal data structures out of sync"
     ]
    }
   ],
   "source": [
    "for i in range(0,4,1):\n",
    "    pops=[]\n",
    "    pops = fp.evolve_regions(rng,  \n",
    "                         4,        \n",
    "                         N,        \n",
    "                         nlist[0:],\n",
    "                         0.005,    \n",
    "                         0.01,     \n",
    "                         0.005,    \n",
    "                         nregions, \n",
    "                         sregions, \n",
    "                         recregions)\n",
    "    #samples = []\n",
    "    #print(\"A: sample list has\",len(samples),\"objects\")\n",
    "    #samples = [fp.get_samples(rng,i,20) for i in pops]\n",
    "    #print(\"pops list has\",len(pops),\"objects\")\n",
    "    #print(\"B: sample list has\",len(samples),\"objects\")\n",
    "    #print(\"pn starts as\",pn)\n",
    "    print(i,len(pops))\n",
    "    pn.extend([pisample(i[0]) for i in [fp.get_samples(rng,j,20) for j in pops]])\n",
    "    #print(\"pn ends as\",pn)\n",
    "\n",
    "\n",
    "print(len(pn))                    \n",
    "print(\"The mean pi at neutral sites is: \",sum(pn)/float(len(pn)))"
   ]
  },
  {
   "cell_type": "code",
   "execution_count": null,
   "metadata": {
    "collapsed": false
   },
   "outputs": [],
   "source": [
    "temp=set()\n",
    "for i in pn:\n",
    "    temp.add(i)\n",
    "print (len(temp))\n",
    "print (len(samples))\n",
    "print (len(pops))\n",
    "print(len(pn))"
   ]
  },
  {
   "cell_type": "code",
   "execution_count": null,
   "metadata": {
    "collapsed": false
   },
   "outputs": [],
   "source": [
    "print(len(pops))"
   ]
  },
  {
   "cell_type": "code",
   "execution_count": null,
   "metadata": {
    "collapsed": false
   },
   "outputs": [],
   "source": [
    "for i in pops:\n",
    "    print(i)"
   ]
  },
  {
   "cell_type": "code",
   "execution_count": null,
   "metadata": {
    "collapsed": true
   },
   "outputs": [],
   "source": [
    "import matplotlib\n",
    "import matplotlib.pyplot as plt"
   ]
  },
  {
   "cell_type": "code",
   "execution_count": null,
   "metadata": {
    "collapsed": false
   },
   "outputs": [],
   "source": [
    "n, bins, patches=plt.hist(pn)\n",
    "plt.show()"
   ]
  },
  {
   "cell_type": "code",
   "execution_count": null,
   "metadata": {
    "collapsed": true
   },
   "outputs": [],
   "source": []
  }
 ],
 "metadata": {
  "kernelspec": {
   "display_name": "Python 2",
   "language": "python",
   "name": "python2"
  },
  "language_info": {
   "codemirror_mode": {
    "name": "ipython",
    "version": 2
   },
   "file_extension": ".py",
   "mimetype": "text/x-python",
   "name": "python",
   "nbconvert_exporter": "python",
   "pygments_lexer": "ipython2",
   "version": "2.7.6"
  }
 },
 "nbformat": 4,
 "nbformat_minor": 0
}
