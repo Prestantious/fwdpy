{
 "cells": [
  {
   "cell_type": "markdown",
   "metadata": {},
   "source": [
    "# Example: background selection\n"
   ]
  },
  {
   "cell_type": "markdown",
   "metadata": {},
   "source": [
    "## Setting up the simulation\n",
    "* Neutral mutations will occur on the interval $[0,1)$.\n",
    "* Strongly-deleterious mutations will occur on the intervals $[-1,0)$ and $[1,2)$.\n",
    "* Recombination will be uniform throughout the region."
   ]
  },
  {
   "cell_type": "code",
   "execution_count": 1,
   "metadata": {
    "collapsed": false
   },
   "outputs": [],
   "source": [
    "#Use Python 3's print a a function.\n",
    "#This future-proofs the code in the notebook\n",
    "from __future__ import print_function\n",
    "#Import fwdpy.  Give it a shorter name\n",
    "import fwdpy as fp\n",
    "##Other libs we need\n",
    "import numpy as np\n",
    "import pandas\n",
    "import math"
   ]
  },
  {
   "cell_type": "markdown",
   "metadata": {},
   "source": [
    "### Establishing 'regions' for mutation and recombination\n"
   ]
  },
  {
   "cell_type": "code",
   "execution_count": 2,
   "metadata": {
    "collapsed": false
   },
   "outputs": [],
   "source": [
    "# Where neutral mutations occur:\n",
    "nregions = [fp.Region(beg=0,end=1,weight=1)]"
   ]
  },
  {
   "cell_type": "code",
   "execution_count": 3,
   "metadata": {
    "collapsed": true
   },
   "outputs": [],
   "source": [
    "# Where selected mutations occur:\n",
    "sregions = [fp.ConstantS(beg=-1,end=0,weight=1,s=-0.05,h=1),\n",
    "            fp.ConstantS(beg=1,end=2,weight=1,s=-0.05,h=1)]"
   ]
  },
  {
   "cell_type": "code",
   "execution_count": 4,
   "metadata": {
    "collapsed": true
   },
   "outputs": [],
   "source": [
    "# Recombination:\n",
    "recregions = [fp.Region(beg=-1,end=2,weight=1)]"
   ]
  },
  {
   "cell_type": "markdown",
   "metadata": {},
   "source": [
    "### Population size and simulation length"
   ]
  },
  {
   "cell_type": "code",
   "execution_count": 5,
   "metadata": {
    "collapsed": true
   },
   "outputs": [],
   "source": [
    "#Population size\n",
    "N=1000\n",
    "#We'll evolve for 10N generations.\n",
    "#nlist is a list of population sizes over time.\n",
    "#len(nlist) is the length of the simulation\n",
    "#We use numpy arrays for speed and optimised RAM\n",
    "#use.  Note the dtype=np.uint32, which means 32-bit\n",
    "#unsigned integer. Failure to use this type will\n",
    "#cause a run-time error.\n",
    "nlist = np.array([N]*10*N,dtype=np.uint32)"
   ]
  },
  {
   "cell_type": "code",
   "execution_count": 6,
   "metadata": {
    "collapsed": true
   },
   "outputs": [],
   "source": [
    "#Initalize a random number generator with seed value of 101\n",
    "rng = fp.GSLrng(101)"
   ]
  },
  {
   "cell_type": "code",
   "execution_count": 7,
   "metadata": {
    "collapsed": false
   },
   "outputs": [],
   "source": [
    "#Simulate 40 replicate populations.  This uses C++11 threads behind the scenes:\n",
    "pops = fp.evolve_regions(rng,       #The random number generator \n",
    "                         40,         #The number of pops to simulate = number of threads to use.\n",
    "                         N,         #Initial population size for each of the 40 demes\n",
    "                         nlist[0:], #List of population sizes over time.\n",
    "                         0.005,     #Neutral mutation rate (per gamete, per generation)\n",
    "                         0.01,      #Deleterious mutation rate (per gamete, per generation)\n",
    "                         0.005,     #Recombination rate (per diploid, per generation)\n",
    "                         nregions,  #Defined above\n",
    "                         sregions,  #Defined above\n",
    "                         recregions)#Defined above"
   ]
  },
  {
   "cell_type": "code",
   "execution_count": 8,
   "metadata": {
    "collapsed": false
   },
   "outputs": [
    {
     "name": "stdout",
     "output_type": "stream",
     "text": [
      "40\n",
      "<type 'fwdpy.fwdpy.singlepop'>\n"
     ]
    }
   ],
   "source": [
    "#Now, pops is a Python list with len(pops) = 40\n",
    "#Each element's type is fwdpy.singlepop\n",
    "print(len(pops))\n",
    "print(type(pops[0]))\n",
    "                "
   ]
  },
  {
   "cell_type": "markdown",
   "metadata": {},
   "source": [
    "## Taking samples from simulated populations"
   ]
  },
  {
   "cell_type": "code",
   "execution_count": 9,
   "metadata": {
    "collapsed": false
   },
   "outputs": [
    {
     "name": "stdout",
     "output_type": "stream",
     "text": [
      "A sample from a population is a  <type 'tuple'>\n",
      "A sample from a population is a  <type 'tuple'>\n",
      "A sample from a population is a  <type 'tuple'>\n",
      "A sample from a population is a  <type 'tuple'>\n",
      "40\n"
     ]
    }
   ],
   "source": [
    "#Use a list comprehension to get a random sample of size\n",
    "#n = 20 from each replicate\n",
    "samples = [fp.get_samples(rng,i,20) for i in pops]\n",
    "\n",
    "#Samples is now a list of tuples of two lists.\n",
    "#Each list contains tuples of mutation positions and genotypes.\n",
    "#The first list represents neutral variants.\n",
    "#The second list represents variants affecting fitness ('selected' variants)\n",
    "#We will manipulate/analyze these genotypes, etc.,\n",
    "#in a later example\n",
    "for i in samples[:4]:\n",
    "    print (\"A sample from a population is a \",type(i))\n",
    "    \n",
    "print(len(samples))"
   ]
  },
  {
   "cell_type": "markdown",
   "metadata": {},
   "source": [
    "### Getting additional information about samples"
   ]
  },
  {
   "cell_type": "code",
   "execution_count": 10,
   "metadata": {
    "collapsed": true
   },
   "outputs": [],
   "source": [
    "#Again, use list comprehension to get the 'details' of each sample\n",
    "#Given that each object in samples is a tuple, and that the second\n",
    "#item in each tuple represents selected mutations, i[1] in the line\n",
    "#below means that we are getting the mutation information only for\n",
    "#selected variants\n",
    "details = [fp.get_sample_details(i[1],j) for i,j in zip(samples,pops)]"
   ]
  },
  {
   "cell_type": "code",
   "execution_count": 11,
   "metadata": {
    "collapsed": false
   },
   "outputs": [
    {
     "name": "stdout",
     "output_type": "stream",
     "text": [
      "      a    h  label      p     s\n",
      "0  86.0  1.0      0  0.011 -0.05\n",
      "      a    h  label       p     s\n",
      "0   6.0  1.0      0  0.0055 -0.05\n",
      "1  13.0  1.0      0  0.0080 -0.05\n",
      "2   8.0  1.0      0  0.0085 -0.05\n",
      "      a    h  label       p     s\n",
      "0  39.0  1.0      0  0.0095 -0.05\n",
      "1   2.0  1.0      0  0.0020 -0.05\n",
      "2  15.0  1.0      0  0.0045 -0.05\n",
      "3   2.0  1.0      0  0.0005 -0.05\n",
      "4  29.0  1.0      0  0.0025 -0.05\n",
      "      a    h  label       p     s\n",
      "0  24.0  1.0      0  0.0145 -0.05\n",
      "1   4.0  1.0      0  0.0030 -0.05\n"
     ]
    }
   ],
   "source": [
    "#details is now a list of pandas DataFrame objects\n",
    "#Each DataFrame has the following columns:\n",
    "#  a: mutation age (in generations)\n",
    "#  h: dominance of the mutation\n",
    "#  p: frequency of the mutation in the population\n",
    "#  s: selection coefficient of the mutation\n",
    "#  label: A label applied for mutations for each region.  Here, I use 0 for all regions\n",
    "for i in details[:4]:\n",
    "    print(i)"
   ]
  },
  {
   "cell_type": "code",
   "execution_count": 12,
   "metadata": {
    "collapsed": false
   },
   "outputs": [
    {
     "name": "stdout",
     "output_type": "stream",
     "text": [
      "Number of sites in samples[0] = 1. Number of rows in DataFrame 0 = 1\n",
      "Number of sites in samples[1] = 3. Number of rows in DataFrame 1 = 3\n",
      "Number of sites in samples[2] = 5. Number of rows in DataFrame 2 = 5\n",
      "Number of sites in samples[3] = 2. Number of rows in DataFrame 3 = 2\n"
     ]
    }
   ],
   "source": [
    "#The order of the rows in each DataFrame is the\n",
    "#same as the order as the objects in 'samples':\n",
    "for i in range(4):\n",
    "    print(\"Number of sites in samples[\",i,\"] = \",\n",
    "          len(samples[i][1]),\". Number of rows in DataFrame \",i,\n",
    "          \" = \",len(details[i].index),sep=\"\")"
   ]
  },
  {
   "cell_type": "code",
   "execution_count": 13,
   "metadata": {
    "collapsed": true
   },
   "outputs": [],
   "source": [
    "#Pandas DataFrames are cool.\n",
    "#Let's add a column to each DataFrame\n",
    "#specifying the mutation position,\n",
    "#count of derived state,\n",
    "#and a \"replicate ID\"\n",
    "for i in range(len(details)):\n",
    "    ##samples[i][1] again is the selected mutations in the sample taken\n",
    "    ##from the i-th replicate\n",
    "    details[i]['pos']=[x[0] for x in samples[i][1]]               #Mutation position\n",
    "    details[i]['count']=[ x[1].count('1') for x in samples[i][1]] #No. occurrences of derived state in sample\n",
    "    details[i]['id']=[i]*len(details[i].index)                    #Replicate id"
   ]
  },
  {
   "cell_type": "code",
   "execution_count": 14,
   "metadata": {
    "collapsed": false
   },
   "outputs": [
    {
     "name": "stdout",
     "output_type": "stream",
     "text": [
      "This is the merged table:\n",
      "       a    h  label       p     s       pos  count  id\n",
      "0   86.0  1.0      0  0.0110 -0.05  1.984707      2   0\n",
      "0    6.0  1.0      0  0.0055 -0.05 -0.861297      1   1\n",
      "1   13.0  1.0      0  0.0080 -0.05 -0.201939      1   1\n",
      "2    8.0  1.0      0  0.0085 -0.05 -0.045890      1   1\n",
      "0   39.0  1.0      0  0.0095 -0.05 -0.092556      1   2\n",
      "1    2.0  1.0      0  0.0020 -0.05 -0.036264      1   2\n",
      "2   15.0  1.0      0  0.0045 -0.05  1.281776      1   2\n",
      "3    2.0  1.0      0  0.0005 -0.05  1.631626      1   2\n",
      "4   29.0  1.0      0  0.0025 -0.05  1.798943      1   2\n",
      "0   24.0  1.0      0  0.0145 -0.05 -0.996158      1   3\n",
      "1    4.0  1.0      0  0.0030 -0.05 -0.035800      1   3\n",
      "0    3.0  1.0      0  0.0015 -0.05 -0.344501      1   4\n",
      "1   66.0  1.0      0  0.0045 -0.05  1.178150      1   4\n",
      "2   20.0  1.0      0  0.0040 -0.05  1.894631      1   4\n",
      "0   10.0  1.0      0  0.0010 -0.05 -0.235474      1   5\n",
      "0   19.0  1.0      0  0.0010 -0.05  1.997798      1   6\n",
      "0   35.0  1.0      0  0.0060 -0.05 -0.248412      1   7\n",
      "0   50.0  1.0      0  0.0130 -0.05 -0.224335      1   8\n",
      "1   15.0  1.0      0  0.0060 -0.05 -0.178064      1   8\n",
      "2    6.0  1.0      0  0.0025 -0.05  1.668177      1   8\n",
      "3    2.0  1.0      0  0.0005 -0.05  1.718952      1   8\n",
      "4   83.0  1.0      0  0.0150 -0.05  1.962663      1   8\n",
      "0    8.0  1.0      0  0.0010 -0.05 -0.759213      2   9\n",
      "1    2.0  1.0      0  0.0015 -0.05 -0.223529      1   9\n",
      "2   14.0  1.0      0  0.0120 -0.05 -0.168920      1   9\n",
      "0   13.0  1.0      0  0.0025 -0.05 -0.992009      1  10\n",
      "1   17.0  1.0      0  0.0110 -0.05 -0.818799      1  10\n",
      "2   63.0  1.0      0  0.0025 -0.05 -0.203582      2  10\n",
      "3    1.0  1.0      0  0.0005 -0.05  1.267236      1  10\n",
      "0    7.0  1.0      0  0.0035 -0.05 -0.078749      1  11\n",
      "..   ...  ...    ...     ...   ...       ...    ...  ..\n",
      "1   19.0  1.0      0  0.0095 -0.05 -0.057538      1  31\n",
      "2    8.0  1.0      0  0.0020 -0.05 -0.032058      1  31\n",
      "3   31.0  1.0      0  0.0030 -0.05  1.175901      1  31\n",
      "4    6.0  1.0      0  0.0025 -0.05  1.922342      1  31\n",
      "0    5.0  1.0      0  0.0010 -0.05  1.163766      1  32\n",
      "0    4.0  1.0      0  0.0010 -0.05 -0.976930      1  33\n",
      "1   14.0  1.0      0  0.0035 -0.05 -0.728838      1  33\n",
      "2    3.0  1.0      0  0.0010 -0.05 -0.573928      1  33\n",
      "3   29.0  1.0      0  0.0085 -0.05  1.261325      1  33\n",
      "0   18.0  1.0      0  0.0010 -0.05 -0.970838      1  34\n",
      "1   27.0  1.0      0  0.0070 -0.05 -0.504697      1  34\n",
      "2    2.0  1.0      0  0.0005 -0.05  1.580322      1  34\n",
      "3   35.0  1.0      0  0.0095 -0.05  1.901750      1  34\n",
      "0    5.0  1.0      0  0.0005 -0.05  1.290389      1  35\n",
      "0   12.0  1.0      0  0.0070 -0.05 -0.539382      1  36\n",
      "1    7.0  1.0      0  0.0050 -0.05  1.304475      1  36\n",
      "0    6.0  1.0      0  0.0015 -0.05 -0.840592      1  37\n",
      "1    4.0  1.0      0  0.0010 -0.05 -0.796569      1  37\n",
      "2    3.0  1.0      0  0.0025 -0.05  1.028634      1  37\n",
      "3   15.0  1.0      0  0.0030 -0.05  1.743109      1  37\n",
      "4   14.0  1.0      0  0.0055 -0.05  1.851309      1  37\n",
      "0   33.0  1.0      0  0.0045 -0.05 -0.861966      1  38\n",
      "1   33.0  1.0      0  0.0150 -0.05 -0.259942      1  38\n",
      "2   70.0  1.0      0  0.0090 -0.05 -0.009285      1  38\n",
      "3   16.0  1.0      0  0.0020 -0.05  1.966089      1  38\n",
      "0   22.0  1.0      0  0.0075 -0.05 -0.677911      1  39\n",
      "1   12.0  1.0      0  0.0120 -0.05 -0.379367      1  39\n",
      "2   17.0  1.0      0  0.0030 -0.05 -0.157381      1  39\n",
      "3    9.0  1.0      0  0.0070 -0.05  1.878176      1  39\n",
      "4   15.0  1.0      0  0.0025 -0.05  1.894812      1  39\n",
      "\n",
      "[129 rows x 8 columns]\n"
     ]
    }
   ],
   "source": [
    "##Merge into 1 big DataFrame:\n",
    "BigTable = pandas.concat(details)\n",
    "\n",
    "print(\"This is the merged table:\")\n",
    "print(BigTable)"
   ]
  },
  {
   "cell_type": "markdown",
   "metadata": {},
   "source": [
    "## Summary statistics from samples\n",
    "\n",
    "We will use the [pylibseq](http://molpopgen.github.io/pylibseq/) package to calculate summary statistics.  pylibseq is a Python wrapper around [libsequence](http://molpopgen.github.io/libsequence/)."
   ]
  },
  {
   "cell_type": "code",
   "execution_count": 15,
   "metadata": {
    "collapsed": false
   },
   "outputs": [
    {
     "data": {
      "text/html": [
       "<div>\n",
       "<table border=\"1\" class=\"dataframe\">\n",
       "  <thead>\n",
       "    <tr style=\"text-align: right;\">\n",
       "      <th></th>\n",
       "      <th>npoly</th>\n",
       "      <th>thetapi</th>\n",
       "      <th>thetaw</th>\n",
       "    </tr>\n",
       "  </thead>\n",
       "  <tbody>\n",
       "    <tr>\n",
       "      <th>0</th>\n",
       "      <td>50</td>\n",
       "      <td>19.905263</td>\n",
       "      <td>14.093481</td>\n",
       "    </tr>\n",
       "    <tr>\n",
       "      <th>1</th>\n",
       "      <td>54</td>\n",
       "      <td>15.068421</td>\n",
       "      <td>15.220959</td>\n",
       "    </tr>\n",
       "    <tr>\n",
       "      <th>2</th>\n",
       "      <td>75</td>\n",
       "      <td>18.121053</td>\n",
       "      <td>21.140221</td>\n",
       "    </tr>\n",
       "    <tr>\n",
       "      <th>3</th>\n",
       "      <td>72</td>\n",
       "      <td>13.647368</td>\n",
       "      <td>20.294612</td>\n",
       "    </tr>\n",
       "    <tr>\n",
       "      <th>4</th>\n",
       "      <td>71</td>\n",
       "      <td>24.510526</td>\n",
       "      <td>20.012742</td>\n",
       "    </tr>\n",
       "    <tr>\n",
       "      <th>5</th>\n",
       "      <td>41</td>\n",
       "      <td>8.468421</td>\n",
       "      <td>11.556654</td>\n",
       "    </tr>\n",
       "    <tr>\n",
       "      <th>6</th>\n",
       "      <td>78</td>\n",
       "      <td>18.531579</td>\n",
       "      <td>21.985830</td>\n",
       "    </tr>\n",
       "    <tr>\n",
       "      <th>7</th>\n",
       "      <td>17</td>\n",
       "      <td>3.615789</td>\n",
       "      <td>4.791783</td>\n",
       "    </tr>\n",
       "    <tr>\n",
       "      <th>8</th>\n",
       "      <td>87</td>\n",
       "      <td>27.826316</td>\n",
       "      <td>24.522656</td>\n",
       "    </tr>\n",
       "    <tr>\n",
       "      <th>9</th>\n",
       "      <td>59</td>\n",
       "      <td>14.294737</td>\n",
       "      <td>16.630307</td>\n",
       "    </tr>\n",
       "    <tr>\n",
       "      <th>10</th>\n",
       "      <td>65</td>\n",
       "      <td>20.021053</td>\n",
       "      <td>18.321525</td>\n",
       "    </tr>\n",
       "    <tr>\n",
       "      <th>11</th>\n",
       "      <td>63</td>\n",
       "      <td>14.852632</td>\n",
       "      <td>17.757786</td>\n",
       "    </tr>\n",
       "    <tr>\n",
       "      <th>12</th>\n",
       "      <td>78</td>\n",
       "      <td>23.647368</td>\n",
       "      <td>21.985830</td>\n",
       "    </tr>\n",
       "    <tr>\n",
       "      <th>13</th>\n",
       "      <td>64</td>\n",
       "      <td>21.505263</td>\n",
       "      <td>18.039655</td>\n",
       "    </tr>\n",
       "    <tr>\n",
       "      <th>14</th>\n",
       "      <td>68</td>\n",
       "      <td>19.010526</td>\n",
       "      <td>19.167134</td>\n",
       "    </tr>\n",
       "    <tr>\n",
       "      <th>15</th>\n",
       "      <td>52</td>\n",
       "      <td>16.421053</td>\n",
       "      <td>14.657220</td>\n",
       "    </tr>\n",
       "    <tr>\n",
       "      <th>16</th>\n",
       "      <td>67</td>\n",
       "      <td>24.373684</td>\n",
       "      <td>18.885264</td>\n",
       "    </tr>\n",
       "    <tr>\n",
       "      <th>17</th>\n",
       "      <td>54</td>\n",
       "      <td>14.710526</td>\n",
       "      <td>15.220959</td>\n",
       "    </tr>\n",
       "    <tr>\n",
       "      <th>18</th>\n",
       "      <td>62</td>\n",
       "      <td>20.068421</td>\n",
       "      <td>17.475916</td>\n",
       "    </tr>\n",
       "    <tr>\n",
       "      <th>19</th>\n",
       "      <td>55</td>\n",
       "      <td>17.378947</td>\n",
       "      <td>15.502829</td>\n",
       "    </tr>\n",
       "    <tr>\n",
       "      <th>20</th>\n",
       "      <td>53</td>\n",
       "      <td>13.626316</td>\n",
       "      <td>14.939089</td>\n",
       "    </tr>\n",
       "    <tr>\n",
       "      <th>21</th>\n",
       "      <td>49</td>\n",
       "      <td>12.531579</td>\n",
       "      <td>13.811611</td>\n",
       "    </tr>\n",
       "    <tr>\n",
       "      <th>22</th>\n",
       "      <td>55</td>\n",
       "      <td>17.684211</td>\n",
       "      <td>15.502829</td>\n",
       "    </tr>\n",
       "    <tr>\n",
       "      <th>23</th>\n",
       "      <td>49</td>\n",
       "      <td>13.463158</td>\n",
       "      <td>13.811611</td>\n",
       "    </tr>\n",
       "    <tr>\n",
       "      <th>24</th>\n",
       "      <td>44</td>\n",
       "      <td>10.231579</td>\n",
       "      <td>12.402263</td>\n",
       "    </tr>\n",
       "    <tr>\n",
       "      <th>25</th>\n",
       "      <td>80</td>\n",
       "      <td>27.647368</td>\n",
       "      <td>22.549569</td>\n",
       "    </tr>\n",
       "    <tr>\n",
       "      <th>26</th>\n",
       "      <td>61</td>\n",
       "      <td>16.689474</td>\n",
       "      <td>17.194046</td>\n",
       "    </tr>\n",
       "    <tr>\n",
       "      <th>27</th>\n",
       "      <td>81</td>\n",
       "      <td>21.073684</td>\n",
       "      <td>22.831439</td>\n",
       "    </tr>\n",
       "    <tr>\n",
       "      <th>28</th>\n",
       "      <td>69</td>\n",
       "      <td>17.831579</td>\n",
       "      <td>19.449003</td>\n",
       "    </tr>\n",
       "    <tr>\n",
       "      <th>29</th>\n",
       "      <td>54</td>\n",
       "      <td>21.294737</td>\n",
       "      <td>15.220959</td>\n",
       "    </tr>\n",
       "    <tr>\n",
       "      <th>30</th>\n",
       "      <td>38</td>\n",
       "      <td>13.436842</td>\n",
       "      <td>10.711045</td>\n",
       "    </tr>\n",
       "    <tr>\n",
       "      <th>31</th>\n",
       "      <td>48</td>\n",
       "      <td>14.484211</td>\n",
       "      <td>13.529741</td>\n",
       "    </tr>\n",
       "    <tr>\n",
       "      <th>32</th>\n",
       "      <td>54</td>\n",
       "      <td>15.905263</td>\n",
       "      <td>15.220959</td>\n",
       "    </tr>\n",
       "    <tr>\n",
       "      <th>33</th>\n",
       "      <td>73</td>\n",
       "      <td>24.021053</td>\n",
       "      <td>20.576482</td>\n",
       "    </tr>\n",
       "    <tr>\n",
       "      <th>34</th>\n",
       "      <td>67</td>\n",
       "      <td>14.821053</td>\n",
       "      <td>18.885264</td>\n",
       "    </tr>\n",
       "    <tr>\n",
       "      <th>35</th>\n",
       "      <td>45</td>\n",
       "      <td>11.926316</td>\n",
       "      <td>12.684133</td>\n",
       "    </tr>\n",
       "    <tr>\n",
       "      <th>36</th>\n",
       "      <td>66</td>\n",
       "      <td>16.847368</td>\n",
       "      <td>18.603394</td>\n",
       "    </tr>\n",
       "    <tr>\n",
       "      <th>37</th>\n",
       "      <td>72</td>\n",
       "      <td>26.294737</td>\n",
       "      <td>20.294612</td>\n",
       "    </tr>\n",
       "    <tr>\n",
       "      <th>38</th>\n",
       "      <td>68</td>\n",
       "      <td>22.505263</td>\n",
       "      <td>19.167134</td>\n",
       "    </tr>\n",
       "    <tr>\n",
       "      <th>39</th>\n",
       "      <td>68</td>\n",
       "      <td>23.815789</td>\n",
       "      <td>19.167134</td>\n",
       "    </tr>\n",
       "  </tbody>\n",
       "</table>\n",
       "</div>"
      ],
      "text/plain": [
       "    npoly    thetapi     thetaw\n",
       "0      50  19.905263  14.093481\n",
       "1      54  15.068421  15.220959\n",
       "2      75  18.121053  21.140221\n",
       "3      72  13.647368  20.294612\n",
       "4      71  24.510526  20.012742\n",
       "5      41   8.468421  11.556654\n",
       "6      78  18.531579  21.985830\n",
       "7      17   3.615789   4.791783\n",
       "8      87  27.826316  24.522656\n",
       "9      59  14.294737  16.630307\n",
       "10     65  20.021053  18.321525\n",
       "11     63  14.852632  17.757786\n",
       "12     78  23.647368  21.985830\n",
       "13     64  21.505263  18.039655\n",
       "14     68  19.010526  19.167134\n",
       "15     52  16.421053  14.657220\n",
       "16     67  24.373684  18.885264\n",
       "17     54  14.710526  15.220959\n",
       "18     62  20.068421  17.475916\n",
       "19     55  17.378947  15.502829\n",
       "20     53  13.626316  14.939089\n",
       "21     49  12.531579  13.811611\n",
       "22     55  17.684211  15.502829\n",
       "23     49  13.463158  13.811611\n",
       "24     44  10.231579  12.402263\n",
       "25     80  27.647368  22.549569\n",
       "26     61  16.689474  17.194046\n",
       "27     81  21.073684  22.831439\n",
       "28     69  17.831579  19.449003\n",
       "29     54  21.294737  15.220959\n",
       "30     38  13.436842  10.711045\n",
       "31     48  14.484211  13.529741\n",
       "32     54  15.905263  15.220959\n",
       "33     73  24.021053  20.576482\n",
       "34     67  14.821053  18.885264\n",
       "35     45  11.926316  12.684133\n",
       "36     66  16.847368  18.603394\n",
       "37     72  26.294737  20.294612\n",
       "38     68  22.505263  19.167134\n",
       "39     68  23.815789  19.167134"
      ]
     },
     "execution_count": 15,
     "metadata": {},
     "output_type": "execute_result"
    }
   ],
   "source": [
    "import libsequence.polytable as polyt\n",
    "import libsequence.summstats as sstats\n",
    "\n",
    "#Convert neutral mutations into libsequence \"SimData\" objects, \n",
    "#which are intended to handle binary (0/1) data like\n",
    "#what comes out of these simulations\n",
    "n = [polyt.simData(i[0]) for i in samples]\n",
    "\n",
    "#Create \"factories\" for calculating the summary stats\n",
    "an = [sstats.polySIM(i) for i in n]\n",
    "\n",
    "##Collect a bunch of summary stats into a pandas.DataFrame:\n",
    "NeutralMutStats = pandas.DataFrame([ {'thetapi':i.thetapi(),'npoly':i.numpoly(),'thetaw':i.thetaw()} for i in an ])\n",
    "\n",
    "NeutralMutStats"
   ]
  },
  {
   "cell_type": "markdown",
   "metadata": {
    "collapsed": true
   },
   "source": [
    "### The average $\\pi$ under the model\n",
    "\n",
    "Under the BGS model, the expectation of $\\pi$ is $E[\\pi]=\\pi_0e^{-\\frac{U}{2sh+r}},$ $U$ is the mutation rate to strongly-deleterious variants, $\\pi_0$ is the value expected in the absence of BGS (_i.e._ $\\pi_0 = \\theta = 4N_e\\mu$), $s$ and $h$ are the selection and dominance coefficients, and $r$ is the recombination rate.\n",
    "\n",
    "Note that the definition of $U$ is _per diploid_, meaning twice the per gamete rate. (See Hudson and Kaplan (1995) PMC1206891 for details).\n",
    "\n",
    "For our parameters, we have $E[\\pi] = 20e^{-\\frac{0.02}{0.1+0.005}},$ which equals:"
   ]
  },
  {
   "cell_type": "code",
   "execution_count": 16,
   "metadata": {
    "collapsed": false
   },
   "outputs": [
    {
     "name": "stdout",
     "output_type": "stream",
     "text": [
      "16.5313087525\n"
     ]
    }
   ],
   "source": [
    "print(20*math.exp(-0.02/(0.1+0.005)))"
   ]
  },
  {
   "cell_type": "raw",
   "metadata": {},
   "source": [
    "Now, let's get the average $\\pi$ from 1000 simulated replicates.  We already have 40 replicates that we did above, so we'll run another 24 sets of four populations.  \n",
    "\n",
    "We will use standard Python to grow our collection of summary statistics."
   ]
  },
  {
   "cell_type": "code",
   "execution_count": 17,
   "metadata": {
    "collapsed": false
   },
   "outputs": [],
   "source": [
    "for i in range(0,24,1):\n",
    "    pops = fp.evolve_regions(rng,  \n",
    "                         40,        \n",
    "                         N,        \n",
    "                         nlist[0:],\n",
    "                         0.005,    \n",
    "                         0.01,     \n",
    "                         0.005,    \n",
    "                         nregions, \n",
    "                         sregions, \n",
    "                         recregions)\n",
    "    samples = [fp.get_samples(rng,i,20) for i in pops]\n",
    "    simdatasNeut = [polyt.simData(i[0]) for i in samples]\n",
    "    polySIMn = [sstats.polySIM(i) for i in simdatasNeut]\n",
    "    ##Append stats into our growing DataFrame:\n",
    "    NeutralMutStats=pandas.concat([NeutralMutStats,\n",
    "                                   pandas.DataFrame([ {'thetapi':i.thetapi(),\n",
    "                                                       'npoly':i.numpoly(),\n",
    "                                                       'thetaw':i.thetaw()} for i in polySIMn ])])\n"
   ]
  },
  {
   "cell_type": "markdown",
   "metadata": {},
   "source": [
    "#### Getting the mean diversity\n",
    "We've collected everything into a big pandas DataFrame.  We can easily get the mean using the built-in groupby and mean functions.  \n",
    "\n",
    "For users happier in R, you could write this DataFrame to a text file and process it using R's [dplyr](http://cran.r-project.org/web/packages/dplyr/index.html) package, which is a really excellent tool for this sort of thing."
   ]
  },
  {
   "cell_type": "code",
   "execution_count": 18,
   "metadata": {
    "collapsed": false
   },
   "outputs": [
    {
     "data": {
      "text/plain": [
       "npoly      58.430000\n",
       "thetapi    16.405058\n",
       "thetaw     16.469641\n",
       "dtype: float64"
      ]
     },
     "execution_count": 18,
     "metadata": {},
     "output_type": "execute_result"
    }
   ],
   "source": [
    "#Get means for each column:\n",
    "NeutralMutStats.mean(0)"
   ]
  },
  {
   "cell_type": "markdown",
   "metadata": {},
   "source": [
    "The 'thetapi' record is our mean $\\pi$ from all of the simulations, and it is quite close to the theoretical value. "
   ]
  }
 ],
 "metadata": {
  "kernelspec": {
   "display_name": "Python 2",
   "language": "python",
   "name": "python2"
  },
  "language_info": {
   "codemirror_mode": {
    "name": "ipython",
    "version": 2
   },
   "file_extension": ".py",
   "mimetype": "text/x-python",
   "name": "python",
   "nbconvert_exporter": "python",
   "pygments_lexer": "ipython2",
   "version": "2.7.10"
  }
 },
 "nbformat": 4,
 "nbformat_minor": 0
}
