{
 "cells": [
  {
   "cell_type": "markdown",
   "metadata": {},
   "source": [
    "# Example: background selection\n"
   ]
  },
  {
   "cell_type": "markdown",
   "metadata": {},
   "source": [
    "## Setting up the simulation\n",
    "* Neutral mutations will occur on the interval $[0,1)$.\n",
    "* Strongly-deleterious mutations will occur on the intervals $[-1,0)$ and $[1,2)$.\n",
    "* Recombination will be uniform throughout the region."
   ]
  },
  {
   "cell_type": "code",
   "execution_count": 20,
   "metadata": {
    "collapsed": false
   },
   "outputs": [],
   "source": [
    "#Use Pyhon 3's print a a function.\n",
    "#This future-proofs the code in the notebook\n",
    "from __future__ import print_function\n",
    "#Import fwdpy.  Give it a shorter name\n",
    "import fwdpy as fp\n",
    "##Other libs we need\n",
    "import numpy as np\n",
    "import pandas\n",
    "import math"
   ]
  },
  {
   "cell_type": "markdown",
   "metadata": {},
   "source": [
    "### Establishing 'regions' for mutation and recombination\n"
   ]
  },
  {
   "cell_type": "code",
   "execution_count": 3,
   "metadata": {
    "collapsed": false
   },
   "outputs": [],
   "source": [
    "# Where neutral mutations occur:\n",
    "nregions = [fp.Region(beg=0,end=1,weight=1)]"
   ]
  },
  {
   "cell_type": "code",
   "execution_count": 4,
   "metadata": {
    "collapsed": true
   },
   "outputs": [],
   "source": [
    "# Where selected mutations occur:\n",
    "sregions = [fp.ConstantS(beg=-1,end=0,weight=1,s=-0.05,h=1),\n",
    "            fp.ConstantS(beg=1,end=2,weight=1,s=-0.05,h=1)]"
   ]
  },
  {
   "cell_type": "code",
   "execution_count": 5,
   "metadata": {
    "collapsed": true
   },
   "outputs": [],
   "source": [
    "# Recombination:\n",
    "recregions = [fp.Region(beg=-1,end=2,weight=1)]"
   ]
  },
  {
   "cell_type": "markdown",
   "metadata": {},
   "source": [
    "### Population size and simulation length"
   ]
  },
  {
   "cell_type": "code",
   "execution_count": 6,
   "metadata": {
    "collapsed": true
   },
   "outputs": [],
   "source": [
    "#Population size\n",
    "N=1000\n",
    "#We'll evolve for 10N generations.\n",
    "#nlist is a list of population sizes over time.\n",
    "#len(nlist) is the length of the simulation\n",
    "#We use numpy arrays for speed and optimised RAM\n",
    "#use.  Note the dtype=np.uint32, which means 32-bit\n",
    "#unsigned integer. Failure to use this type will\n",
    "#cause a run-time error.\n",
    "nlist = np.array([N]*10*N,dtype=np.uint32)"
   ]
  },
  {
   "cell_type": "code",
   "execution_count": 7,
   "metadata": {
    "collapsed": true
   },
   "outputs": [],
   "source": [
    "#Initalize a random number generator with seed value of 101\n",
    "rng = fp.GSLrng(101)"
   ]
  },
  {
   "cell_type": "code",
   "execution_count": 8,
   "metadata": {
    "collapsed": false
   },
   "outputs": [],
   "source": [
    "#Simulate 4 replicate populations.  This uses C++11 threads behind the scenes:\n",
    "pops = fp.evolve_regions(rng,       #The random number generator \n",
    "                         4,         #The number of pops to simulate = number of threads to use.\n",
    "                         N,         #Initial population size for each of the 4 demes\n",
    "                         nlist[0:], #List of population sizes over time.\n",
    "                         0.005,     #Neutral mutation rate (per gamete, per generation)\n",
    "                         0.01,      #Deleterious mutation rate (per gamete, per generation)\n",
    "                         0.005,     #Recombination rate (per diploid, per generation)\n",
    "                         nregions,  #Defined above\n",
    "                         sregions,  #Defined above\n",
    "                         recregions)#Defined above"
   ]
  },
  {
   "cell_type": "code",
   "execution_count": 9,
   "metadata": {
    "collapsed": false
   },
   "outputs": [
    {
     "name": "stdout",
     "output_type": "stream",
     "text": [
      "4\n",
      "<type 'fwdpy.fwdpy.singlepop'>\n",
      "<type 'fwdpy.fwdpy.singlepop'>\n",
      "<type 'fwdpy.fwdpy.singlepop'>\n",
      "<type 'fwdpy.fwdpy.singlepop'>\n"
     ]
    }
   ],
   "source": [
    "#Now, pops is a Python list with len(pops) = 4\n",
    "#Each element's type is fwdpy.singlepop\n",
    "print(len(pops))\n",
    "for i in range(len(pops)):\n",
    "    print(type(pops[i]))\n",
    "                "
   ]
  },
  {
   "cell_type": "markdown",
   "metadata": {},
   "source": [
    "## Taking samples from simulated populations"
   ]
  },
  {
   "cell_type": "code",
   "execution_count": 10,
   "metadata": {
    "collapsed": false
   },
   "outputs": [
    {
     "name": "stdout",
     "output_type": "stream",
     "text": [
      "A sample from a population is a  <type 'tuple'>\n",
      "A sample from a population is a  <type 'tuple'>\n",
      "A sample from a population is a  <type 'tuple'>\n",
      "A sample from a population is a  <type 'tuple'>\n",
      "4\n"
     ]
    }
   ],
   "source": [
    "#Use a list comprehension to get a random sample of size\n",
    "#n = 20 from each replicate\n",
    "samples = [fp.get_samples(rng,i,20) for i in pops]\n",
    "\n",
    "#Samples is now a list of tuples of two lists.\n",
    "#Each list contains tuples of mutation positions and genotypes.\n",
    "#The first list represents neutral variants.\n",
    "#The second list represents variants affecting fitness ('selected' variants)\n",
    "#We will manipulate/analyze these genotypes, etc.,\n",
    "#in a later example\n",
    "for i in samples:\n",
    "    print (\"A sample from a population is a \",type(i))\n",
    "    \n",
    "print(len(samples))"
   ]
  },
  {
   "cell_type": "markdown",
   "metadata": {},
   "source": [
    "### Getting additional information about samples"
   ]
  },
  {
   "cell_type": "code",
   "execution_count": 11,
   "metadata": {
    "collapsed": true
   },
   "outputs": [],
   "source": [
    "#Again, use list comprehension to get the 'details' of each sample\n",
    "#Given that each object in samples is a tuple, and that the second\n",
    "#item in each tuple represents selected mutations, i[1] in the line\n",
    "#below means that we are getting the mutation information only for\n",
    "#selected variants\n",
    "details = [fp.get_sample_details(i[1],j) for i,j in zip(samples,pops)]"
   ]
  },
  {
   "cell_type": "code",
   "execution_count": 12,
   "metadata": {
    "collapsed": false
   },
   "outputs": [
    {
     "name": "stdout",
     "output_type": "stream",
     "text": [
      "    a  h      p     s\n",
      "0  67  1  0.006 -0.05\n",
      "     a  h       p     s\n",
      "0   19  1  0.0025 -0.05\n",
      "1    6  1  0.0055 -0.05\n",
      "2   17  1  0.0120 -0.05\n",
      "3  149  1  0.0235 -0.05\n",
      "4   36  1  0.0070 -0.05\n",
      "5   24  1  0.0080 -0.05\n",
      "    a  h       p     s\n",
      "0   3  1  0.0030 -0.05\n",
      "1   1  1  0.0005 -0.05\n",
      "2  19  1  0.0060 -0.05\n",
      "    a  h       p     s\n",
      "0  24  1  0.0145 -0.05\n",
      "1   5  1  0.0010 -0.05\n",
      "2   2  1  0.0020 -0.05\n",
      "3  10  1  0.0105 -0.05\n",
      "4   6  1  0.0020 -0.05\n"
     ]
    }
   ],
   "source": [
    "#details is now a list of pandas DataFrame objects\n",
    "#Each DataFrame has the following columns:\n",
    "#  a: mutation age (in generations)\n",
    "#  h: dominance of the mutation\n",
    "#  p: frequency of the mutation in the population\n",
    "#  s: selection coefficient of the mutation\n",
    "for i in details:\n",
    "    print(i)"
   ]
  },
  {
   "cell_type": "code",
   "execution_count": 13,
   "metadata": {
    "collapsed": false
   },
   "outputs": [
    {
     "name": "stdout",
     "output_type": "stream",
     "text": [
      "Number of sites in samples[0] = 1. Number of rows in DataFrame 0 = 1\n",
      "Number of sites in samples[1] = 6. Number of rows in DataFrame 1 = 6\n",
      "Number of sites in samples[2] = 3. Number of rows in DataFrame 2 = 3\n",
      "Number of sites in samples[3] = 5. Number of rows in DataFrame 3 = 5\n"
     ]
    }
   ],
   "source": [
    "#The order of the rows in each DataFrame is the\n",
    "#same as the order as the objects in 'samples':\n",
    "for i in range(len(samples)):\n",
    "    print(\"Number of sites in samples[\",i,\"] = \",\n",
    "          len(samples[i][1]),\". Number of rows in DataFrame \",i,\n",
    "          \" = \",len(details[i].index),sep=\"\")"
   ]
  },
  {
   "cell_type": "code",
   "execution_count": 14,
   "metadata": {
    "collapsed": true
   },
   "outputs": [],
   "source": [
    "#Pandas DataFrames are cool.\n",
    "#Let's add a column to each DataFrame\n",
    "#specifying the mutation position,\n",
    "#count of derived state,\n",
    "#and a \"replicate ID\"\n",
    "for i in range(len(details)):\n",
    "    ##samples[i][1] again is the selected mutations in the sample taken\n",
    "    ##from the i-th replicate\n",
    "    details[i]['pos']=[x[0] for x in samples[i][1]]               #Mutation position\n",
    "    details[i]['count']=[ x[1].count('1') for x in samples[i][1]] #No. occurrences of derived state in sample\n",
    "    details[i]['id']=[i]*len(details[i].index)                    #Replicate id"
   ]
  },
  {
   "cell_type": "code",
   "execution_count": 15,
   "metadata": {
    "collapsed": false
   },
   "outputs": [
    {
     "name": "stdout",
     "output_type": "stream",
     "text": [
      "This is the merged table:\n",
      "     a  h       p     s       pos  count  id\n",
      "0   67  1  0.0060 -0.05  1.877543      1   0\n",
      "0   19  1  0.0025 -0.05 -0.928520      1   1\n",
      "1    6  1  0.0055 -0.05 -0.861297      1   1\n",
      "2   17  1  0.0120 -0.05 -0.843893      1   1\n",
      "3  149  1  0.0235 -0.05 -0.472551      1   1\n",
      "4   36  1  0.0070 -0.05 -0.426389      1   1\n",
      "5   24  1  0.0080 -0.05  1.162503      1   1\n",
      "0    3  1  0.0030 -0.05 -0.309919      1   2\n",
      "1    1  1  0.0005 -0.05  1.534583      1   2\n",
      "2   19  1  0.0060 -0.05  1.575055      1   2\n",
      "0   24  1  0.0145 -0.05 -0.996158      1   3\n",
      "1    5  1  0.0010 -0.05 -0.317365      1   3\n",
      "2    2  1  0.0020 -0.05 -0.124097      1   3\n",
      "3   10  1  0.0105 -0.05  1.342523      1   3\n",
      "4    6  1  0.0020 -0.05  1.515371      1   3\n"
     ]
    }
   ],
   "source": [
    "##Merge into 1 big DataFrame:\n",
    "BigTable = pandas.concat(details)\n",
    "\n",
    "print(\"This is the merged table:\")\n",
    "print(BigTable)"
   ]
  },
  {
   "cell_type": "markdown",
   "metadata": {},
   "source": [
    "## Summary statistics from samples\n",
    "\n",
    "We will use the [pylibseq](http://molpopgen.github.io/pylibseq/) package to calculate summary statistics.  pylibseq is a Python wrapper around [libsequence](http://molpopgen.github.io/libsequence/)."
   ]
  },
  {
   "cell_type": "code",
   "execution_count": 16,
   "metadata": {
    "collapsed": false
   },
   "outputs": [
    {
     "data": {
      "text/html": [
       "<div>\n",
       "<table border=\"1\" class=\"dataframe\">\n",
       "  <thead>\n",
       "    <tr style=\"text-align: right;\">\n",
       "      <th></th>\n",
       "      <th>npoly</th>\n",
       "      <th>thetapi</th>\n",
       "      <th>thetaw</th>\n",
       "    </tr>\n",
       "  </thead>\n",
       "  <tbody>\n",
       "    <tr>\n",
       "      <th>0</th>\n",
       "      <td>62</td>\n",
       "      <td>18.405263</td>\n",
       "      <td>17.475916</td>\n",
       "    </tr>\n",
       "    <tr>\n",
       "      <th>1</th>\n",
       "      <td>47</td>\n",
       "      <td>12.763158</td>\n",
       "      <td>13.247872</td>\n",
       "    </tr>\n",
       "    <tr>\n",
       "      <th>2</th>\n",
       "      <td>74</td>\n",
       "      <td>19.310526</td>\n",
       "      <td>20.858351</td>\n",
       "    </tr>\n",
       "    <tr>\n",
       "      <th>3</th>\n",
       "      <td>65</td>\n",
       "      <td>13.205263</td>\n",
       "      <td>18.321525</td>\n",
       "    </tr>\n",
       "  </tbody>\n",
       "</table>\n",
       "</div>"
      ],
      "text/plain": [
       "   npoly    thetapi     thetaw\n",
       "0     62  18.405263  17.475916\n",
       "1     47  12.763158  13.247872\n",
       "2     74  19.310526  20.858351\n",
       "3     65  13.205263  18.321525"
      ]
     },
     "execution_count": 16,
     "metadata": {},
     "output_type": "execute_result"
    }
   ],
   "source": [
    "import libsequence.polytable as polyt\n",
    "import libsequence.summstats as sstats\n",
    "\n",
    "#Convert neutral mutations into libsequence \"SimData\" objects, \n",
    "#which are intended to handle binary (0/1) data like\n",
    "#what comes out of these simulations\n",
    "n = [polyt.simData(i[0]) for i in samples]\n",
    "\n",
    "#Create \"factories\" for calculating the summary stats\n",
    "an = [sstats.polySIM(i) for i in n]\n",
    "\n",
    "##Collect a bunch of summary stats into a pandas.DataFrame:\n",
    "NeutralMutStats = pandas.DataFrame([ {'thetapi':i.thetapi(),'npoly':i.numpoly(),'thetaw':i.thetaw()} for i in an ])\n",
    "\n",
    "NeutralMutStats"
   ]
  },
  {
   "cell_type": "markdown",
   "metadata": {
    "collapsed": true
   },
   "source": [
    "### The average $\\pi$ under the model\n",
    "\n",
    "Under the BGS model, the expectation of $\\pi$ is $E[\\pi]=\\pi_0e^{-\\frac{U}{2sh+r}},$ $U$ is the mutation rate to strongly-deleterious variants, $\\pi_0$ is the value expected in the absence of BGS (_i.e._ $\\pi_0 = \\theta = 4N_e\\mu$), $s$ and $h$ are the selection and dominance coefficients, and $r$ is the recombination rate.\n",
    "\n",
    "Note that the definition of $U$ is _per diploid_, meaning twice the per gamete rate. (See Hudson and Kaplan (1995) PMC1206891 for details).\n",
    "\n",
    "For our parameters, we have $E[\\pi] = 20e^{-\\frac{0.02}{0.1+0.005}},$ which equals:"
   ]
  },
  {
   "cell_type": "code",
   "execution_count": 17,
   "metadata": {
    "collapsed": false
   },
   "outputs": [
    {
     "name": "stdout",
     "output_type": "stream",
     "text": [
      "16.5313087525\n"
     ]
    }
   ],
   "source": [
    "print(20*math.exp(-0.02/(0.1+0.005)))"
   ]
  },
  {
   "cell_type": "raw",
   "metadata": {},
   "source": [
    "Now, let's get the average $\\pi$ from 500 simulated replicates.  We already have four replicates that we did above, so we'll run another 124 sets of four populations.  \n",
    "\n",
    "We will use standard Python to grow our collection of summary statistics."
   ]
  },
  {
   "cell_type": "code",
   "execution_count": 18,
   "metadata": {
    "collapsed": false
   },
   "outputs": [],
   "source": [
    "for i in range(0,124,1):\n",
    "    pops = fp.evolve_regions(rng,  \n",
    "                         4,        \n",
    "                         N,        \n",
    "                         nlist[0:],\n",
    "                         0.005,    \n",
    "                         0.01,     \n",
    "                         0.005,    \n",
    "                         nregions, \n",
    "                         sregions, \n",
    "                         recregions)\n",
    "    samples = [fp.get_samples(rng,i,20) for i in pops]\n",
    "    simdatasNeut = [polyt.simData(i[0]) for i in samples]\n",
    "    polySIMn = [sstats.polySIM(i) for i in simdatasNeut]\n",
    "    ##Append stats into our growing DataFrame:\n",
    "    NeutralMutStats=pandas.concat([NeutralMutStats,\n",
    "                                   pandas.DataFrame([ {'thetapi':i.thetapi(),\n",
    "                                                       'npoly':i.numpoly(),\n",
    "                                                       'thetaw':i.thetaw()} for i in polySIMn ])])\n"
   ]
  },
  {
   "cell_type": "markdown",
   "metadata": {},
   "source": [
    "#### Getting the mean diversity\n",
    "We've collected everything into a big pandas DataFrame.  We can easily get the mean using the built-in groupby and mean functions.  \n",
    "\n",
    "For users happier in R, you could write this DataFrame to a text file and process it using R's [dplyr](http://cran.r-project.org/web/packages/dplyr/index.html) package, which is a really excellent tool for this sort of thing."
   ]
  },
  {
   "cell_type": "code",
   "execution_count": 19,
   "metadata": {
    "collapsed": false
   },
   "outputs": [
    {
     "data": {
      "text/plain": [
       "npoly      57.280000\n",
       "thetapi    15.743958\n",
       "thetaw     16.145491\n",
       "dtype: float64"
      ]
     },
     "execution_count": 19,
     "metadata": {},
     "output_type": "execute_result"
    }
   ],
   "source": [
    "#Get means for each column:\n",
    "NeutralMutStats.mean(0)"
   ]
  },
  {
   "cell_type": "markdown",
   "metadata": {},
   "source": [
    "The 'thetapi' record is our mean $\\pi$ from all of the simulations, and it is quite close to the theoretical value. "
   ]
  }
 ],
 "metadata": {
  "kernelspec": {
   "display_name": "Python 2",
   "language": "python",
   "name": "python2"
  },
  "language_info": {
   "codemirror_mode": {
    "name": "ipython",
    "version": 2
   },
   "file_extension": ".py",
   "mimetype": "text/x-python",
   "name": "python",
   "nbconvert_exporter": "python",
   "pygments_lexer": "ipython2",
   "version": "2.7.6"
  }
 },
 "nbformat": 4,
 "nbformat_minor": 0
}
