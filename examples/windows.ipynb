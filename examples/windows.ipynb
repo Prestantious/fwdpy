{
 "cells": [
  {
   "cell_type": "markdown",
   "metadata": {},
   "source": [
    "# Sliding windows\n",
    "\n",
    "This is an example of running a simulation and getting a set of sliding windows from the output"
   ]
  },
  {
   "cell_type": "code",
   "execution_count": 1,
   "metadata": {
    "collapsed": true
   },
   "outputs": [],
   "source": [
    "#import our modules\n",
    "import fwdpy as fp\n",
    "import fwdpy.libseq as lseq\n",
    "import numpy as np"
   ]
  },
  {
   "cell_type": "code",
   "execution_count": 2,
   "metadata": {
    "collapsed": false
   },
   "outputs": [],
   "source": [
    "#set up our sim\n",
    "rng = fp.GSLrng(101)\n",
    "nregions = [fp.Region(0,1,1),fp.Region(2,3,1)]\n",
    "sregions = [fp.ExpS(1,2,1,-0.1),fp.ExpS(1,2,0.1,0.001)]\n",
    "rregions = [fp.Region(0,3,1)]\n",
    "popsizes = np.array([1000]*10000,dtype=np.uint32)"
   ]
  },
  {
   "cell_type": "code",
   "execution_count": 3,
   "metadata": {
    "collapsed": true
   },
   "outputs": [],
   "source": [
    "#Run the sim\n",
    "pops = fp.evolve_regions(rng,4,1000,popsizes[0:],0.001,0.0001,0.001,nregions,sregions,rregions)"
   ]
  },
  {
   "cell_type": "code",
   "execution_count": 4,
   "metadata": {
    "collapsed": true
   },
   "outputs": [],
   "source": [
    "#Take samples from the simulation\n",
    "samples = [fp.get_samples(rng,i,20) for i in pops]"
   ]
  },
  {
   "cell_type": "markdown",
   "metadata": {},
   "source": [
    "## Calculating sliding windows"
   ]
  },
  {
   "cell_type": "code",
   "execution_count": 5,
   "metadata": {
    "collapsed": false
   },
   "outputs": [],
   "source": [
    "#For each of the neutral mutations in each sample, we will split\n",
    "#the samples up into non-overlapping windows of size 0.1\n",
    "windows = [fp.windows(i[0],0.1,0.1,0.) for i in samples]"
   ]
  },
  {
   "cell_type": "markdown",
   "metadata": {},
   "source": [
    "### Summary stats from each window"
   ]
  },
  {
   "cell_type": "code",
   "execution_count": 6,
   "metadata": {
    "collapsed": false
   },
   "outputs": [],
   "source": [
    "#For each window in each sample, get the basic summary statistics\n",
    "stats = [[lseq.summstats(i) for i in j] for j in windows]"
   ]
  },
  {
   "cell_type": "markdown",
   "metadata": {},
   "source": [
    "Printing these outputs will be messy.  Let's just look at the first one. We'll help ourselves by printing out the window boundaries.\n",
    "\n",
    "Note the limitation in the output:\n",
    "* Our simulation positions (defined above) are the half-open interval $[0,3)$.\n",
    "* In the output below, the last window is $[2.8,2.9)$.\n",
    "* The final empty window, $[2.9,3.0)$, is missing due to a limitation in libsequence that I'll need to fix soon."
   ]
  },
  {
   "cell_type": "code",
   "execution_count": 7,
   "metadata": {
    "collapsed": false,
    "scrolled": true
   },
   "outputs": [
    {
     "name": "stdout",
     "output_type": "stream",
     "text": [
      "0.0  to  0.1 :  {'thetapi': 0.0, 'dsingletons': 0.0, 'S': 0.0, 'tajd': nan, 'singletons': 0.0, 'thetah': 0.0, 'hprime': nan, 'thetaw': 0.0}\n",
      "0.1  to  0.2 :  {'thetapi': 0.0, 'dsingletons': 0.0, 'S': 0.0, 'tajd': nan, 'singletons': 0.0, 'thetah': 0.0, 'hprime': nan, 'thetaw': 0.0}\n",
      "0.2  to  0.3 :  {'thetapi': 0.0, 'dsingletons': 0.0, 'S': 0.0, 'tajd': nan, 'singletons': 0.0, 'thetah': 0.0, 'hprime': nan, 'thetaw': 0.0}\n",
      "0.3  to  0.4 :  {'thetapi': 0.39473684210526316, 'dsingletons': 0.0, 'S': 1.0, 'tajd': 0.7226143606182066, 'singletons': 0.0, 'thetah': 1.1842105263157894, 'hprime': -1.8711116674803954, 'thetaw': 0.28186961182070197}\n",
      "0.4  to  0.5 :  {'thetapi': 0.0, 'dsingletons': 0.0, 'S': 0.0, 'tajd': nan, 'singletons': 0.0, 'thetah': 0.0, 'hprime': nan, 'thetaw': 0.0}\n",
      "0.5  to  0.6 :  {'thetapi': 0.0, 'dsingletons': 0.0, 'S': 0.0, 'tajd': nan, 'singletons': 0.0, 'thetah': 0.0, 'hprime': nan, 'thetaw': 0.0}\n",
      "0.6  to  0.7 :  {'thetapi': 0.0, 'dsingletons': 0.0, 'S': 0.0, 'tajd': nan, 'singletons': 0.0, 'thetah': 0.0, 'hprime': nan, 'thetaw': 0.0}\n",
      "0.7  to  0.8 :  {'thetapi': 0.0, 'dsingletons': 0.0, 'S': 0.0, 'tajd': nan, 'singletons': 0.0, 'thetah': 0.0, 'hprime': nan, 'thetaw': 0.0}\n",
      "0.8  to  0.9 :  {'thetapi': 0.1, 'dsingletons': 1.0, 'S': 1.0, 'tajd': -1.1643910542533689, 'singletons': 1.0, 'thetah': 0.005263157894736842, 'hprime': 0.22453340009764747, 'thetaw': 0.28186961182070197}\n",
      "0.9  to  1.0 :  {'thetapi': 0.1, 'dsingletons': 1.0, 'S': 1.0, 'tajd': -1.1643910542533689, 'singletons': 1.0, 'thetah': 0.005263157894736842, 'hprime': 0.22453340009764747, 'thetaw': 0.28186961182070197}\n",
      "1.0  to  1.1 :  {'thetapi': 0.0, 'dsingletons': 0.0, 'S': 0.0, 'tajd': nan, 'singletons': 0.0, 'thetah': 0.0, 'hprime': nan, 'thetaw': 0.0}\n",
      "1.1  to  1.2 :  {'thetapi': 0.0, 'dsingletons': 0.0, 'S': 0.0, 'tajd': nan, 'singletons': 0.0, 'thetah': 0.0, 'hprime': nan, 'thetaw': 0.0}\n",
      "1.2  to  1.3 :  {'thetapi': 0.0, 'dsingletons': 0.0, 'S': 0.0, 'tajd': nan, 'singletons': 0.0, 'thetah': 0.0, 'hprime': nan, 'thetaw': 0.0}\n",
      "1.3  to  1.4 :  {'thetapi': 0.0, 'dsingletons': 0.0, 'S': 0.0, 'tajd': nan, 'singletons': 0.0, 'thetah': 0.0, 'hprime': nan, 'thetaw': 0.0}\n",
      "1.4  to  1.5 :  {'thetapi': 0.0, 'dsingletons': 0.0, 'S': 0.0, 'tajd': nan, 'singletons': 0.0, 'thetah': 0.0, 'hprime': nan, 'thetaw': 0.0}\n",
      "1.5  to  1.6 :  {'thetapi': 0.0, 'dsingletons': 0.0, 'S': 0.0, 'tajd': nan, 'singletons': 0.0, 'thetah': 0.0, 'hprime': nan, 'thetaw': 0.0}\n",
      "1.6  to  1.7 :  {'thetapi': 0.0, 'dsingletons': 0.0, 'S': 0.0, 'tajd': nan, 'singletons': 0.0, 'thetah': 0.0, 'hprime': nan, 'thetaw': 0.0}\n",
      "1.7  to  1.8 :  {'thetapi': 0.0, 'dsingletons': 0.0, 'S': 0.0, 'tajd': nan, 'singletons': 0.0, 'thetah': 0.0, 'hprime': nan, 'thetaw': 0.0}\n",
      "1.8  to  1.9 :  {'thetapi': 0.0, 'dsingletons': 0.0, 'S': 0.0, 'tajd': nan, 'singletons': 0.0, 'thetah': 0.0, 'hprime': nan, 'thetaw': 0.0}\n",
      "1.9  to  2.0 :  {'thetapi': 0.0, 'dsingletons': 0.0, 'S': 0.0, 'tajd': nan, 'singletons': 0.0, 'thetah': 0.0, 'hprime': nan, 'thetaw': 0.0}\n",
      "2.0  to  2.1 :  {'thetapi': 0.1, 'dsingletons': 1.0, 'S': 1.0, 'tajd': -1.1643910542533689, 'singletons': 1.0, 'thetah': 0.005263157894736842, 'hprime': 0.22453340009764747, 'thetaw': 0.28186961182070197}\n",
      "2.1  to  2.2 :  {'thetapi': 0.2, 'dsingletons': 2.0, 'S': 2.0, 'tajd': -1.5128356903928148, 'singletons': 2.0, 'thetah': 0.010526315789473684, 'hprime': 0.299198956808438, 'thetaw': 0.5637392236414039}\n",
      "2.2  to  2.3 :  {'thetapi': 0.1, 'dsingletons': 1.0, 'S': 1.0, 'tajd': -1.1643910542533689, 'singletons': 1.0, 'thetah': 0.005263157894736842, 'hprime': 0.22453340009764747, 'thetaw': 0.28186961182070197}\n",
      "2.3  to  2.4 :  {'thetapi': 0.1, 'dsingletons': 1.0, 'S': 1.0, 'tajd': -1.1643910542533689, 'singletons': 1.0, 'thetah': 0.005263157894736842, 'hprime': 0.22453340009764747, 'thetaw': 0.28186961182070197}\n",
      "2.4  to  2.5 :  {'thetapi': 0.0, 'dsingletons': 0.0, 'S': 0.0, 'tajd': nan, 'singletons': 0.0, 'thetah': 0.0, 'hprime': nan, 'thetaw': 0.0}\n",
      "2.5  to  2.6 :  {'thetapi': 0.1, 'dsingletons': 1.0, 'S': 1.0, 'tajd': -1.1643910542533689, 'singletons': 1.0, 'thetah': 0.005263157894736842, 'hprime': 0.22453340009764747, 'thetaw': 0.28186961182070197}\n",
      "2.6  to  2.7 :  {'thetapi': 0.0, 'dsingletons': 0.0, 'S': 0.0, 'tajd': nan, 'singletons': 0.0, 'thetah': 0.0, 'hprime': nan, 'thetaw': 0.0}\n",
      "2.7  to  2.8 :  {'thetapi': 0.0, 'dsingletons': 0.0, 'S': 0.0, 'tajd': nan, 'singletons': 0.0, 'thetah': 0.0, 'hprime': nan, 'thetaw': 0.0}\n",
      "2.8  to  2.9 :  {'thetapi': 0.1, 'dsingletons': 1.0, 'S': 1.0, 'tajd': -1.1643910542533689, 'singletons': 1.0, 'thetah': 0.005263157894736842, 'hprime': 0.22453340009764747, 'thetaw': 0.28186961182070197}\n"
     ]
    }
   ],
   "source": [
    "\n",
    "j=0\n",
    "for i in np.arange(0,3,0.1):\n",
    "    if j < len(stats[0]):\n",
    "        print i,\" to \",(i+0.1),\": \",stats[0][j]\n",
    "    j=j+1"
   ]
  }
 ],
 "metadata": {
  "kernelspec": {
   "display_name": "Python 2",
   "language": "python",
   "name": "python2"
  },
  "language_info": {
   "codemirror_mode": {
    "name": "ipython",
    "version": 2
   },
   "file_extension": ".py",
   "mimetype": "text/x-python",
   "name": "python",
   "nbconvert_exporter": "python",
   "pygments_lexer": "ipython2",
   "version": "2.7.6"
  }
 },
 "nbformat": 4,
 "nbformat_minor": 0
}
